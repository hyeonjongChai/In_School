{
 "cells": [
  {
   "cell_type": "code",
   "execution_count": 2,
   "metadata": {},
   "outputs": [
    {
     "data": {
      "text/plain": [
       "[[0, 0, 0, 0, 0, 0, 0], [0, 0, 0, 0, 0, 0, 0], [0, 0, 0, 0, 0, 0, 0]]"
      ]
     },
     "execution_count": 2,
     "metadata": {},
     "output_type": "execute_result"
    }
   ],
   "source": [
    "# from sys import stdin\n",
    "\n",
    "# pattern, txt = stdin.readline().split()\n",
    "# patLength = len(pattern)\n",
    "DFA = [[0] * 7] * 3\n",
    "DFA"
   ]
  },
  {
   "cell_type": "code",
   "execution_count": null,
   "metadata": {},
   "outputs": [],
   "source": [
    "\n",
    "def KMP(text):\n",
    "    txtLength = len(text)\n",
    "\n",
    "    endi = 0\n",
    "    j = 0\n",
    "    for i in range(txtLength+1):\n",
    "        endi = i\n",
    "        if j < patLength:\n",
    "            j = DFA[text[i][j]]\n",
    "            \n",
    "        else: break\n",
    "\n",
    "    if j == patLength:\n",
    "        return endi - patLength\n",
    "    else:\n",
    "        return -1\n",
    "\n",
    "def DFA[]"
   ]
  },
  {
   "cell_type": "code",
   "execution_count": null,
   "metadata": {},
   "outputs": [],
   "source": [
    "    DFA =  [[0 for i in range(3)] for j in range(7)]\n"
   ]
  }
 ],
 "metadata": {
  "interpreter": {
   "hash": "b0fa6594d8f4cbf19f97940f81e996739fb7646882a419484c72d19e05852a7e"
  },
  "kernelspec": {
   "display_name": "Python 3.9.7 64-bit",
   "name": "python3"
  },
  "language_info": {
   "codemirror_mode": {
    "name": "ipython",
    "version": 3
   },
   "file_extension": ".py",
   "mimetype": "text/x-python",
   "name": "python",
   "nbconvert_exporter": "python",
   "pygments_lexer": "ipython3",
   "version": "3.9.7"
  },
  "orig_nbformat": 4
 },
 "nbformat": 4,
 "nbformat_minor": 2
}
