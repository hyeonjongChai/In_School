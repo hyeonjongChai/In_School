{
 "cells": [
  {
   "cell_type": "markdown",
   "metadata": {},
   "source": [
    "학번: 20150962\n",
    "이름: 채현종"
   ]
  },
  {
   "cell_type": "code",
   "execution_count": 1,
   "metadata": {},
   "outputs": [],
   "source": [
    "%matplotlib inline\n",
    "import numpy as np\n",
    "import pandas as pd\n",
    "import matplotlib.pyplot as plt\n",
    "import seaborn as sns\n",
    "import pandas_datareader.data as web\n",
    "from datetime import datetime, date\n",
    "from sklearn.metrics import mean_squared_error, roc_auc_score\n",
    "from sklearn.preprocessing import minmax_scale\n",
    "from tensorflow.keras.callbacks import ModelCheckpoint, EarlyStopping\n",
    "import tensorflow.keras as keras\n",
    "import tensorflow as tf\n",
    "from tensorflow.keras import Sequential\n",
    "from tensorflow.keras.layers import Conv2D, Flatten, Dense, LSTM"
   ]
  },
  {
   "cell_type": "code",
   "execution_count": 2,
   "metadata": {},
   "outputs": [],
   "source": [
    "sns.set_style('whitegrid')\n",
    "np.random.seed(42)"
   ]
  },
  {
   "cell_type": "markdown",
   "metadata": {},
   "source": [
    "## 1. 주가데이터 불러오기. 5점\n",
    "kodex200 주가\n",
    "s069500.csv"
   ]
  },
  {
   "cell_type": "code",
   "execution_count": 3,
   "metadata": {},
   "outputs": [
    {
     "data": {
      "text/html": [
       "<div>\n",
       "<style scoped>\n",
       "    .dataframe tbody tr th:only-of-type {\n",
       "        vertical-align: middle;\n",
       "    }\n",
       "\n",
       "    .dataframe tbody tr th {\n",
       "        vertical-align: top;\n",
       "    }\n",
       "\n",
       "    .dataframe thead th {\n",
       "        text-align: right;\n",
       "    }\n",
       "</style>\n",
       "<table border=\"1\" class=\"dataframe\">\n",
       "  <thead>\n",
       "    <tr style=\"text-align: right;\">\n",
       "      <th></th>\n",
       "      <th>Date</th>\n",
       "      <th>Open</th>\n",
       "      <th>High</th>\n",
       "      <th>Low</th>\n",
       "      <th>Close</th>\n",
       "      <th>Volume</th>\n",
       "      <th>Change</th>\n",
       "    </tr>\n",
       "  </thead>\n",
       "  <tbody>\n",
       "    <tr>\n",
       "      <th>0</th>\n",
       "      <td>2010-01-04</td>\n",
       "      <td>18973</td>\n",
       "      <td>19119</td>\n",
       "      <td>18973</td>\n",
       "      <td>19100</td>\n",
       "      <td>883268</td>\n",
       "      <td>0.006057</td>\n",
       "    </tr>\n",
       "    <tr>\n",
       "      <th>1</th>\n",
       "      <td>2010-01-05</td>\n",
       "      <td>19155</td>\n",
       "      <td>19163</td>\n",
       "      <td>19028</td>\n",
       "      <td>19081</td>\n",
       "      <td>1781284</td>\n",
       "      <td>-0.000995</td>\n",
       "    </tr>\n",
       "    <tr>\n",
       "      <th>2</th>\n",
       "      <td>2010-01-06</td>\n",
       "      <td>19110</td>\n",
       "      <td>19243</td>\n",
       "      <td>19103</td>\n",
       "      <td>19214</td>\n",
       "      <td>962659</td>\n",
       "      <td>0.006970</td>\n",
       "    </tr>\n",
       "    <tr>\n",
       "      <th>3</th>\n",
       "      <td>2010-01-07</td>\n",
       "      <td>19203</td>\n",
       "      <td>19224</td>\n",
       "      <td>18965</td>\n",
       "      <td>18976</td>\n",
       "      <td>1250996</td>\n",
       "      <td>-0.012387</td>\n",
       "    </tr>\n",
       "    <tr>\n",
       "      <th>4</th>\n",
       "      <td>2010-01-08</td>\n",
       "      <td>19052</td>\n",
       "      <td>19060</td>\n",
       "      <td>18810</td>\n",
       "      <td>19048</td>\n",
       "      <td>1428088</td>\n",
       "      <td>0.003794</td>\n",
       "    </tr>\n",
       "  </tbody>\n",
       "</table>\n",
       "</div>"
      ],
      "text/plain": [
       "         Date   Open   High    Low  Close   Volume    Change\n",
       "0  2010-01-04  18973  19119  18973  19100   883268  0.006057\n",
       "1  2010-01-05  19155  19163  19028  19081  1781284 -0.000995\n",
       "2  2010-01-06  19110  19243  19103  19214   962659  0.006970\n",
       "3  2010-01-07  19203  19224  18965  18976  1250996 -0.012387\n",
       "4  2010-01-08  19052  19060  18810  19048  1428088  0.003794"
      ]
     },
     "execution_count": 3,
     "metadata": {},
     "output_type": "execute_result"
    }
   ],
   "source": [
    "kodex200 = pd.read_csv('C:/Users/yssg9187/Desktop/20-2/3. 응용자료분석/D_data/s069500.csv')\n",
    "kodex200.head()"
   ]
  },
  {
   "cell_type": "markdown",
   "metadata": {},
   "source": [
    "## 2. Close를 price로, Date를 day로 이름을 바꿉니다.5점"
   ]
  },
  {
   "cell_type": "code",
   "execution_count": 4,
   "metadata": {},
   "outputs": [
    {
     "data": {
      "text/plain": [
       "Index(['day', 'Open', 'High', 'Low', 'price', 'Volume', 'Change'], dtype='object')"
      ]
     },
     "execution_count": 4,
     "metadata": {},
     "output_type": "execute_result"
    }
   ],
   "source": [
    "kodex200 = kodex200.rename(columns={'Close':'price', 'Date':'day'})\n",
    "kodex200.columns"
   ]
  },
  {
   "cell_type": "markdown",
   "metadata": {},
   "source": [
    "## 3. Open, High, Low, Volumn, Change를 지웁니다. 5점"
   ]
  },
  {
   "cell_type": "code",
   "execution_count": 5,
   "metadata": {},
   "outputs": [
    {
     "data": {
      "text/plain": [
       "Index(['day', 'price'], dtype='object')"
      ]
     },
     "execution_count": 5,
     "metadata": {},
     "output_type": "execute_result"
    }
   ],
   "source": [
    "kodex200 = kodex200.drop(['Open', 'High', 'Low', 'Volume', 'Change'], axis=1)\n",
    "kodex200.columns"
   ]
  },
  {
   "cell_type": "markdown",
   "metadata": {},
   "source": [
    "## 4. day를 index로 지정합니다. 5점"
   ]
  },
  {
   "cell_type": "code",
   "execution_count": 6,
   "metadata": {},
   "outputs": [],
   "source": [
    "kodex200 = kodex200.set_index('day')"
   ]
  },
  {
   "cell_type": "markdown",
   "metadata": {},
   "source": [
    "## 5. 최소값0, 최대값 1로 스케일을 조정합니다. 10점"
   ]
  },
  {
   "cell_type": "code",
   "execution_count": 7,
   "metadata": {},
   "outputs": [],
   "source": [
    "kodex200_scaled = kodex200.apply(minmax_scale)"
   ]
  },
  {
   "cell_type": "markdown",
   "metadata": {},
   "source": [
    "## 6. 63일간의 거래데이터를 이용하여 그 다음날 주가를 예측하고자 합니다. 이에 필요한 x data와 y data를 구성합니다. 10점"
   ]
  },
  {
   "cell_type": "code",
   "execution_count": 8,
   "metadata": {},
   "outputs": [],
   "source": [
    "def create_univariate_rnn_data(data, window_size):\n",
    "    y = data[window_size:]\n",
    "    data = data.values.reshape(-1, 1) # make 2D\n",
    "    n = data.shape[0]\n",
    "    X = np.hstack(tuple([data[i: n-j, :] for i, j in enumerate(range(window_size, 0, -1))]))\n",
    "    return pd.DataFrame(X, index=y.index), y"
   ]
  },
  {
   "cell_type": "code",
   "execution_count": 9,
   "metadata": {},
   "outputs": [],
   "source": [
    "window_size = 63"
   ]
  },
  {
   "cell_type": "code",
   "execution_count": 10,
   "metadata": {},
   "outputs": [],
   "source": [
    "X, y = create_univariate_rnn_data(kodex200_scaled, window_size=window_size)"
   ]
  },
  {
   "cell_type": "code",
   "execution_count": 11,
   "metadata": {},
   "outputs": [
    {
     "data": {
      "text/html": [
       "<div>\n",
       "<style scoped>\n",
       "    .dataframe tbody tr th:only-of-type {\n",
       "        vertical-align: middle;\n",
       "    }\n",
       "\n",
       "    .dataframe tbody tr th {\n",
       "        vertical-align: top;\n",
       "    }\n",
       "\n",
       "    .dataframe thead th {\n",
       "        text-align: right;\n",
       "    }\n",
       "</style>\n",
       "<table border=\"1\" class=\"dataframe\">\n",
       "  <thead>\n",
       "    <tr style=\"text-align: right;\">\n",
       "      <th></th>\n",
       "      <th>0</th>\n",
       "      <th>1</th>\n",
       "      <th>2</th>\n",
       "      <th>3</th>\n",
       "      <th>4</th>\n",
       "      <th>5</th>\n",
       "      <th>6</th>\n",
       "      <th>7</th>\n",
       "      <th>8</th>\n",
       "      <th>9</th>\n",
       "      <th>...</th>\n",
       "      <th>53</th>\n",
       "      <th>54</th>\n",
       "      <th>55</th>\n",
       "      <th>56</th>\n",
       "      <th>57</th>\n",
       "      <th>58</th>\n",
       "      <th>59</th>\n",
       "      <th>60</th>\n",
       "      <th>61</th>\n",
       "      <th>62</th>\n",
       "    </tr>\n",
       "    <tr>\n",
       "      <th>day</th>\n",
       "      <th></th>\n",
       "      <th></th>\n",
       "      <th></th>\n",
       "      <th></th>\n",
       "      <th></th>\n",
       "      <th></th>\n",
       "      <th></th>\n",
       "      <th></th>\n",
       "      <th></th>\n",
       "      <th></th>\n",
       "      <th></th>\n",
       "      <th></th>\n",
       "      <th></th>\n",
       "      <th></th>\n",
       "      <th></th>\n",
       "      <th></th>\n",
       "      <th></th>\n",
       "      <th></th>\n",
       "      <th></th>\n",
       "      <th></th>\n",
       "      <th></th>\n",
       "    </tr>\n",
       "  </thead>\n",
       "  <tbody>\n",
       "    <tr>\n",
       "      <th>2010-04-05</th>\n",
       "      <td>0.110301</td>\n",
       "      <td>0.109018</td>\n",
       "      <td>0.117996</td>\n",
       "      <td>0.101931</td>\n",
       "      <td>0.106791</td>\n",
       "      <td>0.106791</td>\n",
       "      <td>0.108208</td>\n",
       "      <td>0.087350</td>\n",
       "      <td>0.102201</td>\n",
       "      <td>0.108208</td>\n",
       "      <td>...</td>\n",
       "      <td>0.081139</td>\n",
       "      <td>0.093898</td>\n",
       "      <td>0.093898</td>\n",
       "      <td>0.095518</td>\n",
       "      <td>0.102538</td>\n",
       "      <td>0.099433</td>\n",
       "      <td>0.107736</td>\n",
       "      <td>0.102876</td>\n",
       "      <td>0.123329</td>\n",
       "      <td>0.128865</td>\n",
       "    </tr>\n",
       "    <tr>\n",
       "      <th>2010-04-06</th>\n",
       "      <td>0.109018</td>\n",
       "      <td>0.117996</td>\n",
       "      <td>0.101931</td>\n",
       "      <td>0.106791</td>\n",
       "      <td>0.106791</td>\n",
       "      <td>0.108208</td>\n",
       "      <td>0.087350</td>\n",
       "      <td>0.102201</td>\n",
       "      <td>0.108208</td>\n",
       "      <td>0.114689</td>\n",
       "      <td>...</td>\n",
       "      <td>0.093898</td>\n",
       "      <td>0.093898</td>\n",
       "      <td>0.095518</td>\n",
       "      <td>0.102538</td>\n",
       "      <td>0.099433</td>\n",
       "      <td>0.107736</td>\n",
       "      <td>0.102876</td>\n",
       "      <td>0.123329</td>\n",
       "      <td>0.128865</td>\n",
       "      <td>0.135952</td>\n",
       "    </tr>\n",
       "    <tr>\n",
       "      <th>2010-04-07</th>\n",
       "      <td>0.117996</td>\n",
       "      <td>0.101931</td>\n",
       "      <td>0.106791</td>\n",
       "      <td>0.106791</td>\n",
       "      <td>0.108208</td>\n",
       "      <td>0.087350</td>\n",
       "      <td>0.102201</td>\n",
       "      <td>0.108208</td>\n",
       "      <td>0.114689</td>\n",
       "      <td>0.115836</td>\n",
       "      <td>...</td>\n",
       "      <td>0.093898</td>\n",
       "      <td>0.095518</td>\n",
       "      <td>0.102538</td>\n",
       "      <td>0.099433</td>\n",
       "      <td>0.107736</td>\n",
       "      <td>0.102876</td>\n",
       "      <td>0.123329</td>\n",
       "      <td>0.128865</td>\n",
       "      <td>0.135952</td>\n",
       "      <td>0.136493</td>\n",
       "    </tr>\n",
       "    <tr>\n",
       "      <th>2010-04-08</th>\n",
       "      <td>0.101931</td>\n",
       "      <td>0.106791</td>\n",
       "      <td>0.106791</td>\n",
       "      <td>0.108208</td>\n",
       "      <td>0.087350</td>\n",
       "      <td>0.102201</td>\n",
       "      <td>0.108208</td>\n",
       "      <td>0.114689</td>\n",
       "      <td>0.115836</td>\n",
       "      <td>0.117321</td>\n",
       "      <td>...</td>\n",
       "      <td>0.095518</td>\n",
       "      <td>0.102538</td>\n",
       "      <td>0.099433</td>\n",
       "      <td>0.107736</td>\n",
       "      <td>0.102876</td>\n",
       "      <td>0.123329</td>\n",
       "      <td>0.128865</td>\n",
       "      <td>0.135952</td>\n",
       "      <td>0.136493</td>\n",
       "      <td>0.134197</td>\n",
       "    </tr>\n",
       "    <tr>\n",
       "      <th>2010-04-09</th>\n",
       "      <td>0.106791</td>\n",
       "      <td>0.106791</td>\n",
       "      <td>0.108208</td>\n",
       "      <td>0.087350</td>\n",
       "      <td>0.102201</td>\n",
       "      <td>0.108208</td>\n",
       "      <td>0.114689</td>\n",
       "      <td>0.115836</td>\n",
       "      <td>0.117321</td>\n",
       "      <td>0.128460</td>\n",
       "      <td>...</td>\n",
       "      <td>0.102538</td>\n",
       "      <td>0.099433</td>\n",
       "      <td>0.107736</td>\n",
       "      <td>0.102876</td>\n",
       "      <td>0.123329</td>\n",
       "      <td>0.128865</td>\n",
       "      <td>0.135952</td>\n",
       "      <td>0.136493</td>\n",
       "      <td>0.134197</td>\n",
       "      <td>0.137235</td>\n",
       "    </tr>\n",
       "    <tr>\n",
       "      <th>...</th>\n",
       "      <td>...</td>\n",
       "      <td>...</td>\n",
       "      <td>...</td>\n",
       "      <td>...</td>\n",
       "      <td>...</td>\n",
       "      <td>...</td>\n",
       "      <td>...</td>\n",
       "      <td>...</td>\n",
       "      <td>...</td>\n",
       "      <td>...</td>\n",
       "      <td>...</td>\n",
       "      <td>...</td>\n",
       "      <td>...</td>\n",
       "      <td>...</td>\n",
       "      <td>...</td>\n",
       "      <td>...</td>\n",
       "      <td>...</td>\n",
       "      <td>...</td>\n",
       "      <td>...</td>\n",
       "      <td>...</td>\n",
       "      <td>...</td>\n",
       "    </tr>\n",
       "    <tr>\n",
       "      <th>2020-10-20</th>\n",
       "      <td>0.775348</td>\n",
       "      <td>0.790198</td>\n",
       "      <td>0.785473</td>\n",
       "      <td>0.814095</td>\n",
       "      <td>0.806669</td>\n",
       "      <td>0.794924</td>\n",
       "      <td>0.784123</td>\n",
       "      <td>0.802957</td>\n",
       "      <td>0.844404</td>\n",
       "      <td>0.854867</td>\n",
       "      <td>...</td>\n",
       "      <td>0.942284</td>\n",
       "      <td>0.947010</td>\n",
       "      <td>0.967598</td>\n",
       "      <td>0.968273</td>\n",
       "      <td>0.977049</td>\n",
       "      <td>0.978736</td>\n",
       "      <td>0.957473</td>\n",
       "      <td>0.941609</td>\n",
       "      <td>0.929121</td>\n",
       "      <td>0.933846</td>\n",
       "    </tr>\n",
       "    <tr>\n",
       "      <th>2020-10-21</th>\n",
       "      <td>0.790198</td>\n",
       "      <td>0.785473</td>\n",
       "      <td>0.814095</td>\n",
       "      <td>0.806669</td>\n",
       "      <td>0.794924</td>\n",
       "      <td>0.784123</td>\n",
       "      <td>0.802957</td>\n",
       "      <td>0.844404</td>\n",
       "      <td>0.854867</td>\n",
       "      <td>0.857567</td>\n",
       "      <td>...</td>\n",
       "      <td>0.947010</td>\n",
       "      <td>0.967598</td>\n",
       "      <td>0.968273</td>\n",
       "      <td>0.977049</td>\n",
       "      <td>0.978736</td>\n",
       "      <td>0.957473</td>\n",
       "      <td>0.941609</td>\n",
       "      <td>0.929121</td>\n",
       "      <td>0.933846</td>\n",
       "      <td>0.948697</td>\n",
       "    </tr>\n",
       "    <tr>\n",
       "      <th>2020-10-22</th>\n",
       "      <td>0.785473</td>\n",
       "      <td>0.814095</td>\n",
       "      <td>0.806669</td>\n",
       "      <td>0.794924</td>\n",
       "      <td>0.784123</td>\n",
       "      <td>0.802957</td>\n",
       "      <td>0.844404</td>\n",
       "      <td>0.854867</td>\n",
       "      <td>0.857567</td>\n",
       "      <td>0.841366</td>\n",
       "      <td>...</td>\n",
       "      <td>0.967598</td>\n",
       "      <td>0.968273</td>\n",
       "      <td>0.977049</td>\n",
       "      <td>0.978736</td>\n",
       "      <td>0.957473</td>\n",
       "      <td>0.941609</td>\n",
       "      <td>0.929121</td>\n",
       "      <td>0.933846</td>\n",
       "      <td>0.948697</td>\n",
       "      <td>0.955448</td>\n",
       "    </tr>\n",
       "    <tr>\n",
       "      <th>2020-10-23</th>\n",
       "      <td>0.814095</td>\n",
       "      <td>0.806669</td>\n",
       "      <td>0.794924</td>\n",
       "      <td>0.784123</td>\n",
       "      <td>0.802957</td>\n",
       "      <td>0.844404</td>\n",
       "      <td>0.854867</td>\n",
       "      <td>0.857567</td>\n",
       "      <td>0.841366</td>\n",
       "      <td>0.841366</td>\n",
       "      <td>...</td>\n",
       "      <td>0.968273</td>\n",
       "      <td>0.977049</td>\n",
       "      <td>0.978736</td>\n",
       "      <td>0.957473</td>\n",
       "      <td>0.941609</td>\n",
       "      <td>0.929121</td>\n",
       "      <td>0.933846</td>\n",
       "      <td>0.948697</td>\n",
       "      <td>0.955448</td>\n",
       "      <td>0.940934</td>\n",
       "    </tr>\n",
       "    <tr>\n",
       "      <th>2020-10-26</th>\n",
       "      <td>0.806669</td>\n",
       "      <td>0.794924</td>\n",
       "      <td>0.784123</td>\n",
       "      <td>0.802957</td>\n",
       "      <td>0.844404</td>\n",
       "      <td>0.854867</td>\n",
       "      <td>0.857567</td>\n",
       "      <td>0.841366</td>\n",
       "      <td>0.841366</td>\n",
       "      <td>0.865668</td>\n",
       "      <td>...</td>\n",
       "      <td>0.977049</td>\n",
       "      <td>0.978736</td>\n",
       "      <td>0.957473</td>\n",
       "      <td>0.941609</td>\n",
       "      <td>0.929121</td>\n",
       "      <td>0.933846</td>\n",
       "      <td>0.948697</td>\n",
       "      <td>0.955448</td>\n",
       "      <td>0.940934</td>\n",
       "      <td>0.948697</td>\n",
       "    </tr>\n",
       "  </tbody>\n",
       "</table>\n",
       "<p>2605 rows × 63 columns</p>\n",
       "</div>"
      ],
      "text/plain": [
       "                  0         1         2         3         4         5   \\\n",
       "day                                                                      \n",
       "2010-04-05  0.110301  0.109018  0.117996  0.101931  0.106791  0.106791   \n",
       "2010-04-06  0.109018  0.117996  0.101931  0.106791  0.106791  0.108208   \n",
       "2010-04-07  0.117996  0.101931  0.106791  0.106791  0.108208  0.087350   \n",
       "2010-04-08  0.101931  0.106791  0.106791  0.108208  0.087350  0.102201   \n",
       "2010-04-09  0.106791  0.106791  0.108208  0.087350  0.102201  0.108208   \n",
       "...              ...       ...       ...       ...       ...       ...   \n",
       "2020-10-20  0.775348  0.790198  0.785473  0.814095  0.806669  0.794924   \n",
       "2020-10-21  0.790198  0.785473  0.814095  0.806669  0.794924  0.784123   \n",
       "2020-10-22  0.785473  0.814095  0.806669  0.794924  0.784123  0.802957   \n",
       "2020-10-23  0.814095  0.806669  0.794924  0.784123  0.802957  0.844404   \n",
       "2020-10-26  0.806669  0.794924  0.784123  0.802957  0.844404  0.854867   \n",
       "\n",
       "                  6         7         8         9   ...        53        54  \\\n",
       "day                                                 ...                       \n",
       "2010-04-05  0.108208  0.087350  0.102201  0.108208  ...  0.081139  0.093898   \n",
       "2010-04-06  0.087350  0.102201  0.108208  0.114689  ...  0.093898  0.093898   \n",
       "2010-04-07  0.102201  0.108208  0.114689  0.115836  ...  0.093898  0.095518   \n",
       "2010-04-08  0.108208  0.114689  0.115836  0.117321  ...  0.095518  0.102538   \n",
       "2010-04-09  0.114689  0.115836  0.117321  0.128460  ...  0.102538  0.099433   \n",
       "...              ...       ...       ...       ...  ...       ...       ...   \n",
       "2020-10-20  0.784123  0.802957  0.844404  0.854867  ...  0.942284  0.947010   \n",
       "2020-10-21  0.802957  0.844404  0.854867  0.857567  ...  0.947010  0.967598   \n",
       "2020-10-22  0.844404  0.854867  0.857567  0.841366  ...  0.967598  0.968273   \n",
       "2020-10-23  0.854867  0.857567  0.841366  0.841366  ...  0.968273  0.977049   \n",
       "2020-10-26  0.857567  0.841366  0.841366  0.865668  ...  0.977049  0.978736   \n",
       "\n",
       "                  55        56        57        58        59        60  \\\n",
       "day                                                                      \n",
       "2010-04-05  0.093898  0.095518  0.102538  0.099433  0.107736  0.102876   \n",
       "2010-04-06  0.095518  0.102538  0.099433  0.107736  0.102876  0.123329   \n",
       "2010-04-07  0.102538  0.099433  0.107736  0.102876  0.123329  0.128865   \n",
       "2010-04-08  0.099433  0.107736  0.102876  0.123329  0.128865  0.135952   \n",
       "2010-04-09  0.107736  0.102876  0.123329  0.128865  0.135952  0.136493   \n",
       "...              ...       ...       ...       ...       ...       ...   \n",
       "2020-10-20  0.967598  0.968273  0.977049  0.978736  0.957473  0.941609   \n",
       "2020-10-21  0.968273  0.977049  0.978736  0.957473  0.941609  0.929121   \n",
       "2020-10-22  0.977049  0.978736  0.957473  0.941609  0.929121  0.933846   \n",
       "2020-10-23  0.978736  0.957473  0.941609  0.929121  0.933846  0.948697   \n",
       "2020-10-26  0.957473  0.941609  0.929121  0.933846  0.948697  0.955448   \n",
       "\n",
       "                  61        62  \n",
       "day                             \n",
       "2010-04-05  0.123329  0.128865  \n",
       "2010-04-06  0.128865  0.135952  \n",
       "2010-04-07  0.135952  0.136493  \n",
       "2010-04-08  0.136493  0.134197  \n",
       "2010-04-09  0.134197  0.137235  \n",
       "...              ...       ...  \n",
       "2020-10-20  0.929121  0.933846  \n",
       "2020-10-21  0.933846  0.948697  \n",
       "2020-10-22  0.948697  0.955448  \n",
       "2020-10-23  0.955448  0.940934  \n",
       "2020-10-26  0.940934  0.948697  \n",
       "\n",
       "[2605 rows x 63 columns]"
      ]
     },
     "execution_count": 11,
     "metadata": {},
     "output_type": "execute_result"
    }
   ],
   "source": [
    "X"
   ]
  },
  {
   "cell_type": "code",
   "execution_count": 12,
   "metadata": {},
   "outputs": [
    {
     "data": {
      "text/html": [
       "<div>\n",
       "<style scoped>\n",
       "    .dataframe tbody tr th:only-of-type {\n",
       "        vertical-align: middle;\n",
       "    }\n",
       "\n",
       "    .dataframe tbody tr th {\n",
       "        vertical-align: top;\n",
       "    }\n",
       "\n",
       "    .dataframe thead th {\n",
       "        text-align: right;\n",
       "    }\n",
       "</style>\n",
       "<table border=\"1\" class=\"dataframe\">\n",
       "  <thead>\n",
       "    <tr style=\"text-align: right;\">\n",
       "      <th></th>\n",
       "      <th>price</th>\n",
       "    </tr>\n",
       "    <tr>\n",
       "      <th>day</th>\n",
       "      <th></th>\n",
       "    </tr>\n",
       "  </thead>\n",
       "  <tbody>\n",
       "    <tr>\n",
       "      <th>2010-04-05</th>\n",
       "      <td>0.135952</td>\n",
       "    </tr>\n",
       "    <tr>\n",
       "      <th>2010-04-06</th>\n",
       "      <td>0.136493</td>\n",
       "    </tr>\n",
       "    <tr>\n",
       "      <th>2010-04-07</th>\n",
       "      <td>0.134197</td>\n",
       "    </tr>\n",
       "    <tr>\n",
       "      <th>2010-04-08</th>\n",
       "      <td>0.137235</td>\n",
       "    </tr>\n",
       "    <tr>\n",
       "      <th>2010-04-09</th>\n",
       "      <td>0.131362</td>\n",
       "    </tr>\n",
       "    <tr>\n",
       "      <th>...</th>\n",
       "      <td>...</td>\n",
       "    </tr>\n",
       "    <tr>\n",
       "      <th>2020-10-20</th>\n",
       "      <td>0.948697</td>\n",
       "    </tr>\n",
       "    <tr>\n",
       "      <th>2020-10-21</th>\n",
       "      <td>0.955448</td>\n",
       "    </tr>\n",
       "    <tr>\n",
       "      <th>2020-10-22</th>\n",
       "      <td>0.940934</td>\n",
       "    </tr>\n",
       "    <tr>\n",
       "      <th>2020-10-23</th>\n",
       "      <td>0.948697</td>\n",
       "    </tr>\n",
       "    <tr>\n",
       "      <th>2020-10-26</th>\n",
       "      <td>0.944647</td>\n",
       "    </tr>\n",
       "  </tbody>\n",
       "</table>\n",
       "<p>2605 rows × 1 columns</p>\n",
       "</div>"
      ],
      "text/plain": [
       "               price\n",
       "day                 \n",
       "2010-04-05  0.135952\n",
       "2010-04-06  0.136493\n",
       "2010-04-07  0.134197\n",
       "2010-04-08  0.137235\n",
       "2010-04-09  0.131362\n",
       "...              ...\n",
       "2020-10-20  0.948697\n",
       "2020-10-21  0.955448\n",
       "2020-10-22  0.940934\n",
       "2020-10-23  0.948697\n",
       "2020-10-26  0.944647\n",
       "\n",
       "[2605 rows x 1 columns]"
      ]
     },
     "execution_count": 12,
     "metadata": {},
     "output_type": "execute_result"
    }
   ],
   "source": [
    "y"
   ]
  },
  {
   "cell_type": "markdown",
   "metadata": {},
   "source": [
    "## 7. 2019년까지의 데이터는 train data, 2020년 데이터는 test data로 구분합니다. 10점"
   ]
  },
  {
   "cell_type": "code",
   "execution_count": 13,
   "metadata": {},
   "outputs": [],
   "source": [
    "X_train = X[:'2020'].values.reshape(-1, window_size, 1)\n",
    "y_train = y[:'2020']"
   ]
  },
  {
   "cell_type": "code",
   "execution_count": 14,
   "metadata": {},
   "outputs": [
    {
     "data": {
      "text/plain": [
       "(2403, 63, 1)"
      ]
     },
     "execution_count": 14,
     "metadata": {},
     "output_type": "execute_result"
    }
   ],
   "source": [
    "X_train.shape"
   ]
  },
  {
   "cell_type": "code",
   "execution_count": 15,
   "metadata": {},
   "outputs": [
    {
     "data": {
      "text/plain": [
       "array([[[0.11030107],\n",
       "        [0.1090185 ],\n",
       "        [0.11799649],\n",
       "        ...,\n",
       "        [0.10287566],\n",
       "        [0.12332928],\n",
       "        [0.12886459]],\n",
       "\n",
       "       [[0.1090185 ],\n",
       "        [0.11799649],\n",
       "        [0.10193061],\n",
       "        ...,\n",
       "        [0.12332928],\n",
       "        [0.12886459],\n",
       "        [0.13595248]],\n",
       "\n",
       "       [[0.11799649],\n",
       "        [0.10193061],\n",
       "        [0.10679087],\n",
       "        ...,\n",
       "        [0.12886459],\n",
       "        [0.13595248],\n",
       "        [0.13649251]],\n",
       "\n",
       "       ...,\n",
       "\n",
       "       [[0.63196976],\n",
       "        [0.63527744],\n",
       "        [0.61610639],\n",
       "        ...,\n",
       "        [0.77480761],\n",
       "        [0.7744701 ],\n",
       "        [0.76198191]],\n",
       "\n",
       "       [[0.63527744],\n",
       "        [0.61610639],\n",
       "        [0.63129472],\n",
       "        ...,\n",
       "        [0.7744701 ],\n",
       "        [0.76198191],\n",
       "        [0.76987984]],\n",
       "\n",
       "       [[0.61610639],\n",
       "        [0.63129472],\n",
       "        [0.63561496],\n",
       "        ...,\n",
       "        [0.76198191],\n",
       "        [0.76987984],\n",
       "        [0.79836641]]])"
      ]
     },
     "execution_count": 15,
     "metadata": {},
     "output_type": "execute_result"
    }
   ],
   "source": [
    "X_train"
   ]
  },
  {
   "cell_type": "code",
   "execution_count": 16,
   "metadata": {},
   "outputs": [],
   "source": [
    "n_obs, window_size, n_features = X_train.shape"
   ]
  },
  {
   "cell_type": "code",
   "execution_count": 17,
   "metadata": {},
   "outputs": [
    {
     "data": {
      "text/plain": [
       "(2403, 1)"
      ]
     },
     "execution_count": 17,
     "metadata": {},
     "output_type": "execute_result"
    }
   ],
   "source": [
    "y_train.shape"
   ]
  },
  {
   "cell_type": "code",
   "execution_count": 18,
   "metadata": {},
   "outputs": [],
   "source": [
    "X_test = X['2020':].values.reshape(-1, window_size, 1)\n",
    "y_test = y['2020':]"
   ]
  },
  {
   "cell_type": "code",
   "execution_count": 19,
   "metadata": {},
   "outputs": [
    {
     "data": {
      "text/plain": [
       "(202, 63, 1)"
      ]
     },
     "execution_count": 19,
     "metadata": {},
     "output_type": "execute_result"
    }
   ],
   "source": [
    "X_test.shape"
   ]
  },
  {
   "cell_type": "code",
   "execution_count": 20,
   "metadata": {},
   "outputs": [
    {
     "data": {
      "text/plain": [
       "(202, 1)"
      ]
     },
     "execution_count": 20,
     "metadata": {},
     "output_type": "execute_result"
    }
   ],
   "source": [
    "y_test.shape"
   ]
  },
  {
   "cell_type": "markdown",
   "metadata": {},
   "source": [
    "## 8. Keras LSTM Layer를 이용기 위하여 hidden units을 30으로 합니다. 10점"
   ]
  },
  {
   "cell_type": "code",
   "execution_count": 21,
   "metadata": {},
   "outputs": [],
   "source": [
    "hidden_units=30\n",
    "\n",
    "rnn = Sequential([\n",
    "    LSTM(units=hidden_units, \n",
    "         input_shape=(window_size, n_features), name='LSTM'),\n",
    "    Dense(1, name='Output')\n",
    "])"
   ]
  },
  {
   "cell_type": "code",
   "execution_count": 22,
   "metadata": {},
   "outputs": [
    {
     "name": "stdout",
     "output_type": "stream",
     "text": [
      "Model: \"sequential\"\n",
      "_________________________________________________________________\n",
      "Layer (type)                 Output Shape              Param #   \n",
      "=================================================================\n",
      "LSTM (LSTM)                  (None, 30)                3840      \n",
      "_________________________________________________________________\n",
      "Output (Dense)               (None, 1)                 31        \n",
      "=================================================================\n",
      "Total params: 3,871\n",
      "Trainable params: 3,871\n",
      "Non-trainable params: 0\n",
      "_________________________________________________________________\n"
     ]
    }
   ],
   "source": [
    "rnn.summary()"
   ]
  },
  {
   "cell_type": "markdown",
   "metadata": {},
   "source": [
    "## 9. epochs는 50번, batch size는 30으로 지정하여 모델을 training 합니다. 10점"
   ]
  },
  {
   "cell_type": "code",
   "execution_count": 23,
   "metadata": {},
   "outputs": [
    {
     "name": "stdout",
     "output_type": "stream",
     "text": [
      "Epoch 1/50\n",
      "81/81 [==============================] - 3s 33ms/step - loss: 0.0043 - val_loss: 0.0053\n",
      "Epoch 2/50\n",
      "81/81 [==============================] - 2s 25ms/step - loss: 0.0012 - val_loss: 0.0053\n",
      "Epoch 3/50\n",
      "81/81 [==============================] - 2s 26ms/step - loss: 9.5526e-04 - val_loss: 0.0037\n",
      "Epoch 4/50\n",
      "81/81 [==============================] - 2s 26ms/step - loss: 8.2163e-04 - val_loss: 0.0061\n",
      "Epoch 5/50\n",
      "81/81 [==============================] - 2s 29ms/step - loss: 7.1090e-04 - val_loss: 0.0029\n",
      "Epoch 6/50\n",
      "81/81 [==============================] - 2s 24ms/step - loss: 6.3619e-04 - val_loss: 0.0024\n",
      "Epoch 7/50\n",
      "81/81 [==============================] - 3s 33ms/step - loss: 5.7341e-04 - val_loss: 0.0022\n",
      "Epoch 8/50\n",
      "81/81 [==============================] - 2s 29ms/step - loss: 5.2800e-04 - val_loss: 0.0039\n",
      "Epoch 9/50\n",
      "81/81 [==============================] - 2s 27ms/step - loss: 4.8854e-04 - val_loss: 0.0022\n",
      "Epoch 10/50\n",
      "81/81 [==============================] - 2s 28ms/step - loss: 4.4348e-04 - val_loss: 0.0021\n",
      "Epoch 11/50\n",
      "81/81 [==============================] - 2s 26ms/step - loss: 4.2769e-04 - val_loss: 0.0014\n",
      "Epoch 12/50\n",
      "81/81 [==============================] - 2s 26ms/step - loss: 4.0907e-04 - val_loss: 0.0019\n",
      "Epoch 13/50\n",
      "81/81 [==============================] - 2s 28ms/step - loss: 3.8248e-04 - val_loss: 0.0030\n",
      "Epoch 14/50\n",
      "81/81 [==============================] - 2s 25ms/step - loss: 3.7283e-04 - val_loss: 0.0014\n",
      "Epoch 15/50\n",
      "81/81 [==============================] - 2s 26ms/step - loss: 3.5665e-04 - val_loss: 0.0013\n",
      "Epoch 16/50\n",
      "81/81 [==============================] - 2s 29ms/step - loss: 3.4128e-04 - val_loss: 0.0016\n",
      "Epoch 17/50\n",
      "81/81 [==============================] - 2s 29ms/step - loss: 3.1800e-04 - val_loss: 0.0025\n",
      "Epoch 18/50\n",
      "81/81 [==============================] - 2s 28ms/step - loss: 3.2950e-04 - val_loss: 0.0013\n",
      "Epoch 19/50\n",
      "81/81 [==============================] - 2s 29ms/step - loss: 3.0570e-04 - val_loss: 0.0018\n",
      "Epoch 20/50\n",
      "81/81 [==============================] - 2s 29ms/step - loss: 3.1072e-04 - val_loss: 0.0020\n",
      "Epoch 21/50\n",
      "81/81 [==============================] - 2s 30ms/step - loss: 2.9894e-04 - val_loss: 0.0013\n",
      "Epoch 22/50\n",
      "81/81 [==============================] - 2s 29ms/step - loss: 3.0388e-04 - val_loss: 0.0011\n",
      "Epoch 23/50\n",
      "81/81 [==============================] - 2s 29ms/step - loss: 2.9765e-04 - val_loss: 0.0015\n",
      "Epoch 24/50\n",
      "81/81 [==============================] - 3s 32ms/step - loss: 2.8403e-04 - val_loss: 0.0016\n",
      "Epoch 25/50\n",
      "81/81 [==============================] - 2s 29ms/step - loss: 2.9218e-04 - val_loss: 0.0027\n",
      "Epoch 26/50\n",
      "81/81 [==============================] - 3s 33ms/step - loss: 2.9535e-04 - val_loss: 0.0011\n",
      "Epoch 27/50\n",
      "81/81 [==============================] - 2s 28ms/step - loss: 2.9258e-04 - val_loss: 0.0025\n",
      "Epoch 28/50\n",
      "81/81 [==============================] - 2s 29ms/step - loss: 2.9008e-04 - val_loss: 0.0013\n",
      "Epoch 29/50\n",
      "81/81 [==============================] - 2s 28ms/step - loss: 2.8042e-04 - val_loss: 0.0014\n",
      "Epoch 30/50\n",
      "81/81 [==============================] - 3s 31ms/step - loss: 2.8369e-04 - val_loss: 0.0013\n",
      "Epoch 31/50\n",
      "81/81 [==============================] - 2s 30ms/step - loss: 2.8196e-04 - val_loss: 0.0014\n",
      "Epoch 32/50\n",
      "81/81 [==============================] - 4s 46ms/step - loss: 2.8235e-04 - val_loss: 0.0021\n",
      "Epoch 33/50\n",
      "81/81 [==============================] - 3s 32ms/step - loss: 2.8351e-04 - val_loss: 0.0028\n",
      "Epoch 34/50\n",
      "81/81 [==============================] - 4s 43ms/step - loss: 2.9025e-04 - val_loss: 0.0016\n",
      "Epoch 35/50\n",
      "81/81 [==============================] - 2s 25ms/step - loss: 2.8540e-04 - val_loss: 0.0011\n",
      "Epoch 36/50\n",
      "81/81 [==============================] - 2s 29ms/step - loss: 2.7936e-04 - val_loss: 0.0011\n",
      "Epoch 37/50\n",
      "81/81 [==============================] - 2s 25ms/step - loss: 2.8008e-04 - val_loss: 0.0011\n",
      "Epoch 38/50\n",
      "81/81 [==============================] - 3s 34ms/step - loss: 2.7198e-04 - val_loss: 0.0012\n",
      "Epoch 39/50\n",
      "81/81 [==============================] - 3s 32ms/step - loss: 2.7478e-04 - val_loss: 0.0031\n",
      "Epoch 40/50\n",
      "81/81 [==============================] - 2s 31ms/step - loss: 2.7644e-04 - val_loss: 0.0011\n",
      "Epoch 41/50\n",
      "81/81 [==============================] - 2s 28ms/step - loss: 2.7470e-04 - val_loss: 0.0033\n",
      "Epoch 42/50\n",
      "81/81 [==============================] - 2s 28ms/step - loss: 2.8723e-04 - val_loss: 0.0018\n",
      "Epoch 43/50\n",
      "81/81 [==============================] - 2s 30ms/step - loss: 2.7042e-04 - val_loss: 0.0014\n",
      "Epoch 44/50\n",
      "81/81 [==============================] - 2s 30ms/step - loss: 2.6948e-04 - val_loss: 0.0022\n",
      "Epoch 45/50\n",
      "81/81 [==============================] - 2s 28ms/step - loss: 2.6940e-04 - val_loss: 0.0013\n",
      "Epoch 46/50\n",
      "81/81 [==============================] - 2s 29ms/step - loss: 2.6636e-04 - val_loss: 0.0011\n",
      "Epoch 47/50\n",
      "81/81 [==============================] - 2s 29ms/step - loss: 2.6839e-04 - val_loss: 0.0014\n",
      "Epoch 48/50\n",
      "81/81 [==============================] - 3s 31ms/step - loss: 2.7167e-04 - val_loss: 0.0013\n",
      "Epoch 49/50\n",
      "81/81 [==============================] - 3s 43ms/step - loss: 2.7637e-04 - val_loss: 0.0011\n",
      "Epoch 50/50\n",
      "81/81 [==============================] - 2s 27ms/step - loss: 2.6626e-04 - val_loss: 0.0011\n"
     ]
    }
   ],
   "source": [
    "optimizer = tf.keras.optimizers.RMSprop(learning_rate=0.001)\n",
    "\n",
    "rnn.compile(loss='mean_squared_error', optimizer=optimizer)\n",
    "\n",
    "result = rnn.fit(X_train,\n",
    "                 y_train,\n",
    "                 epochs=50,\n",
    "                 batch_size=30,\n",
    "                 validation_data=(X_test, y_test),\n",
    "                 verbose=1)"
   ]
  },
  {
   "cell_type": "markdown",
   "metadata": {},
   "source": [
    "## 10. test predict값과, train predict값을 저장하여 한 데이터로 통합니다. 20점"
   ]
  },
  {
   "cell_type": "code",
   "execution_count": 24,
   "metadata": {},
   "outputs": [],
   "source": [
    "def eval_result():\n",
    "    test_predict = pd.Series(rnn.predict(X_test).squeeze(), index=y_test.index)\n",
    "    train_predict = pd.Series(rnn.predict(X_train).squeeze(), index=y_train.index)\n",
    "    rmse = np.sqrt(mean_squared_error(test_predict, y_test))\n",
    "    return test_predict, train_predict, rmse"
   ]
  },
  {
   "cell_type": "code",
   "execution_count": 25,
   "metadata": {},
   "outputs": [],
   "source": [
    "test_predict, train_predict, rmse = eval_result()"
   ]
  },
  {
   "cell_type": "code",
   "execution_count": 26,
   "metadata": {},
   "outputs": [
    {
     "name": "stdout",
     "output_type": "stream",
     "text": [
      "<class 'pandas.core.frame.DataFrame'>\n",
      "Index: 2605 entries, 2020-01-02 to 2019-12-30\n",
      "Data columns (total 2 columns):\n",
      " #   Column      Non-Null Count  Dtype  \n",
      "---  ------      --------------  -----  \n",
      " 0   prediction  2605 non-null   float32\n",
      " 1   data        2605 non-null   object \n",
      "dtypes: float32(1), object(1)\n",
      "memory usage: 50.9+ KB\n"
     ]
    }
   ],
   "source": [
    "# test predict와 train predict를 prediction으로 바인딩?\n",
    "predictions = (test_predict.to_frame('prediction').assign(data='test')\n",
    "               .append(train_predict.to_frame('prediction').assign(data='train')))\n",
    "predictions.info()"
   ]
  },
  {
   "cell_type": "code",
   "execution_count": 27,
   "metadata": {},
   "outputs": [
    {
     "name": "stdout",
     "output_type": "stream",
     "text": [
      "<class 'pandas.core.frame.DataFrame'>\n",
      "Index: 2605 entries, 2010-04-05 to 2020-10-26\n",
      "Data columns (total 3 columns):\n",
      " #   Column      Non-Null Count  Dtype  \n",
      "---  ------      --------------  -----  \n",
      " 0   price       2605 non-null   float64\n",
      " 1   prediction  2605 non-null   float32\n",
      " 2   data        2605 non-null   object \n",
      "dtypes: float32(1), float64(1), object(1)\n",
      "memory usage: 71.2+ KB\n"
     ]
    }
   ],
   "source": [
    "results = kodex200_scaled.join(predictions).dropna()\n",
    "results.info()"
   ]
  },
  {
   "cell_type": "code",
   "execution_count": 29,
   "metadata": {},
   "outputs": [],
   "source": [
    "kodex200_scaled['Train Prediction'] = pd.Series(train_predict.squeeze(), index=y_train.index)\n",
    "kodex200_scaled['Test Prediction'] = pd.Series(test_predict.squeeze(), index=y_test.index)"
   ]
  },
  {
   "cell_type": "code",
   "execution_count": 30,
   "metadata": {},
   "outputs": [
    {
     "name": "stdout",
     "output_type": "stream",
     "text": [
      "Training Error: 0.0168 | Test Error: 0.0337\n"
     ]
    }
   ],
   "source": [
    "training_error = np.sqrt(rnn.evaluate(X_train, y_train, verbose=0))\n",
    "testing_error = np.sqrt(rnn.evaluate(X_test, y_test, verbose=0))\n",
    "print('Training Error: {:.4f} | Test Error: {:.4f}'.format(training_error, testing_error))"
   ]
  },
  {
   "cell_type": "markdown",
   "metadata": {},
   "source": [
    "## 11. 2020년 이후 예측값과 실제값을 그래프로 표현하고 RNN을이용한 예측에 대한 본인의 의견을 기술합니다. 10점"
   ]
  },
  {
   "cell_type": "code",
   "execution_count": 31,
   "metadata": {},
   "outputs": [
    {
     "data": {
      "image/png": "[encoded data removed]",
      "text/plain": [
       "<Figure size 864x432 with 1 Axes>"
      ]
     },
     "metadata": {},
     "output_type": "display_data"
    }
   ],
   "source": [
    "fig, ax = plt.subplots(figsize=(12,6))\n",
    "\n",
    "kodex200_scaled.loc['2020':, 'price'].plot(lw=0.5, ax=ax, c='red')\n",
    "kodex200_scaled.loc['2020':, ['Test Prediction', 'Train Prediction']].plot(lw=0.5, ax=ax, c = 'blue')\n",
    "ax.set_title('In- and Out-of-sample Predictions')\n",
    "plt.show()"
   ]
  },
  {
   "cell_type": "markdown",
   "metadata": {},
   "source": [
    "실제 주가 데이터인 빨간색 그래프보다 예측 그래프, 파란색 그래프는 후행적이다.\n",
    "또한 예측 그래프는 경기 순행적이고 정확도가 상당히 높다.\n",
    "예측이 실제 데이터보다 후행적인 것을 이용한다면 주식 투자에서 높은 수익을 예상할 수 있다."
   ]
  }
 ],
 "metadata": {
  "kernelspec": {
   "display_name": "Python 3",
   "language": "python",
   "name": "python3"
  },
  "language_info": {
   "codemirror_mode": {
    "name": "ipython",
    "version": 3
   },
   "file_extension": ".py",
   "mimetype": "text/x-python",
   "name": "python",
   "nbconvert_exporter": "python",
   "pygments_lexer": "ipython3",
   "version": "3.8.5"
  }
 },
 "nbformat": 4,
 "nbformat_minor": 4
}
