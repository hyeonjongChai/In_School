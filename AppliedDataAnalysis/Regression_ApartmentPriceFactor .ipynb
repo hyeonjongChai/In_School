{
 "cells": [
  {
   "cell_type": "code",
   "execution_count": 1,
   "metadata": {},
   "outputs": [],
   "source": [
    "%matplotlib inline\n",
    "import numpy as np \n",
    "import matplotlib.pyplot as plt \n",
    "import pandas as pd\n",
    "import os\n",
    "from ipypublish import nb_setup"
   ]
  },
  {
   "cell_type": "code",
   "execution_count": 2,
   "metadata": {},
   "outputs": [],
   "source": [
    "df = pd.read_csv('C:/Users/yssg9187/Desktop/20-2/3. 응용자료분석/D_data/PRICE_SEOUL.csv')"
   ]
  },
  {
   "cell_type": "code",
   "execution_count": 3,
   "metadata": {},
   "outputs": [
    {
     "data": {
      "text/html": [
       "<div>\n",
       "<style scoped>\n",
       "    .dataframe tbody tr th:only-of-type {\n",
       "        vertical-align: middle;\n",
       "    }\n",
       "\n",
       "    .dataframe tbody tr th {\n",
       "        vertical-align: top;\n",
       "    }\n",
       "\n",
       "    .dataframe thead th {\n",
       "        text-align: right;\n",
       "    }\n",
       "</style>\n",
       "<table border=\"1\" class=\"dataframe\">\n",
       "  <thead>\n",
       "    <tr style=\"text-align: right;\">\n",
       "      <th></th>\n",
       "      <th>YYM1</th>\n",
       "      <th>CITY_CODE</th>\n",
       "      <th>GU_CODE2</th>\n",
       "      <th>BUILT_YR</th>\n",
       "      <th>SIZE</th>\n",
       "      <th>UNIT</th>\n",
       "      <th>PRICE</th>\n",
       "    </tr>\n",
       "  </thead>\n",
       "  <tbody>\n",
       "    <tr>\n",
       "      <th>0</th>\n",
       "      <td>200601</td>\n",
       "      <td>11</td>\n",
       "      <td>1111</td>\n",
       "      <td>1983</td>\n",
       "      <td>93.40</td>\n",
       "      <td>A11110117Z01000000B1983S093F01</td>\n",
       "      <td>29500</td>\n",
       "    </tr>\n",
       "    <tr>\n",
       "      <th>1</th>\n",
       "      <td>200601</td>\n",
       "      <td>11</td>\n",
       "      <td>1111</td>\n",
       "      <td>1998</td>\n",
       "      <td>57.18</td>\n",
       "      <td>A11110133Z00300006B1998S057F01</td>\n",
       "      <td>15741</td>\n",
       "    </tr>\n",
       "    <tr>\n",
       "      <th>2</th>\n",
       "      <td>200601</td>\n",
       "      <td>11</td>\n",
       "      <td>1111</td>\n",
       "      <td>1998</td>\n",
       "      <td>78.23</td>\n",
       "      <td>A11110133Z00300006B1998S078F01</td>\n",
       "      <td>21535</td>\n",
       "    </tr>\n",
       "    <tr>\n",
       "      <th>3</th>\n",
       "      <td>200601</td>\n",
       "      <td>11</td>\n",
       "      <td>1111</td>\n",
       "      <td>1998</td>\n",
       "      <td>84.26</td>\n",
       "      <td>A11110133Z00300006B1998S084F01</td>\n",
       "      <td>23198</td>\n",
       "    </tr>\n",
       "    <tr>\n",
       "      <th>4</th>\n",
       "      <td>200601</td>\n",
       "      <td>11</td>\n",
       "      <td>1111</td>\n",
       "      <td>1998</td>\n",
       "      <td>84.26</td>\n",
       "      <td>A11110133Z00300006B1998S084F02</td>\n",
       "      <td>23198</td>\n",
       "    </tr>\n",
       "    <tr>\n",
       "      <th>...</th>\n",
       "      <td>...</td>\n",
       "      <td>...</td>\n",
       "      <td>...</td>\n",
       "      <td>...</td>\n",
       "      <td>...</td>\n",
       "      <td>...</td>\n",
       "      <td>...</td>\n",
       "    </tr>\n",
       "    <tr>\n",
       "      <th>909082</th>\n",
       "      <td>201712</td>\n",
       "      <td>11</td>\n",
       "      <td>1174</td>\n",
       "      <td>1997</td>\n",
       "      <td>59.86</td>\n",
       "      <td>A11740109Z05280000B1997S059F02</td>\n",
       "      <td>45000</td>\n",
       "    </tr>\n",
       "    <tr>\n",
       "      <th>909083</th>\n",
       "      <td>201712</td>\n",
       "      <td>11</td>\n",
       "      <td>1174</td>\n",
       "      <td>1999</td>\n",
       "      <td>59.63</td>\n",
       "      <td>A11740109Z05660000B1999S059F02</td>\n",
       "      <td>45500</td>\n",
       "    </tr>\n",
       "    <tr>\n",
       "      <th>909084</th>\n",
       "      <td>201712</td>\n",
       "      <td>11</td>\n",
       "      <td>1174</td>\n",
       "      <td>2009</td>\n",
       "      <td>84.99</td>\n",
       "      <td>A11740109Z05700000B2009S084F02</td>\n",
       "      <td>68000</td>\n",
       "    </tr>\n",
       "    <tr>\n",
       "      <th>909085</th>\n",
       "      <td>201712</td>\n",
       "      <td>11</td>\n",
       "      <td>1174</td>\n",
       "      <td>2009</td>\n",
       "      <td>84.74</td>\n",
       "      <td>A11740110Z06730000B2009S084F02</td>\n",
       "      <td>56000</td>\n",
       "    </tr>\n",
       "    <tr>\n",
       "      <th>909086</th>\n",
       "      <td>201712</td>\n",
       "      <td>11</td>\n",
       "      <td>1174</td>\n",
       "      <td>2009</td>\n",
       "      <td>84.53</td>\n",
       "      <td>A11740110Z06840000B2009S084F02</td>\n",
       "      <td>53000</td>\n",
       "    </tr>\n",
       "  </tbody>\n",
       "</table>\n",
       "<p>909087 rows × 7 columns</p>\n",
       "</div>"
      ],
      "text/plain": [
       "          YYM1  CITY_CODE  GU_CODE2  BUILT_YR   SIZE  \\\n",
       "0       200601         11      1111      1983  93.40   \n",
       "1       200601         11      1111      1998  57.18   \n",
       "2       200601         11      1111      1998  78.23   \n",
       "3       200601         11      1111      1998  84.26   \n",
       "4       200601         11      1111      1998  84.26   \n",
       "...        ...        ...       ...       ...    ...   \n",
       "909082  201712         11      1174      1997  59.86   \n",
       "909083  201712         11      1174      1999  59.63   \n",
       "909084  201712         11      1174      2009  84.99   \n",
       "909085  201712         11      1174      2009  84.74   \n",
       "909086  201712         11      1174      2009  84.53   \n",
       "\n",
       "                                  UNIT  PRICE  \n",
       "0       A11110117Z01000000B1983S093F01  29500  \n",
       "1       A11110133Z00300006B1998S057F01  15741  \n",
       "2       A11110133Z00300006B1998S078F01  21535  \n",
       "3       A11110133Z00300006B1998S084F01  23198  \n",
       "4       A11110133Z00300006B1998S084F02  23198  \n",
       "...                                ...    ...  \n",
       "909082  A11740109Z05280000B1997S059F02  45000  \n",
       "909083  A11740109Z05660000B1999S059F02  45500  \n",
       "909084  A11740109Z05700000B2009S084F02  68000  \n",
       "909085  A11740110Z06730000B2009S084F02  56000  \n",
       "909086  A11740110Z06840000B2009S084F02  53000  \n",
       "\n",
       "[909087 rows x 7 columns]"
      ]
     },
     "execution_count": 3,
     "metadata": {},
     "output_type": "execute_result"
    }
   ],
   "source": [
    "df"
   ]
  },
  {
   "cell_type": "markdown",
   "metadata": {},
   "source": [
    "###  1. 제공한 주택가격실거래 데이터에서 본인이 거주하고 있는 구(또는 관심있는 구)의 자료를 추출합니다."
   ]
  },
  {
   "cell_type": "code",
   "execution_count": 4,
   "metadata": {},
   "outputs": [
    {
     "data": {
      "text/html": [
       "<div>\n",
       "<style scoped>\n",
       "    .dataframe tbody tr th:only-of-type {\n",
       "        vertical-align: middle;\n",
       "    }\n",
       "\n",
       "    .dataframe tbody tr th {\n",
       "        vertical-align: top;\n",
       "    }\n",
       "\n",
       "    .dataframe thead th {\n",
       "        text-align: right;\n",
       "    }\n",
       "</style>\n",
       "<table border=\"1\" class=\"dataframe\">\n",
       "  <thead>\n",
       "    <tr style=\"text-align: right;\">\n",
       "      <th></th>\n",
       "      <th>YYM1</th>\n",
       "      <th>CITY_CODE</th>\n",
       "      <th>GU_CODE2</th>\n",
       "      <th>BUILT_YR</th>\n",
       "      <th>SIZE</th>\n",
       "      <th>UNIT</th>\n",
       "      <th>PRICE</th>\n",
       "    </tr>\n",
       "  </thead>\n",
       "  <tbody>\n",
       "    <tr>\n",
       "      <th>0</th>\n",
       "      <td>200601</td>\n",
       "      <td>11</td>\n",
       "      <td>1111</td>\n",
       "      <td>1983</td>\n",
       "      <td>93.40</td>\n",
       "      <td>A11110117Z01000000B1983S093F01</td>\n",
       "      <td>29500</td>\n",
       "    </tr>\n",
       "    <tr>\n",
       "      <th>1</th>\n",
       "      <td>200601</td>\n",
       "      <td>11</td>\n",
       "      <td>1111</td>\n",
       "      <td>1998</td>\n",
       "      <td>57.18</td>\n",
       "      <td>A11110133Z00300006B1998S057F01</td>\n",
       "      <td>15741</td>\n",
       "    </tr>\n",
       "    <tr>\n",
       "      <th>2</th>\n",
       "      <td>200601</td>\n",
       "      <td>11</td>\n",
       "      <td>1111</td>\n",
       "      <td>1998</td>\n",
       "      <td>78.23</td>\n",
       "      <td>A11110133Z00300006B1998S078F01</td>\n",
       "      <td>21535</td>\n",
       "    </tr>\n",
       "    <tr>\n",
       "      <th>3</th>\n",
       "      <td>200601</td>\n",
       "      <td>11</td>\n",
       "      <td>1111</td>\n",
       "      <td>1998</td>\n",
       "      <td>84.26</td>\n",
       "      <td>A11110133Z00300006B1998S084F01</td>\n",
       "      <td>23198</td>\n",
       "    </tr>\n",
       "    <tr>\n",
       "      <th>4</th>\n",
       "      <td>200601</td>\n",
       "      <td>11</td>\n",
       "      <td>1111</td>\n",
       "      <td>1998</td>\n",
       "      <td>84.26</td>\n",
       "      <td>A11110133Z00300006B1998S084F02</td>\n",
       "      <td>23198</td>\n",
       "    </tr>\n",
       "    <tr>\n",
       "      <th>...</th>\n",
       "      <td>...</td>\n",
       "      <td>...</td>\n",
       "      <td>...</td>\n",
       "      <td>...</td>\n",
       "      <td>...</td>\n",
       "      <td>...</td>\n",
       "      <td>...</td>\n",
       "    </tr>\n",
       "    <tr>\n",
       "      <th>907449</th>\n",
       "      <td>201712</td>\n",
       "      <td>11</td>\n",
       "      <td>1111</td>\n",
       "      <td>2014</td>\n",
       "      <td>15.55</td>\n",
       "      <td>A11140163Z01190000B2014S015F02</td>\n",
       "      <td>16900</td>\n",
       "    </tr>\n",
       "    <tr>\n",
       "      <th>907450</th>\n",
       "      <td>201712</td>\n",
       "      <td>11</td>\n",
       "      <td>1111</td>\n",
       "      <td>2013</td>\n",
       "      <td>16.37</td>\n",
       "      <td>A11140165Z07870000B2013S016F02</td>\n",
       "      <td>14500</td>\n",
       "    </tr>\n",
       "    <tr>\n",
       "      <th>907451</th>\n",
       "      <td>201712</td>\n",
       "      <td>11</td>\n",
       "      <td>1111</td>\n",
       "      <td>2008</td>\n",
       "      <td>59.91</td>\n",
       "      <td>A11140165Z25450000B2008S059F02</td>\n",
       "      <td>49000</td>\n",
       "    </tr>\n",
       "    <tr>\n",
       "      <th>907452</th>\n",
       "      <td>201712</td>\n",
       "      <td>11</td>\n",
       "      <td>1111</td>\n",
       "      <td>2006</td>\n",
       "      <td>70.81</td>\n",
       "      <td>A11140168Z02150000B2006S070F02</td>\n",
       "      <td>44500</td>\n",
       "    </tr>\n",
       "    <tr>\n",
       "      <th>907453</th>\n",
       "      <td>201712</td>\n",
       "      <td>11</td>\n",
       "      <td>1111</td>\n",
       "      <td>2016</td>\n",
       "      <td>42.37</td>\n",
       "      <td>A11140168Z02170000B2016S042F01</td>\n",
       "      <td>51000</td>\n",
       "    </tr>\n",
       "  </tbody>\n",
       "</table>\n",
       "<p>15948 rows × 7 columns</p>\n",
       "</div>"
      ],
      "text/plain": [
       "          YYM1  CITY_CODE  GU_CODE2  BUILT_YR   SIZE  \\\n",
       "0       200601         11      1111      1983  93.40   \n",
       "1       200601         11      1111      1998  57.18   \n",
       "2       200601         11      1111      1998  78.23   \n",
       "3       200601         11      1111      1998  84.26   \n",
       "4       200601         11      1111      1998  84.26   \n",
       "...        ...        ...       ...       ...    ...   \n",
       "907449  201712         11      1111      2014  15.55   \n",
       "907450  201712         11      1111      2013  16.37   \n",
       "907451  201712         11      1111      2008  59.91   \n",
       "907452  201712         11      1111      2006  70.81   \n",
       "907453  201712         11      1111      2016  42.37   \n",
       "\n",
       "                                  UNIT  PRICE  \n",
       "0       A11110117Z01000000B1983S093F01  29500  \n",
       "1       A11110133Z00300006B1998S057F01  15741  \n",
       "2       A11110133Z00300006B1998S078F01  21535  \n",
       "3       A11110133Z00300006B1998S084F01  23198  \n",
       "4       A11110133Z00300006B1998S084F02  23198  \n",
       "...                                ...    ...  \n",
       "907449  A11140163Z01190000B2014S015F02  16900  \n",
       "907450  A11140165Z07870000B2013S016F02  14500  \n",
       "907451  A11140165Z25450000B2008S059F02  49000  \n",
       "907452  A11140168Z02150000B2006S070F02  44500  \n",
       "907453  A11140168Z02170000B2016S042F01  51000  \n",
       "\n",
       "[15948 rows x 7 columns]"
      ]
     },
     "execution_count": 4,
     "metadata": {},
     "output_type": "execute_result"
    }
   ],
   "source": [
    "df1 = df[df['GU_CODE2'].isin([1111])] #종로구\n",
    "df1"
   ]
  },
  {
   "cell_type": "markdown",
   "metadata": {},
   "source": [
    "### 2.본인이 거주하고 있는 구(또는 관심있는 구)아파트의 평당가격, 아파트연령에 대한 기초통계량을 제시하고 설명합니다."
   ]
  },
  {
   "cell_type": "code",
   "execution_count": 5,
   "metadata": {},
   "outputs": [
    {
     "name": "stderr",
     "output_type": "stream",
     "text": [
      "<ipython-input-5-81a0e93973d0>:1: SettingWithCopyWarning: \n",
      "A value is trying to be set on a copy of a slice from a DataFrame.\n",
      "Try using .loc[row_indexer,col_indexer] = value instead\n",
      "\n",
      "See the caveats in the documentation: https://pandas.pydata.org/pandas-docs/stable/user_guide/indexing.html#returning-a-view-versus-a-copy\n",
      "  df1['PRICE_PYUNG'] = df1['PRICE']/(df1['SIZE']/3.33)\n",
      "<ipython-input-5-81a0e93973d0>:2: SettingWithCopyWarning: \n",
      "A value is trying to be set on a copy of a slice from a DataFrame.\n",
      "Try using .loc[row_indexer,col_indexer] = value instead\n",
      "\n",
      "See the caveats in the documentation: https://pandas.pydata.org/pandas-docs/stable/user_guide/indexing.html#returning-a-view-versus-a-copy\n",
      "  df1['DURATION'] = 2020 - df1['BUILT_YR']\n"
     ]
    },
    {
     "data": {
      "text/html": [
       "<div>\n",
       "<style scoped>\n",
       "    .dataframe tbody tr th:only-of-type {\n",
       "        vertical-align: middle;\n",
       "    }\n",
       "\n",
       "    .dataframe tbody tr th {\n",
       "        vertical-align: top;\n",
       "    }\n",
       "\n",
       "    .dataframe thead th {\n",
       "        text-align: right;\n",
       "    }\n",
       "</style>\n",
       "<table border=\"1\" class=\"dataframe\">\n",
       "  <thead>\n",
       "    <tr style=\"text-align: right;\">\n",
       "      <th></th>\n",
       "      <th>YYM1</th>\n",
       "      <th>CITY_CODE</th>\n",
       "      <th>GU_CODE2</th>\n",
       "      <th>BUILT_YR</th>\n",
       "      <th>SIZE</th>\n",
       "      <th>UNIT</th>\n",
       "      <th>PRICE</th>\n",
       "      <th>PRICE_PYUNG</th>\n",
       "      <th>DURATION</th>\n",
       "    </tr>\n",
       "  </thead>\n",
       "  <tbody>\n",
       "    <tr>\n",
       "      <th>0</th>\n",
       "      <td>200601</td>\n",
       "      <td>11</td>\n",
       "      <td>1111</td>\n",
       "      <td>1983</td>\n",
       "      <td>93.40</td>\n",
       "      <td>A11110117Z01000000B1983S093F01</td>\n",
       "      <td>29500</td>\n",
       "      <td>1051.766595</td>\n",
       "      <td>37</td>\n",
       "    </tr>\n",
       "    <tr>\n",
       "      <th>1</th>\n",
       "      <td>200601</td>\n",
       "      <td>11</td>\n",
       "      <td>1111</td>\n",
       "      <td>1998</td>\n",
       "      <td>57.18</td>\n",
       "      <td>A11110133Z00300006B1998S057F01</td>\n",
       "      <td>15741</td>\n",
       "      <td>916.710913</td>\n",
       "      <td>22</td>\n",
       "    </tr>\n",
       "    <tr>\n",
       "      <th>2</th>\n",
       "      <td>200601</td>\n",
       "      <td>11</td>\n",
       "      <td>1111</td>\n",
       "      <td>1998</td>\n",
       "      <td>78.23</td>\n",
       "      <td>A11110133Z00300006B1998S078F01</td>\n",
       "      <td>21535</td>\n",
       "      <td>916.675828</td>\n",
       "      <td>22</td>\n",
       "    </tr>\n",
       "    <tr>\n",
       "      <th>3</th>\n",
       "      <td>200601</td>\n",
       "      <td>11</td>\n",
       "      <td>1111</td>\n",
       "      <td>1998</td>\n",
       "      <td>84.26</td>\n",
       "      <td>A11110133Z00300006B1998S084F01</td>\n",
       "      <td>23198</td>\n",
       "      <td>916.797294</td>\n",
       "      <td>22</td>\n",
       "    </tr>\n",
       "    <tr>\n",
       "      <th>4</th>\n",
       "      <td>200601</td>\n",
       "      <td>11</td>\n",
       "      <td>1111</td>\n",
       "      <td>1998</td>\n",
       "      <td>84.26</td>\n",
       "      <td>A11110133Z00300006B1998S084F02</td>\n",
       "      <td>23198</td>\n",
       "      <td>916.797294</td>\n",
       "      <td>22</td>\n",
       "    </tr>\n",
       "    <tr>\n",
       "      <th>...</th>\n",
       "      <td>...</td>\n",
       "      <td>...</td>\n",
       "      <td>...</td>\n",
       "      <td>...</td>\n",
       "      <td>...</td>\n",
       "      <td>...</td>\n",
       "      <td>...</td>\n",
       "      <td>...</td>\n",
       "      <td>...</td>\n",
       "    </tr>\n",
       "    <tr>\n",
       "      <th>907449</th>\n",
       "      <td>201712</td>\n",
       "      <td>11</td>\n",
       "      <td>1111</td>\n",
       "      <td>2014</td>\n",
       "      <td>15.55</td>\n",
       "      <td>A11140163Z01190000B2014S015F02</td>\n",
       "      <td>16900</td>\n",
       "      <td>3619.099678</td>\n",
       "      <td>6</td>\n",
       "    </tr>\n",
       "    <tr>\n",
       "      <th>907450</th>\n",
       "      <td>201712</td>\n",
       "      <td>11</td>\n",
       "      <td>1111</td>\n",
       "      <td>2013</td>\n",
       "      <td>16.37</td>\n",
       "      <td>A11140165Z07870000B2013S016F02</td>\n",
       "      <td>14500</td>\n",
       "      <td>2949.602932</td>\n",
       "      <td>7</td>\n",
       "    </tr>\n",
       "    <tr>\n",
       "      <th>907451</th>\n",
       "      <td>201712</td>\n",
       "      <td>11</td>\n",
       "      <td>1111</td>\n",
       "      <td>2008</td>\n",
       "      <td>59.91</td>\n",
       "      <td>A11140165Z25450000B2008S059F02</td>\n",
       "      <td>49000</td>\n",
       "      <td>2723.585378</td>\n",
       "      <td>12</td>\n",
       "    </tr>\n",
       "    <tr>\n",
       "      <th>907452</th>\n",
       "      <td>201712</td>\n",
       "      <td>11</td>\n",
       "      <td>1111</td>\n",
       "      <td>2006</td>\n",
       "      <td>70.81</td>\n",
       "      <td>A11140168Z02150000B2006S070F02</td>\n",
       "      <td>44500</td>\n",
       "      <td>2092.712894</td>\n",
       "      <td>14</td>\n",
       "    </tr>\n",
       "    <tr>\n",
       "      <th>907453</th>\n",
       "      <td>201712</td>\n",
       "      <td>11</td>\n",
       "      <td>1111</td>\n",
       "      <td>2016</td>\n",
       "      <td>42.37</td>\n",
       "      <td>A11140168Z02170000B2016S042F01</td>\n",
       "      <td>51000</td>\n",
       "      <td>4008.260562</td>\n",
       "      <td>4</td>\n",
       "    </tr>\n",
       "  </tbody>\n",
       "</table>\n",
       "<p>15948 rows × 9 columns</p>\n",
       "</div>"
      ],
      "text/plain": [
       "          YYM1  CITY_CODE  GU_CODE2  BUILT_YR   SIZE  \\\n",
       "0       200601         11      1111      1983  93.40   \n",
       "1       200601         11      1111      1998  57.18   \n",
       "2       200601         11      1111      1998  78.23   \n",
       "3       200601         11      1111      1998  84.26   \n",
       "4       200601         11      1111      1998  84.26   \n",
       "...        ...        ...       ...       ...    ...   \n",
       "907449  201712         11      1111      2014  15.55   \n",
       "907450  201712         11      1111      2013  16.37   \n",
       "907451  201712         11      1111      2008  59.91   \n",
       "907452  201712         11      1111      2006  70.81   \n",
       "907453  201712         11      1111      2016  42.37   \n",
       "\n",
       "                                  UNIT  PRICE  PRICE_PYUNG  DURATION  \n",
       "0       A11110117Z01000000B1983S093F01  29500  1051.766595        37  \n",
       "1       A11110133Z00300006B1998S057F01  15741   916.710913        22  \n",
       "2       A11110133Z00300006B1998S078F01  21535   916.675828        22  \n",
       "3       A11110133Z00300006B1998S084F01  23198   916.797294        22  \n",
       "4       A11110133Z00300006B1998S084F02  23198   916.797294        22  \n",
       "...                                ...    ...          ...       ...  \n",
       "907449  A11140163Z01190000B2014S015F02  16900  3619.099678         6  \n",
       "907450  A11140165Z07870000B2013S016F02  14500  2949.602932         7  \n",
       "907451  A11140165Z25450000B2008S059F02  49000  2723.585378        12  \n",
       "907452  A11140168Z02150000B2006S070F02  44500  2092.712894        14  \n",
       "907453  A11140168Z02170000B2016S042F01  51000  4008.260562         4  \n",
       "\n",
       "[15948 rows x 9 columns]"
      ]
     },
     "execution_count": 5,
     "metadata": {},
     "output_type": "execute_result"
    }
   ],
   "source": [
    "df1['PRICE_PYUNG'] = df1['PRICE']/(df1['SIZE']/3.33)\n",
    "df1['DURATION'] = 2020 - df1['BUILT_YR']\n",
    "df1"
   ]
  },
  {
   "cell_type": "code",
   "execution_count": 6,
   "metadata": {},
   "outputs": [
    {
     "data": {
      "text/html": [
       "<div>\n",
       "<style scoped>\n",
       "    .dataframe tbody tr th:only-of-type {\n",
       "        vertical-align: middle;\n",
       "    }\n",
       "\n",
       "    .dataframe tbody tr th {\n",
       "        vertical-align: top;\n",
       "    }\n",
       "\n",
       "    .dataframe thead th {\n",
       "        text-align: right;\n",
       "    }\n",
       "</style>\n",
       "<table border=\"1\" class=\"dataframe\">\n",
       "  <thead>\n",
       "    <tr style=\"text-align: right;\">\n",
       "      <th></th>\n",
       "      <th>YYM1</th>\n",
       "      <th>CITY_CODE</th>\n",
       "      <th>GU_CODE2</th>\n",
       "      <th>BUILT_YR</th>\n",
       "      <th>SIZE</th>\n",
       "      <th>PRICE</th>\n",
       "      <th>PRICE_PYUNG</th>\n",
       "      <th>DURATION</th>\n",
       "    </tr>\n",
       "  </thead>\n",
       "  <tbody>\n",
       "    <tr>\n",
       "      <th>count</th>\n",
       "      <td>15948.000000</td>\n",
       "      <td>15948.0</td>\n",
       "      <td>15948.0</td>\n",
       "      <td>15948.000000</td>\n",
       "      <td>15948.000000</td>\n",
       "      <td>15948.000000</td>\n",
       "      <td>15948.000000</td>\n",
       "      <td>15948.000000</td>\n",
       "    </tr>\n",
       "    <tr>\n",
       "      <th>mean</th>\n",
       "      <td>201230.576812</td>\n",
       "      <td>11.0</td>\n",
       "      <td>1111.0</td>\n",
       "      <td>2001.270191</td>\n",
       "      <td>82.563870</td>\n",
       "      <td>48957.585026</td>\n",
       "      <td>1954.737318</td>\n",
       "      <td>18.729809</td>\n",
       "    </tr>\n",
       "    <tr>\n",
       "      <th>std</th>\n",
       "      <td>372.800845</td>\n",
       "      <td>0.0</td>\n",
       "      <td>0.0</td>\n",
       "      <td>7.941028</td>\n",
       "      <td>33.500615</td>\n",
       "      <td>27474.836383</td>\n",
       "      <td>567.761448</td>\n",
       "      <td>7.941028</td>\n",
       "    </tr>\n",
       "    <tr>\n",
       "      <th>min</th>\n",
       "      <td>200601.000000</td>\n",
       "      <td>11.0</td>\n",
       "      <td>1111.0</td>\n",
       "      <td>1965.000000</td>\n",
       "      <td>12.090000</td>\n",
       "      <td>2300.000000</td>\n",
       "      <td>310.273475</td>\n",
       "      <td>3.000000</td>\n",
       "    </tr>\n",
       "    <tr>\n",
       "      <th>25%</th>\n",
       "      <td>200904.000000</td>\n",
       "      <td>11.0</td>\n",
       "      <td>1111.0</td>\n",
       "      <td>1999.000000</td>\n",
       "      <td>59.940000</td>\n",
       "      <td>31500.000000</td>\n",
       "      <td>1550.000000</td>\n",
       "      <td>13.000000</td>\n",
       "    </tr>\n",
       "    <tr>\n",
       "      <th>50%</th>\n",
       "      <td>201309.000000</td>\n",
       "      <td>11.0</td>\n",
       "      <td>1111.0</td>\n",
       "      <td>2002.000000</td>\n",
       "      <td>84.760000</td>\n",
       "      <td>45000.000000</td>\n",
       "      <td>1981.208765</td>\n",
       "      <td>18.000000</td>\n",
       "    </tr>\n",
       "    <tr>\n",
       "      <th>75%</th>\n",
       "      <td>201601.000000</td>\n",
       "      <td>11.0</td>\n",
       "      <td>1111.0</td>\n",
       "      <td>2007.000000</td>\n",
       "      <td>84.970000</td>\n",
       "      <td>59700.000000</td>\n",
       "      <td>2302.862223</td>\n",
       "      <td>21.000000</td>\n",
       "    </tr>\n",
       "    <tr>\n",
       "      <th>max</th>\n",
       "      <td>201712.000000</td>\n",
       "      <td>11.0</td>\n",
       "      <td>1111.0</td>\n",
       "      <td>2017.000000</td>\n",
       "      <td>273.970000</td>\n",
       "      <td>420000.000000</td>\n",
       "      <td>5714.402451</td>\n",
       "      <td>55.000000</td>\n",
       "    </tr>\n",
       "  </tbody>\n",
       "</table>\n",
       "</div>"
      ],
      "text/plain": [
       "                YYM1  CITY_CODE  GU_CODE2      BUILT_YR          SIZE  \\\n",
       "count   15948.000000    15948.0   15948.0  15948.000000  15948.000000   \n",
       "mean   201230.576812       11.0    1111.0   2001.270191     82.563870   \n",
       "std       372.800845        0.0       0.0      7.941028     33.500615   \n",
       "min    200601.000000       11.0    1111.0   1965.000000     12.090000   \n",
       "25%    200904.000000       11.0    1111.0   1999.000000     59.940000   \n",
       "50%    201309.000000       11.0    1111.0   2002.000000     84.760000   \n",
       "75%    201601.000000       11.0    1111.0   2007.000000     84.970000   \n",
       "max    201712.000000       11.0    1111.0   2017.000000    273.970000   \n",
       "\n",
       "               PRICE   PRICE_PYUNG      DURATION  \n",
       "count   15948.000000  15948.000000  15948.000000  \n",
       "mean    48957.585026   1954.737318     18.729809  \n",
       "std     27474.836383    567.761448      7.941028  \n",
       "min      2300.000000    310.273475      3.000000  \n",
       "25%     31500.000000   1550.000000     13.000000  \n",
       "50%     45000.000000   1981.208765     18.000000  \n",
       "75%     59700.000000   2302.862223     21.000000  \n",
       "max    420000.000000   5714.402451     55.000000  "
      ]
     },
     "execution_count": 6,
     "metadata": {},
     "output_type": "execute_result"
    }
   ],
   "source": [
    "df1.describe()"
   ]
  },
  {
   "cell_type": "markdown",
   "metadata": {},
   "source": [
    "### 3. 해당구의 아파트의 평당 가격에 대한 히스토그램(전체, 3년(200612, 201112, 201612))을 각각 작성합니다."
   ]
  },
  {
   "cell_type": "code",
   "execution_count": 7,
   "metadata": {},
   "outputs": [],
   "source": [
    "house_all = df1[[\"PRICE_PYUNG\"]].to_numpy()"
   ]
  },
  {
   "cell_type": "code",
   "execution_count": 8,
   "metadata": {},
   "outputs": [
    {
     "data": {
      "image/png": "[encoded data removed]",
      "text/plain": [
       "<Figure size 1440x720 with 1 Axes>"
      ]
     },
     "metadata": {
      "needs_background": "light"
     },
     "output_type": "display_data"
    }
   ],
   "source": [
    "#평당 가격 히스토그램\n",
    "fig, ax = plt.subplots(figsize=(20,10))\n",
    "ax.hist(house_all, alpha=0.9, bins=1000)\n",
    "ax.grid(True)\n",
    "ax.set_xlim((0,5000))\n",
    "plt.show()"
   ]
  },
  {
   "cell_type": "code",
   "execution_count": 9,
   "metadata": {},
   "outputs": [],
   "source": [
    "df200612 = df1[df1['YYM1'] == 200612]\n",
    "df201112 = df1[df1['YYM1'] == 201112]\n",
    "df201612 = df1[df1['YYM1'] == 201612]"
   ]
  },
  {
   "cell_type": "code",
   "execution_count": 10,
   "metadata": {},
   "outputs": [],
   "source": [
    "house_200612 = df200612[[\"PRICE_PYUNG\"]].to_numpy()\n",
    "house_201112 = df201112[[\"PRICE_PYUNG\"]].to_numpy()\n",
    "house_201612 = df201612[[\"PRICE_PYUNG\"]].to_numpy()"
   ]
  },
  {
   "cell_type": "code",
   "execution_count": 11,
   "metadata": {},
   "outputs": [
    {
     "data": {
      "image/png": "[encoded data removed]",
      "text/plain": [
       "<Figure size 1440x720 with 1 Axes>"
      ]
     },
     "metadata": {
      "needs_background": "light"
     },
     "output_type": "display_data"
    }
   ],
   "source": [
    "#2006/12, 2011/12, 2016/12 평당 가격 히스토그램\n",
    "\n",
    "fig, ax = plt.subplots(figsize=(20,10))\n",
    "ax.hist([house_200612,house_201112, house_201612], alpha=1.0, bins=70)\n",
    "ax.grid(True)\n",
    "ax.set_xlim((0,5000))\n",
    "plt.show()"
   ]
  },
  {
   "cell_type": "markdown",
   "metadata": {},
   "source": [
    "### 4.해당구의 아파트의 평당가격의 그래프를 시간대별로 표시합니다."
   ]
  },
  {
   "cell_type": "code",
   "execution_count": 12,
   "metadata": {},
   "outputs": [
    {
     "name": "stderr",
     "output_type": "stream",
     "text": [
      "<ipython-input-12-e7e76cb52f39>:1: FutureWarning: Indexing with multiple keys (implicitly converted to a tuple of keys) will be deprecated, use a list instead.\n",
      "  df2=df1.groupby(['YYM1'])[\"DURATION\", 'PRICE_PYUNG'].mean()\n"
     ]
    },
    {
     "data": {
      "text/html": [
       "<div>\n",
       "<style scoped>\n",
       "    .dataframe tbody tr th:only-of-type {\n",
       "        vertical-align: middle;\n",
       "    }\n",
       "\n",
       "    .dataframe tbody tr th {\n",
       "        vertical-align: top;\n",
       "    }\n",
       "\n",
       "    .dataframe thead th {\n",
       "        text-align: right;\n",
       "    }\n",
       "</style>\n",
       "<table border=\"1\" class=\"dataframe\">\n",
       "  <thead>\n",
       "    <tr style=\"text-align: right;\">\n",
       "      <th></th>\n",
       "      <th>DURATION</th>\n",
       "      <th>PRICE_PYUNG</th>\n",
       "    </tr>\n",
       "    <tr>\n",
       "      <th>YYM1</th>\n",
       "      <th></th>\n",
       "      <th></th>\n",
       "    </tr>\n",
       "  </thead>\n",
       "  <tbody>\n",
       "    <tr>\n",
       "      <th>200601</th>\n",
       "      <td>22.098361</td>\n",
       "      <td>1274.466424</td>\n",
       "    </tr>\n",
       "    <tr>\n",
       "      <th>200602</th>\n",
       "      <td>22.221053</td>\n",
       "      <td>1335.254346</td>\n",
       "    </tr>\n",
       "    <tr>\n",
       "      <th>200603</th>\n",
       "      <td>21.464052</td>\n",
       "      <td>1373.288906</td>\n",
       "    </tr>\n",
       "    <tr>\n",
       "      <th>200604</th>\n",
       "      <td>21.932773</td>\n",
       "      <td>1345.758519</td>\n",
       "    </tr>\n",
       "    <tr>\n",
       "      <th>200605</th>\n",
       "      <td>23.611111</td>\n",
       "      <td>1415.416203</td>\n",
       "    </tr>\n",
       "    <tr>\n",
       "      <th>...</th>\n",
       "      <td>...</td>\n",
       "      <td>...</td>\n",
       "    </tr>\n",
       "    <tr>\n",
       "      <th>201708</th>\n",
       "      <td>17.230088</td>\n",
       "      <td>2385.619264</td>\n",
       "    </tr>\n",
       "    <tr>\n",
       "      <th>201709</th>\n",
       "      <td>15.811321</td>\n",
       "      <td>2635.287916</td>\n",
       "    </tr>\n",
       "    <tr>\n",
       "      <th>201710</th>\n",
       "      <td>16.072727</td>\n",
       "      <td>2558.878657</td>\n",
       "    </tr>\n",
       "    <tr>\n",
       "      <th>201711</th>\n",
       "      <td>16.280374</td>\n",
       "      <td>2539.917383</td>\n",
       "    </tr>\n",
       "    <tr>\n",
       "      <th>201712</th>\n",
       "      <td>16.307692</td>\n",
       "      <td>2723.054776</td>\n",
       "    </tr>\n",
       "  </tbody>\n",
       "</table>\n",
       "<p>144 rows × 2 columns</p>\n",
       "</div>"
      ],
      "text/plain": [
       "         DURATION  PRICE_PYUNG\n",
       "YYM1                          \n",
       "200601  22.098361  1274.466424\n",
       "200602  22.221053  1335.254346\n",
       "200603  21.464052  1373.288906\n",
       "200604  21.932773  1345.758519\n",
       "200605  23.611111  1415.416203\n",
       "...           ...          ...\n",
       "201708  17.230088  2385.619264\n",
       "201709  15.811321  2635.287916\n",
       "201710  16.072727  2558.878657\n",
       "201711  16.280374  2539.917383\n",
       "201712  16.307692  2723.054776\n",
       "\n",
       "[144 rows x 2 columns]"
      ]
     },
     "execution_count": 12,
     "metadata": {},
     "output_type": "execute_result"
    }
   ],
   "source": [
    "df2=df1.groupby(['YYM1'])[\"DURATION\", 'PRICE_PYUNG'].mean()\n",
    "df2"
   ]
  },
  {
   "cell_type": "code",
   "execution_count": 13,
   "metadata": {},
   "outputs": [],
   "source": [
    "time = pd.date_range('1/1/2006', periods=144, freq='1M') # 1달 단위로 144rows, 1/1/2006부터\n"
   ]
  },
  {
   "cell_type": "code",
   "execution_count": 14,
   "metadata": {},
   "outputs": [
    {
     "data": {
      "image/png": "[encoded data removed]",
      "text/plain": [
       "<Figure size 432x288 with 1 Axes>"
      ]
     },
     "metadata": {
      "needs_background": "light"
     },
     "output_type": "display_data"
    }
   ],
   "source": [
    "#시간대 별 그래프\n",
    "fig = plt.figure(figsize=(6, 4))\n",
    "ax = fig.add_subplot(111)\n",
    "ax.plot(time, df2[\"PRICE_PYUNG\"],color='red',linewidth=2.0)\n",
    "plt.show()"
   ]
  },
  {
   "cell_type": "markdown",
   "metadata": {},
   "source": [
    "### 5. 해당구의 아파트의 연령(오래된 횟수)가 아파트 평당 가격에 어떠한 영향을 미치는지를 회귀분석합니다."
   ]
  },
  {
   "cell_type": "code",
   "execution_count": 15,
   "metadata": {},
   "outputs": [],
   "source": [
    "#단순회귀분석 \n",
    "from statsmodels.compat import lzip\n",
    "import numpy as np\n",
    "import matplotlib.pyplot as plt\n",
    "import statsmodels.api as sm\n",
    "from statsmodels.formula.api import ols"
   ]
  },
  {
   "cell_type": "code",
   "execution_count": 16,
   "metadata": {},
   "outputs": [
    {
     "name": "stdout",
     "output_type": "stream",
     "text": [
      "                            OLS Regression Results                            \n",
      "==============================================================================\n",
      "Dep. Variable:            PRICE_PYUNG   R-squared:                       0.289\n",
      "Model:                            OLS   Adj. R-squared:                  0.289\n",
      "Method:                 Least Squares   F-statistic:                     6480.\n",
      "Date:                Sat, 17 Oct 2020   Prob (F-statistic):               0.00\n",
      "Time:                        17:09:21   Log-Likelihood:            -1.2105e+05\n",
      "No. Observations:               15948   AIC:                         2.421e+05\n",
      "Df Residuals:                   15946   BIC:                         2.421e+05\n",
      "Df Model:                           1                                         \n",
      "Covariance Type:            nonrobust                                         \n",
      "==============================================================================\n",
      "                 coef    std err          t      P>|t|      [0.025      0.975]\n",
      "------------------------------------------------------------------------------\n",
      "Intercept   2674.5859      9.713    275.371      0.000    2655.548    2693.624\n",
      "DURATION     -38.4333      0.477    -80.500      0.000     -39.369     -37.497\n",
      "==============================================================================\n",
      "Omnibus:                      952.866   Durbin-Watson:                   0.849\n",
      "Prob(Omnibus):                  0.000   Jarque-Bera (JB):             2470.051\n",
      "Skew:                           0.343   Prob(JB):                         0.00\n",
      "Kurtosis:                       4.802   Cond. No.                         52.2\n",
      "==============================================================================\n",
      "\n",
      "Warnings:\n",
      "[1] Standard Errors assume that the covariance matrix of the errors is correctly specified.\n"
     ]
    }
   ],
   "source": [
    "#패키지 분석\n",
    "house_price = df1[['PRICE_PYUNG', 'DURATION']]\n",
    "price_model = ols(\"PRICE_PYUNG ~ DURATION\", data=house_price).fit()\n",
    "print(price_model.summary())"
   ]
  },
  {
   "cell_type": "markdown",
   "metadata": {},
   "source": [
    "### 6. 서울시 아파트가격지수에 주택담보대출금리(MoRate), 거래건수(FREQ)가 미치는 영향을 회귀분석합니다.(package이용한 분석, 매트릭스를 이용한 분석)."
   ]
  },
  {
   "cell_type": "code",
   "execution_count": 17,
   "metadata": {},
   "outputs": [],
   "source": [
    "#중회귀분석\n",
    "df = pd.read_csv('C:/Users/yssg9187/Desktop/20-2/3. 응용자료분석/D_data/HPI_SEOUL.csv', encoding='CP949')"
   ]
  },
  {
   "cell_type": "code",
   "execution_count": 18,
   "metadata": {
    "scrolled": true
   },
   "outputs": [
    {
     "data": {
      "text/html": [
       "<div>\n",
       "<style scoped>\n",
       "    .dataframe tbody tr th:only-of-type {\n",
       "        vertical-align: middle;\n",
       "    }\n",
       "\n",
       "    .dataframe tbody tr th {\n",
       "        vertical-align: top;\n",
       "    }\n",
       "\n",
       "    .dataframe thead th {\n",
       "        text-align: right;\n",
       "    }\n",
       "</style>\n",
       "<table border=\"1\" class=\"dataframe\">\n",
       "  <thead>\n",
       "    <tr style=\"text-align: right;\">\n",
       "      <th></th>\n",
       "      <th>YYM1</th>\n",
       "      <th>CITY</th>\n",
       "      <th>CITY_CODE</th>\n",
       "      <th>GU_NAME</th>\n",
       "      <th>GU_CODE2</th>\n",
       "      <th>API_TT0</th>\n",
       "      <th>BaseRate</th>\n",
       "      <th>MoRate</th>\n",
       "      <th>FREQ</th>\n",
       "      <th>A_PSUM</th>\n",
       "      <th>...</th>\n",
       "      <th>LTV</th>\n",
       "      <th>DTI</th>\n",
       "      <th>MV_APT</th>\n",
       "      <th>JAEGO</th>\n",
       "      <th>BUNYANG</th>\n",
       "      <th>N_BUNYANG</th>\n",
       "      <th>IND_INDEX</th>\n",
       "      <th>JTP</th>\n",
       "      <th>LOAN_T</th>\n",
       "      <th>MON</th>\n",
       "    </tr>\n",
       "  </thead>\n",
       "  <tbody>\n",
       "    <tr>\n",
       "      <th>0</th>\n",
       "      <td>200603</td>\n",
       "      <td>서울특별시</td>\n",
       "      <td>11</td>\n",
       "      <td>종로중구</td>\n",
       "      <td>1111</td>\n",
       "      <td>75.245608</td>\n",
       "      <td>4.00</td>\n",
       "      <td>5.46</td>\n",
       "      <td>71</td>\n",
       "      <td>2.559029</td>\n",
       "      <td>...</td>\n",
       "      <td>42.912677</td>\n",
       "      <td>93.255607</td>\n",
       "      <td>4.891421</td>\n",
       "      <td>110</td>\n",
       "      <td>0</td>\n",
       "      <td>277</td>\n",
       "      <td>109.907</td>\n",
       "      <td>48.372</td>\n",
       "      <td>104.381241</td>\n",
       "      <td>3</td>\n",
       "    </tr>\n",
       "    <tr>\n",
       "      <th>1</th>\n",
       "      <td>200606</td>\n",
       "      <td>서울특별시</td>\n",
       "      <td>11</td>\n",
       "      <td>종로중구</td>\n",
       "      <td>1111</td>\n",
       "      <td>81.009183</td>\n",
       "      <td>4.25</td>\n",
       "      <td>5.48</td>\n",
       "      <td>58</td>\n",
       "      <td>1.774481</td>\n",
       "      <td>...</td>\n",
       "      <td>43.944172</td>\n",
       "      <td>94.827586</td>\n",
       "      <td>4.891421</td>\n",
       "      <td>0</td>\n",
       "      <td>0</td>\n",
       "      <td>277</td>\n",
       "      <td>99.469</td>\n",
       "      <td>47.454</td>\n",
       "      <td>107.564252</td>\n",
       "      <td>6</td>\n",
       "    </tr>\n",
       "    <tr>\n",
       "      <th>2</th>\n",
       "      <td>200609</td>\n",
       "      <td>서울특별시</td>\n",
       "      <td>11</td>\n",
       "      <td>종로중구</td>\n",
       "      <td>1111</td>\n",
       "      <td>81.208640</td>\n",
       "      <td>4.50</td>\n",
       "      <td>5.77</td>\n",
       "      <td>90</td>\n",
       "      <td>2.898839</td>\n",
       "      <td>...</td>\n",
       "      <td>44.425621</td>\n",
       "      <td>94.000000</td>\n",
       "      <td>4.891421</td>\n",
       "      <td>0</td>\n",
       "      <td>0</td>\n",
       "      <td>14</td>\n",
       "      <td>123.203</td>\n",
       "      <td>47.670</td>\n",
       "      <td>110.666410</td>\n",
       "      <td>9</td>\n",
       "    </tr>\n",
       "    <tr>\n",
       "      <th>3</th>\n",
       "      <td>200612</td>\n",
       "      <td>서울특별시</td>\n",
       "      <td>11</td>\n",
       "      <td>종로중구</td>\n",
       "      <td>1111</td>\n",
       "      <td>88.068940</td>\n",
       "      <td>4.50</td>\n",
       "      <td>5.88</td>\n",
       "      <td>99</td>\n",
       "      <td>3.181162</td>\n",
       "      <td>...</td>\n",
       "      <td>50.340131</td>\n",
       "      <td>95.151515</td>\n",
       "      <td>4.891421</td>\n",
       "      <td>0</td>\n",
       "      <td>136</td>\n",
       "      <td>6</td>\n",
       "      <td>128.718</td>\n",
       "      <td>43.811</td>\n",
       "      <td>101.843742</td>\n",
       "      <td>12</td>\n",
       "    </tr>\n",
       "    <tr>\n",
       "      <th>4</th>\n",
       "      <td>200703</td>\n",
       "      <td>서울특별시</td>\n",
       "      <td>11</td>\n",
       "      <td>종로중구</td>\n",
       "      <td>1111</td>\n",
       "      <td>86.507762</td>\n",
       "      <td>4.50</td>\n",
       "      <td>6.20</td>\n",
       "      <td>68</td>\n",
       "      <td>1.955622</td>\n",
       "      <td>...</td>\n",
       "      <td>50.951451</td>\n",
       "      <td>48.890836</td>\n",
       "      <td>6.083816</td>\n",
       "      <td>0</td>\n",
       "      <td>112</td>\n",
       "      <td>0</td>\n",
       "      <td>110.893</td>\n",
       "      <td>42.987</td>\n",
       "      <td>107.877226</td>\n",
       "      <td>3</td>\n",
       "    </tr>\n",
       "  </tbody>\n",
       "</table>\n",
       "<p>5 rows × 22 columns</p>\n",
       "</div>"
      ],
      "text/plain": [
       "     YYM1   CITY  CITY_CODE GU_NAME  GU_CODE2    API_TT0  BaseRate  MoRate  \\\n",
       "0  200603  서울특별시         11    종로중구      1111  75.245608      4.00    5.46   \n",
       "1  200606  서울특별시         11    종로중구      1111  81.009183      4.25    5.48   \n",
       "2  200609  서울특별시         11    종로중구      1111  81.208640      4.50    5.77   \n",
       "3  200612  서울특별시         11    종로중구      1111  88.068940      4.50    5.88   \n",
       "4  200703  서울특별시         11    종로중구      1111  86.507762      4.50    6.20   \n",
       "\n",
       "   FREQ    A_PSUM  ...        LTV        DTI    MV_APT  JAEGO  BUNYANG  \\\n",
       "0    71  2.559029  ...  42.912677  93.255607  4.891421    110        0   \n",
       "1    58  1.774481  ...  43.944172  94.827586  4.891421      0        0   \n",
       "2    90  2.898839  ...  44.425621  94.000000  4.891421      0        0   \n",
       "3    99  3.181162  ...  50.340131  95.151515  4.891421      0      136   \n",
       "4    68  1.955622  ...  50.951451  48.890836  6.083816      0      112   \n",
       "\n",
       "   N_BUNYANG  IND_INDEX     JTP      LOAN_T  MON  \n",
       "0        277    109.907  48.372  104.381241    3  \n",
       "1        277     99.469  47.454  107.564252    6  \n",
       "2         14    123.203  47.670  110.666410    9  \n",
       "3          6    128.718  43.811  101.843742   12  \n",
       "4          0    110.893  42.987  107.877226    3  \n",
       "\n",
       "[5 rows x 22 columns]"
      ]
     },
     "execution_count": 18,
     "metadata": {},
     "output_type": "execute_result"
    }
   ],
   "source": [
    "df.head()"
   ]
  },
  {
   "cell_type": "markdown",
   "metadata": {},
   "source": [
    "#### 패키지 분석"
   ]
  },
  {
   "cell_type": "code",
   "execution_count": 19,
   "metadata": {},
   "outputs": [
    {
     "name": "stdout",
     "output_type": "stream",
     "text": [
      "                            OLS Regression Results                            \n",
      "==============================================================================\n",
      "Dep. Variable:                API_TT0   R-squared:                       0.176\n",
      "Model:                            OLS   Adj. R-squared:                  0.174\n",
      "Method:                 Least Squares   F-statistic:                     122.6\n",
      "Date:                Sat, 17 Oct 2020   Prob (F-statistic):           5.42e-49\n",
      "Time:                        17:09:21   Log-Likelihood:                -4282.0\n",
      "No. Observations:                1152   AIC:                             8570.\n",
      "Df Residuals:                    1149   BIC:                             8585.\n",
      "Df Model:                           2                                         \n",
      "Covariance Type:            nonrobust                                         \n",
      "==============================================================================\n",
      "                 coef    std err          t      P>|t|      [0.025      0.975]\n",
      "------------------------------------------------------------------------------\n",
      "Intercept    114.8432      1.299     88.392      0.000     112.294     117.392\n",
      "MoRate        -3.6333      0.232    -15.630      0.000      -4.089      -3.177\n",
      "FREQ          -0.0138      0.003     -4.553      0.000      -0.020      -0.008\n",
      "==============================================================================\n",
      "Omnibus:                       12.469   Durbin-Watson:                   0.518\n",
      "Prob(Omnibus):                  0.002   Jarque-Bera (JB):               19.097\n",
      "Skew:                          -0.039   Prob(JB):                     7.13e-05\n",
      "Kurtosis:                       3.626   Cond. No.                         818.\n",
      "==============================================================================\n",
      "\n",
      "Warnings:\n",
      "[1] Standard Errors assume that the covariance matrix of the errors is correctly specified.\n"
     ]
    }
   ],
   "source": [
    "#패키지 분석\n",
    "edu_model = ols(\"API_TT0 ~ MoRate + FREQ\", data=df).fit()\n",
    "print(edu_model.summary())"
   ]
  },
  {
   "cell_type": "markdown",
   "metadata": {},
   "source": [
    "#### 매트리스 북석"
   ]
  },
  {
   "cell_type": "code",
   "execution_count": 20,
   "metadata": {},
   "outputs": [],
   "source": [
    "np.set_printoptions(precision=4)\n",
    "np.set_printoptions(suppress=True)\n",
    "BLD = df[['MoRate', 'FREQ']]"
   ]
  },
  {
   "cell_type": "code",
   "execution_count": 21,
   "metadata": {},
   "outputs": [
    {
     "data": {
      "text/plain": [
       "array([[  5.46,  71.  ],\n",
       "       [  5.48,  58.  ],\n",
       "       [  5.77,  90.  ],\n",
       "       ...,\n",
       "       [  3.22, 362.  ],\n",
       "       [  3.24, 193.  ],\n",
       "       [  3.42,  82.  ]])"
      ]
     },
     "execution_count": 21,
     "metadata": {},
     "output_type": "execute_result"
    }
   ],
   "source": [
    "X = BLD.values\n",
    "X"
   ]
  },
  {
   "cell_type": "code",
   "execution_count": 22,
   "metadata": {},
   "outputs": [
    {
     "data": {
      "text/plain": [
       "1152"
      ]
     },
     "execution_count": 22,
     "metadata": {},
     "output_type": "execute_result"
    }
   ],
   "source": [
    "X.shape[0]"
   ]
  },
  {
   "cell_type": "code",
   "execution_count": 23,
   "metadata": {},
   "outputs": [],
   "source": [
    "ones = np.ones(X.shape[0])"
   ]
  },
  {
   "cell_type": "code",
   "execution_count": 24,
   "metadata": {},
   "outputs": [
    {
     "data": {
      "text/plain": [
       "array([[  1.  ,   5.46,  71.  ],\n",
       "       [  1.  ,   5.48,  58.  ],\n",
       "       [  1.  ,   5.77,  90.  ],\n",
       "       ...,\n",
       "       [  1.  ,   3.22, 362.  ],\n",
       "       [  1.  ,   3.24, 193.  ],\n",
       "       [  1.  ,   3.42,  82.  ]])"
      ]
     },
     "execution_count": 24,
     "metadata": {},
     "output_type": "execute_result"
    }
   ],
   "source": [
    "X_mat = np.column_stack((ones, X))\n",
    "X_mat"
   ]
  },
  {
   "cell_type": "code",
   "execution_count": 25,
   "metadata": {},
   "outputs": [
    {
     "data": {
      "text/plain": [
       "Index(['YYM1', 'CITY', 'CITY_CODE', 'GU_NAME', 'GU_CODE2', 'API_TT0',\n",
       "       'BaseRate', 'MoRate', 'FREQ', 'A_PSUM', 'SEOUL', 'METRO', 'LTV', 'DTI',\n",
       "       'MV_APT', 'JAEGO', 'BUNYANG', 'N_BUNYANG', 'IND_INDEX', 'JTP', 'LOAN_T',\n",
       "       'MON'],\n",
       "      dtype='object')"
      ]
     },
     "execution_count": 25,
     "metadata": {},
     "output_type": "execute_result"
    }
   ],
   "source": [
    "df.columns"
   ]
  },
  {
   "cell_type": "code",
   "execution_count": 26,
   "metadata": {},
   "outputs": [],
   "source": [
    "Y = df['API_TT0'].values"
   ]
  },
  {
   "cell_type": "code",
   "execution_count": 27,
   "metadata": {},
   "outputs": [
    {
     "data": {
      "text/plain": [
       "(1152,)"
      ]
     },
     "execution_count": 27,
     "metadata": {},
     "output_type": "execute_result"
    }
   ],
   "source": [
    "Y.shape"
   ]
  },
  {
   "cell_type": "code",
   "execution_count": 28,
   "metadata": {},
   "outputs": [
    {
     "data": {
      "text/plain": [
       "array([[  1.  ,   1.  ,   1.  , ...,   1.  ,   1.  ,   1.  ],\n",
       "       [  5.46,   5.48,   5.77, ...,   3.22,   3.24,   3.42],\n",
       "       [ 71.  ,  58.  ,  90.  , ..., 362.  , 193.  ,  82.  ]])"
      ]
     },
     "execution_count": 28,
     "metadata": {},
     "output_type": "execute_result"
    }
   ],
   "source": [
    "X_mat.T"
   ]
  },
  {
   "cell_type": "code",
   "execution_count": 29,
   "metadata": {},
   "outputs": [
    {
     "data": {
      "text/plain": [
       "array([114.8432,  -3.6333,  -0.0138])"
      ]
     },
     "execution_count": 29,
     "metadata": {},
     "output_type": "execute_result"
    }
   ],
   "source": [
    "beta_hat = np.linalg.inv(X_mat.T.dot(X_mat)).dot(X_mat.T).dot(Y)\n",
    "beta_hat"
   ]
  },
  {
   "cell_type": "code",
   "execution_count": 30,
   "metadata": {},
   "outputs": [],
   "source": [
    "Y_fitted = X_mat @ beta_hat"
   ]
  },
  {
   "cell_type": "code",
   "execution_count": 31,
   "metadata": {},
   "outputs": [],
   "source": [
    "e = Y - Y_fitted \n"
   ]
  },
  {
   "cell_type": "code",
   "execution_count": 32,
   "metadata": {},
   "outputs": [
    {
     "data": {
      "text/plain": [
       "(1152,)"
      ]
     },
     "execution_count": 32,
     "metadata": {},
     "output_type": "execute_result"
    }
   ],
   "source": [
    "e.shape"
   ]
  },
  {
   "cell_type": "code",
   "execution_count": 33,
   "metadata": {},
   "outputs": [
    {
     "data": {
      "text/plain": [
       "114174.19336739123"
      ]
     },
     "execution_count": 33,
     "metadata": {},
     "output_type": "execute_result"
    }
   ],
   "source": [
    "e.T @ e"
   ]
  },
  {
   "cell_type": "code",
   "execution_count": 34,
   "metadata": {},
   "outputs": [],
   "source": [
    "n = len(e)"
   ]
  },
  {
   "cell_type": "code",
   "execution_count": 35,
   "metadata": {},
   "outputs": [
    {
     "data": {
      "text/plain": [
       "3"
      ]
     },
     "execution_count": 35,
     "metadata": {},
     "output_type": "execute_result"
    }
   ],
   "source": [
    "k = beta_hat.shape[0]\n",
    "k"
   ]
  },
  {
   "cell_type": "code",
   "execution_count": 36,
   "metadata": {},
   "outputs": [
    {
     "data": {
      "text/plain": [
       "99.36831450599759"
      ]
     },
     "execution_count": 36,
     "metadata": {},
     "output_type": "execute_result"
    }
   ],
   "source": [
    "sigma_hat2 = e.T @ e/(n-k)\n",
    "sigma_hat2"
   ]
  },
  {
   "cell_type": "code",
   "execution_count": 37,
   "metadata": {},
   "outputs": [],
   "source": [
    "XtX_inv =  np.linalg.inv(X_mat.T.dot(X_mat))\n"
   ]
  },
  {
   "cell_type": "code",
   "execution_count": 38,
   "metadata": {},
   "outputs": [
    {
     "data": {
      "text/plain": [
       "array([[ 1.688 , -0.2747, -0.0022],\n",
       "       [-0.2747,  0.054 ,  0.0002],\n",
       "       [-0.0022,  0.0002,  0.    ]])"
      ]
     },
     "execution_count": 38,
     "metadata": {},
     "output_type": "execute_result"
    }
   ],
   "source": [
    "cov = sigma_hat2 * XtX_inv \n",
    "cov"
   ]
  },
  {
   "cell_type": "code",
   "execution_count": 39,
   "metadata": {},
   "outputs": [
    {
     "name": "stderr",
     "output_type": "stream",
     "text": [
      "<ipython-input-39-d8b706efef78>:1: RuntimeWarning: invalid value encountered in sqrt\n",
      "  se = np.sqrt(cov)\n"
     ]
    },
    {
     "data": {
      "text/plain": [
       "array([[1.2992,    nan,    nan],\n",
       "       [   nan, 0.2325, 0.0128],\n",
       "       [   nan, 0.0128, 0.003 ]])"
      ]
     },
     "execution_count": 39,
     "metadata": {},
     "output_type": "execute_result"
    }
   ],
   "source": [
    "se = np.sqrt(cov)\n",
    "se"
   ]
  },
  {
   "cell_type": "code",
   "execution_count": 40,
   "metadata": {},
   "outputs": [
    {
     "data": {
      "text/plain": [
       "(3,)"
      ]
     },
     "execution_count": 40,
     "metadata": {},
     "output_type": "execute_result"
    }
   ],
   "source": [
    "beta_hat.shape"
   ]
  },
  {
   "cell_type": "code",
   "execution_count": 41,
   "metadata": {},
   "outputs": [
    {
     "data": {
      "text/plain": [
       "array([0., 0., 0.])"
      ]
     },
     "execution_count": 41,
     "metadata": {},
     "output_type": "execute_result"
    }
   ],
   "source": [
    "se1 = np.zeros(k)\n",
    "se1"
   ]
  },
  {
   "cell_type": "code",
   "execution_count": 42,
   "metadata": {},
   "outputs": [
    {
     "data": {
      "text/plain": [
       "array([1.2992, 0.2325, 0.003 ])"
      ]
     },
     "execution_count": 42,
     "metadata": {},
     "output_type": "execute_result"
    }
   ],
   "source": [
    "for i in range(k):\n",
    "    se1[i,]= se[i,i]\n",
    "\n",
    "se1"
   ]
  },
  {
   "cell_type": "code",
   "execution_count": 43,
   "metadata": {},
   "outputs": [],
   "source": [
    "lb = beta_hat -  2 * se1\n",
    "hb = beta_hat +  2 * se1"
   ]
  },
  {
   "cell_type": "code",
   "execution_count": 44,
   "metadata": {},
   "outputs": [
    {
     "data": {
      "text/plain": [
       "array([112.2447,  -4.0982,  -0.0199])"
      ]
     },
     "execution_count": 44,
     "metadata": {},
     "output_type": "execute_result"
    }
   ],
   "source": [
    "lb"
   ]
  },
  {
   "cell_type": "code",
   "execution_count": 45,
   "metadata": {},
   "outputs": [
    {
     "data": {
      "text/plain": [
       "array([117.4417,  -3.1684,  -0.0078])"
      ]
     },
     "execution_count": 45,
     "metadata": {},
     "output_type": "execute_result"
    }
   ],
   "source": [
    "hb"
   ]
  },
  {
   "cell_type": "code",
   "execution_count": 46,
   "metadata": {},
   "outputs": [
    {
     "data": {
      "text/plain": [
       "array([ 88.3922, -15.6298,  -4.5529])"
      ]
     },
     "execution_count": 46,
     "metadata": {},
     "output_type": "execute_result"
    }
   ],
   "source": [
    "t = beta_hat/se1\n",
    "t"
   ]
  },
  {
   "cell_type": "code",
   "execution_count": 47,
   "metadata": {},
   "outputs": [
    {
     "data": {
      "text/plain": [
       "array([0., 0., 0.])"
      ]
     },
     "execution_count": 47,
     "metadata": {},
     "output_type": "execute_result"
    }
   ],
   "source": [
    "from scipy import stats\n",
    "df = len(e)- k \n",
    "\n",
    "p0 = np.zeros(k)\n",
    "\n",
    "for i in range(k):\n",
    "    if t[i] > 0:\n",
    "        p0[i,] = (1 - stats.t.cdf(t[i],df=df))*2\n",
    "    else:\n",
    "        p0[i,] = stats.t.cdf(t[i],df=df) * 2\n",
    "        \n",
    "p0"
   ]
  },
  {
   "cell_type": "markdown",
   "metadata": {},
   "source": [
    "#### 가. 두 방법에 의한 계수값, 신뢰구간, t값, p값을 보이고 서로 일치하는지 확인합니다. \n",
    "\n",
    "package와 matrix를 통한 분석값이 서로 같습니다.\n",
    "\n"
   ]
  },
  {
   "cell_type": "markdown",
   "metadata": {},
   "source": [
    "#### 나.결과를 해석합니다.\n",
    "\n",
    "P값이 0이고 상관관계값이 신뢰구간 안에 잘 들어있기 때문에 도출결과가 유의미하다고 볼 수 있습니다. 아파트 가격지수에 대한 주택담보대출금리(MoRate)의 상관계가 -3.6333입니다. 이 말은 아파트 가격지수가 1오르면 주택담보대출금리가 약 -3.6만큼 떨어진다는 이야기입니다. 아파트 가격지수에 대한 거래건수(FREQ)는 -0.0138으로 약한 음의 관계를 띄고 있으나 지대한 영향이 있다고 보기 힘듭니다."
   ]
  }
 ],
 "metadata": {
  "kernelspec": {
   "display_name": "Python 3",
   "language": "python",
   "name": "python3"
  },
  "language_info": {
   "codemirror_mode": {
    "name": "ipython",
    "version": 3
   },
   "file_extension": ".py",
   "mimetype": "text/x-python",
   "name": "python",
   "nbconvert_exporter": "python",
   "pygments_lexer": "ipython3",
   "version": "3.8.3"
  }
 },
 "nbformat": 4,
 "nbformat_minor": 4
}
