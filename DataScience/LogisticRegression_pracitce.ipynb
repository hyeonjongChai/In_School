{
  "nbformat": 4,
  "nbformat_minor": 5,
  "metadata": {
    "kernelspec": {
      "display_name": "Python 3",
      "language": "python",
      "name": "python3"
    },
    "language_info": {
      "codemirror_mode": {
        "name": "ipython",
        "version": 3
      },
      "file_extension": ".py",
      "mimetype": "text/x-python",
      "name": "python",
      "nbconvert_exporter": "python",
      "pygments_lexer": "ipython3",
      "version": "3.8.8"
    },
    "colab": {
      "name": "20150962_채현종_과제2.ipynb",
      "provenance": []
    },
    "accelerator": "GPU"
  },
  "cells": [
    {
      "cell_type": "code",
      "metadata": {
        "id": "df82575d"
      },
      "source": [
        "import torch\n",
        "x_train = torch.FloatTensor([[1],[2],[3],[4],[5],[2.5],[3.5],[0],[3.1],[2.7],[2.8],[2.9]])\n",
        "y_train = torch.FloatTensor([[1],[1],[1],[0],[0],[0],[0],[1],[0],[1],[1],[1]])"
      ],
      "id": "df82575d",
      "execution_count": 1,
      "outputs": []
    },
    {
      "cell_type": "code",
      "metadata": {
        "colab": {
          "base_uri": "https://localhost:8080/"
        },
        "id": "91db7e27",
        "outputId": "174f8a04-5d5a-4440-b2d9-9eea9b1ecad3"
      },
      "source": [
        "W = torch.zeros(1,1)\n",
        "b = torch.zeros(1,1)\n",
        "lr = 1.0\n",
        "\n",
        "for epoch in range(3001):\n",
        "    W.requires_grad_(True)\n",
        "    b.requires_grad_(True)\n",
        "    \n",
        "    hypothesis = torch.sigmoid(torch.mm(x_train, W) + b)\n",
        "    cost = torch.mean(\n",
        "        -y_train * torch.log(hypothesis)\n",
        "        -(1 - y_train) * torch.log(1 - hypothesis))\n",
        "\n",
        "    cost.backward()\n",
        "    with torch.no_grad() as grd:\n",
        "        W = W - lr * W.grad\n",
        "        b = b - lr * b.grad\n",
        "\n",
        "    if epoch % 100 == 0:\n",
        "        print( 'epoch: {}, cost: {:.6f}, W: {:.6f}, b: {:.6f}'.format(\n",
        "            epoch, cost.item(), W.squeeze(), b.squeeze()))\n"
      ],
      "id": "91db7e27",
      "execution_count": 2,
      "outputs": [
        {
          "output_type": "stream",
          "name": "stdout",
          "text": [
            "epoch: 0, cost: 0.693147, W: -0.154167, b: 0.083333\n",
            "epoch: 100, cost: 0.420221, W: -1.451281, b: 4.406925\n",
            "epoch: 200, cost: 0.398721, W: -1.898433, b: 5.773750\n",
            "epoch: 300, cost: 0.390820, W: -2.174322, b: 6.609553\n",
            "epoch: 400, cost: 0.387009, W: -2.367329, b: 7.191599\n",
            "epoch: 500, cost: 0.384924, W: -2.510626, b: 7.622530\n",
            "epoch: 600, cost: 0.383699, W: -2.620779, b: 7.953164\n",
            "epoch: 700, cost: 0.382944, W: -2.707397, b: 8.212804\n",
            "epoch: 800, cost: 0.382463, W: -2.776597, b: 8.420023\n",
            "epoch: 900, cost: 0.382149, W: -2.832521, b: 8.587363\n",
            "epoch: 1000, cost: 0.381941, W: -2.878112, b: 8.723699\n",
            "epoch: 1100, cost: 0.381801, W: -2.915530, b: 8.835541\n",
            "epoch: 1200, cost: 0.381706, W: -2.946401, b: 8.927779\n",
            "epoch: 1300, cost: 0.381641, W: -2.971979, b: 9.004180\n",
            "epoch: 1400, cost: 0.381596, W: -2.993242, b: 9.067673\n",
            "epoch: 1500, cost: 0.381565, W: -3.010968, b: 9.120598\n",
            "epoch: 1600, cost: 0.381543, W: -3.025776, b: 9.164800\n",
            "epoch: 1700, cost: 0.381528, W: -3.038172, b: 9.201797\n",
            "epoch: 1800, cost: 0.381517, W: -3.048561, b: 9.232802\n",
            "epoch: 1900, cost: 0.381509, W: -3.057279, b: 9.258815\n",
            "epoch: 2000, cost: 0.381504, W: -3.064605, b: 9.280675\n",
            "epoch: 2100, cost: 0.381500, W: -3.070765, b: 9.299053\n",
            "epoch: 2200, cost: 0.381497, W: -3.075948, b: 9.314517\n",
            "epoch: 2300, cost: 0.381495, W: -3.080314, b: 9.327539\n",
            "epoch: 2400, cost: 0.381494, W: -3.083991, b: 9.338510\n",
            "epoch: 2500, cost: 0.381493, W: -3.087090, b: 9.347754\n",
            "epoch: 2600, cost: 0.381493, W: -3.089704, b: 9.355551\n",
            "epoch: 2700, cost: 0.381492, W: -3.091908, b: 9.362126\n",
            "epoch: 2800, cost: 0.381492, W: -3.093769, b: 9.367676\n",
            "epoch: 2900, cost: 0.381491, W: -3.095338, b: 9.372355\n",
            "epoch: 3000, cost: 0.381491, W: -3.096662, b: 9.376306\n"
          ]
        }
      ]
    },
    {
      "cell_type": "code",
      "metadata": {
        "colab": {
          "base_uri": "https://localhost:8080/"
        },
        "id": "ec4f9016",
        "outputId": "dc4fcf16-efe4-4ed2-f5cd-35553ccdab38"
      },
      "source": [
        "x_test = torch.FloatTensor([[4.5],[1.1]])\n",
        "test_result = torch.sigmoid(torch.mm(x_test, W) + b)\n",
        "print(torch.round(test_result))"
      ],
      "id": "ec4f9016",
      "execution_count": 3,
      "outputs": [
        {
          "output_type": "stream",
          "name": "stdout",
          "text": [
            "tensor([[0.],\n",
            "        [1.]])\n"
          ]
        }
      ]
    },
    {
      "cell_type": "code",
      "metadata": {
        "colab": {
          "base_uri": "https://localhost:8080/"
        },
        "id": "24bf8a39",
        "outputId": "fe27fe7f-dc83-4cc6-add3-c33f3c193414"
      },
      "source": [
        "W = torch.zeros(1,1)\n",
        "b = torch.zeros(1,1)\n",
        "lr = 1.0\n",
        "# optimizer = torch.optim.SGD([W,b], lr)\n",
        "optimizer = torch.optim.Adam([W,b], lr=1.0)\n",
        "# optimizer = torch.optim.Adadelta([W,b])\n",
        "# optimizer = torch.optim.Adagrad([W,b])\n",
        "# optimizer = torch.optim.RMSprop([W,b])\n",
        "\n",
        "\n",
        "for epoch in range(3001):\n",
        "    W.requires_grad_(True)\n",
        "    b.requires_grad_(True)\n",
        "    \n",
        "    hypothesis = torch.sigmoid(torch.mm(x_train, W) + b)\n",
        "    cost = torch.mean(\n",
        "        -y_train * torch.log(hypothesis)\n",
        "        -(1 - y_train) * torch.log(1 - hypothesis))\n",
        "\n",
        "    optimizer.zero_grad()\n",
        "    cost.backward()\n",
        "    optimizer.step()\n",
        "\n",
        "    if epoch % 100 == 0:\n",
        "        print( 'epoch: {}, cost: {:.6f}, W: {:.6f}, b: {:.6f}'.format(\n",
        "            epoch, cost.item(), W.squeeze(), b.squeeze()))\n"
      ],
      "id": "24bf8a39",
      "execution_count": 6,
      "outputs": [
        {
          "output_type": "stream",
          "name": "stdout",
          "text": [
            "epoch: 0, cost: 0.693147, W: -1.000000, b: 1.000000\n",
            "epoch: 100, cost: 0.381568, W: -3.009526, b: 9.125641\n",
            "epoch: 200, cost: 0.381491, W: -3.102716, b: 9.394313\n",
            "epoch: 300, cost: 0.381491, W: -3.103857, b: 9.397765\n",
            "epoch: 400, cost: 0.381491, W: -3.103852, b: 9.397752\n",
            "epoch: 500, cost: 0.381491, W: -3.103853, b: 9.397752\n",
            "epoch: 600, cost: 0.381491, W: -3.103853, b: 9.397752\n",
            "epoch: 700, cost: 0.381491, W: -3.103853, b: 9.397752\n",
            "epoch: 800, cost: 0.381491, W: -3.103853, b: 9.397752\n",
            "epoch: 900, cost: 0.381491, W: -3.103853, b: 9.397752\n",
            "epoch: 1000, cost: 0.381491, W: -3.103853, b: 9.397752\n",
            "epoch: 1100, cost: 0.381491, W: -3.103853, b: 9.397752\n",
            "epoch: 1200, cost: 0.381491, W: -3.103853, b: 9.397752\n",
            "epoch: 1300, cost: 0.381491, W: -3.103853, b: 9.397752\n",
            "epoch: 1400, cost: 0.381491, W: -3.103853, b: 9.397752\n",
            "epoch: 1500, cost: 0.381491, W: -3.103853, b: 9.397752\n",
            "epoch: 1600, cost: 0.381491, W: -3.103853, b: 9.397752\n",
            "epoch: 1700, cost: 0.411664, W: -3.698259, b: 10.847305\n",
            "epoch: 1800, cost: 0.381491, W: -3.103931, b: 9.401423\n",
            "epoch: 1900, cost: 0.381491, W: -3.103857, b: 9.397785\n",
            "epoch: 2000, cost: 0.381491, W: -3.103852, b: 9.397752\n",
            "epoch: 2100, cost: 0.381491, W: -3.103853, b: 9.397754\n",
            "epoch: 2200, cost: 0.381491, W: -3.103852, b: 9.397751\n",
            "epoch: 2300, cost: 0.381491, W: -3.103853, b: 9.397753\n",
            "epoch: 2400, cost: 0.381491, W: -3.103853, b: 9.397753\n",
            "epoch: 2500, cost: 0.381491, W: -3.103853, b: 9.397753\n",
            "epoch: 2600, cost: 0.381491, W: -3.103853, b: 9.397753\n",
            "epoch: 2700, cost: 0.381491, W: -3.103853, b: 9.397753\n",
            "epoch: 2800, cost: 0.381491, W: -3.103853, b: 9.397753\n",
            "epoch: 2900, cost: 0.381491, W: -3.103853, b: 9.397753\n",
            "epoch: 3000, cost: 0.381491, W: -3.103853, b: 9.397752\n"
          ]
        }
      ]
    },
    {
      "cell_type": "code",
      "metadata": {
        "colab": {
          "base_uri": "https://localhost:8080/",
          "height": 279
        },
        "id": "ce8e164b",
        "outputId": "2f018dc1-e1d0-4024-f2d2-8854378b4bbe"
      },
      "source": [
        "import matplotlib.pyplot as plt\n",
        "\n",
        "W.requires_grad_(False)\n",
        "b.requires_grad_(False)\n",
        "\n",
        "plt.scatter(x_train, y_train, c = \"black\", label = \"Training Data\")\n",
        "\n",
        "X = torch.linspace(0,5,100).unsqueeze(1)\n",
        "Y = torch.sigmoid(torch.mm(X,W)+b)\n",
        "\n",
        "plt.plot(X,Y,c=\"pink\", label = \"Fitting line\")\n",
        "plt.legend()\n",
        "plt.ylabel(\"Probability of 1 (Y)\")\n",
        "plt.xlabel(\"Input (X)\")\n",
        "\n",
        "\n",
        "plt.show()"
      ],
      "id": "ce8e164b",
      "execution_count": 16,
      "outputs": [
        {
          "output_type": "display_data",
          "data": {
            "image/png": "[encoded data removed]",
            "text/plain": [
              "<Figure size 432x288 with 1 Axes>"
            ]
          },
          "metadata": {
            "needs_background": "light"
          }
        }
      ]
    },
    {
      "cell_type": "code",
      "metadata": {
        "colab": {
          "base_uri": "https://localhost:8080/"
        },
        "id": "5f51919b",
        "outputId": "30aebcc0-2b20-4c5c-d493-b5000aa07254"
      },
      "source": [
        "from sklearn.linear_model import LogisticRegression\n",
        "\n",
        "x_train = [[1],[2],[3],[4],[5],[2.5],[3.5],[0],[3.1],[2.7],[2.8],[2.9]]\n",
        "y_train = [1,1,1,0,0,0,0,1,0,1,1,1] \n",
        "\n",
        "model = LogisticRegression(penalty='none') \n",
        "model.fit(x_train, y_train)\n",
        "\n",
        "#W와 b에 해당하는 값 출력\n",
        "print(model.coef_, model.intercept_) \n",
        "\n",
        "# 새로운 x값이 주어질 때 y값 예측해보기\n",
        "x_test = [[4.5],[1.1]]\n",
        "test_result = model.predict(x_test)\n",
        "print(test_result)"
      ],
      "id": "5f51919b",
      "execution_count": 17,
      "outputs": [
        {
          "output_type": "stream",
          "name": "stdout",
          "text": [
            "[[-3.10385806]] [9.39776831]\n",
            "[0 1]\n"
          ]
        }
      ]
    }
  ]
}