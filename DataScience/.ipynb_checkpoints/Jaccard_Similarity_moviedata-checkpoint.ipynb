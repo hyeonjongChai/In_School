{
 "cells": [
  {
   "cell_type": "code",
   "execution_count": 1,
   "metadata": {
    "_cell_guid": "b1076dfc-b9ad-4769-8c92-a6c4dae69d19",
    "_uuid": "8f2839f25d086af736a60e9eeb907d3b93b6e0e5",
    "execution": {
     "iopub.execute_input": "2021-10-15T15:17:17.727203Z",
     "iopub.status.busy": "2021-10-15T15:17:17.726333Z",
     "iopub.status.idle": "2021-10-15T15:17:17.737825Z",
     "shell.execute_reply": "2021-10-15T15:17:17.736760Z",
     "shell.execute_reply.started": "2021-10-15T15:17:17.727150Z"
    }
   },
   "outputs": [],
   "source": [
    "# This Python 3 environment comes with many helpful analytics libraries installed\n",
    "# It is defined by the kaggle/python Docker image: https://github.com/kaggle/docker-python\n",
    "# For example, here's several helpful packages to load\n",
    "\n",
    "import numpy as np # linear algebra\n",
    "import pandas as pd # data processing, CSV file I/O (e.g. pd.read_csv)\n",
    "\n",
    "# Input data files are available in the read-only \"../input/\" directory\n",
    "# For example, running this (by clicking run or pressing Shift+Enter) will list all files under the input directory\n",
    "\n",
    "import os\n",
    "for dirname, _, filenames in os.walk('/kaggle/input'):\n",
    "    for filename in filenames:\n",
    "        print(os.path.join(dirname, filename))\n",
    "\n",
    "# You can write up to 20GB to the current directory (/kaggle/working/) that gets preserved as output when you create a version using \"Save & Run All\" \n",
    "# You can also write temporary files to /kaggle/temp/, but they won't be saved outside of the current session"
   ]
  },
  {
   "cell_type": "code",
   "execution_count": 2,
   "metadata": {
    "execution": {
     "iopub.execute_input": "2021-10-15T15:17:17.759583Z",
     "iopub.status.busy": "2021-10-15T15:17:17.759342Z",
     "iopub.status.idle": "2021-10-15T15:17:18.644804Z",
     "shell.execute_reply": "2021-10-15T15:17:18.643909Z",
     "shell.execute_reply.started": "2021-10-15T15:17:17.759557Z"
    }
   },
   "outputs": [
    {
     "ename": "FileNotFoundError",
     "evalue": "[Errno 2] No such file or directory: '/kaggle/input/the-movies-dataset/movies_metadata.csv'",
     "output_type": "error",
     "traceback": [
      "\u001b[1;31m---------------------------------------------------------------------------\u001b[0m",
      "\u001b[1;31mFileNotFoundError\u001b[0m                         Traceback (most recent call last)",
      "\u001b[1;32m<ipython-input-2-183d782e2740>\u001b[0m in \u001b[0;36m<module>\u001b[1;34m\u001b[0m\n\u001b[1;32m----> 1\u001b[1;33m \u001b[0mmeta\u001b[0m \u001b[1;33m=\u001b[0m \u001b[0mpd\u001b[0m\u001b[1;33m.\u001b[0m\u001b[0mread_csv\u001b[0m\u001b[1;33m(\u001b[0m \u001b[1;34m'/kaggle/input/the-movies-dataset/movies_metadata.csv'\u001b[0m \u001b[1;33m)\u001b[0m\u001b[1;33m\u001b[0m\u001b[1;33m\u001b[0m\u001b[0m\n\u001b[0m\u001b[0;32m      2\u001b[0m \u001b[0mmeta\u001b[0m\u001b[1;33m\u001b[0m\u001b[1;33m\u001b[0m\u001b[0m\n",
      "\u001b[1;32m~\\anaconda3\\lib\\site-packages\\pandas\\io\\parsers.py\u001b[0m in \u001b[0;36mread_csv\u001b[1;34m(filepath_or_buffer, sep, delimiter, header, names, index_col, usecols, squeeze, prefix, mangle_dupe_cols, dtype, engine, converters, true_values, false_values, skipinitialspace, skiprows, skipfooter, nrows, na_values, keep_default_na, na_filter, verbose, skip_blank_lines, parse_dates, infer_datetime_format, keep_date_col, date_parser, dayfirst, cache_dates, iterator, chunksize, compression, thousands, decimal, lineterminator, quotechar, quoting, doublequote, escapechar, comment, encoding, dialect, error_bad_lines, warn_bad_lines, delim_whitespace, low_memory, memory_map, float_precision, storage_options)\u001b[0m\n\u001b[0;32m    608\u001b[0m     \u001b[0mkwds\u001b[0m\u001b[1;33m.\u001b[0m\u001b[0mupdate\u001b[0m\u001b[1;33m(\u001b[0m\u001b[0mkwds_defaults\u001b[0m\u001b[1;33m)\u001b[0m\u001b[1;33m\u001b[0m\u001b[1;33m\u001b[0m\u001b[0m\n\u001b[0;32m    609\u001b[0m \u001b[1;33m\u001b[0m\u001b[0m\n\u001b[1;32m--> 610\u001b[1;33m     \u001b[1;32mreturn\u001b[0m \u001b[0m_read\u001b[0m\u001b[1;33m(\u001b[0m\u001b[0mfilepath_or_buffer\u001b[0m\u001b[1;33m,\u001b[0m \u001b[0mkwds\u001b[0m\u001b[1;33m)\u001b[0m\u001b[1;33m\u001b[0m\u001b[1;33m\u001b[0m\u001b[0m\n\u001b[0m\u001b[0;32m    611\u001b[0m \u001b[1;33m\u001b[0m\u001b[0m\n\u001b[0;32m    612\u001b[0m \u001b[1;33m\u001b[0m\u001b[0m\n",
      "\u001b[1;32m~\\anaconda3\\lib\\site-packages\\pandas\\io\\parsers.py\u001b[0m in \u001b[0;36m_read\u001b[1;34m(filepath_or_buffer, kwds)\u001b[0m\n\u001b[0;32m    460\u001b[0m \u001b[1;33m\u001b[0m\u001b[0m\n\u001b[0;32m    461\u001b[0m     \u001b[1;31m# Create the parser.\u001b[0m\u001b[1;33m\u001b[0m\u001b[1;33m\u001b[0m\u001b[1;33m\u001b[0m\u001b[0m\n\u001b[1;32m--> 462\u001b[1;33m     \u001b[0mparser\u001b[0m \u001b[1;33m=\u001b[0m \u001b[0mTextFileReader\u001b[0m\u001b[1;33m(\u001b[0m\u001b[0mfilepath_or_buffer\u001b[0m\u001b[1;33m,\u001b[0m \u001b[1;33m**\u001b[0m\u001b[0mkwds\u001b[0m\u001b[1;33m)\u001b[0m\u001b[1;33m\u001b[0m\u001b[1;33m\u001b[0m\u001b[0m\n\u001b[0m\u001b[0;32m    463\u001b[0m \u001b[1;33m\u001b[0m\u001b[0m\n\u001b[0;32m    464\u001b[0m     \u001b[1;32mif\u001b[0m \u001b[0mchunksize\u001b[0m \u001b[1;32mor\u001b[0m \u001b[0miterator\u001b[0m\u001b[1;33m:\u001b[0m\u001b[1;33m\u001b[0m\u001b[1;33m\u001b[0m\u001b[0m\n",
      "\u001b[1;32m~\\anaconda3\\lib\\site-packages\\pandas\\io\\parsers.py\u001b[0m in \u001b[0;36m__init__\u001b[1;34m(self, f, engine, **kwds)\u001b[0m\n\u001b[0;32m    817\u001b[0m             \u001b[0mself\u001b[0m\u001b[1;33m.\u001b[0m\u001b[0moptions\u001b[0m\u001b[1;33m[\u001b[0m\u001b[1;34m\"has_index_names\"\u001b[0m\u001b[1;33m]\u001b[0m \u001b[1;33m=\u001b[0m \u001b[0mkwds\u001b[0m\u001b[1;33m[\u001b[0m\u001b[1;34m\"has_index_names\"\u001b[0m\u001b[1;33m]\u001b[0m\u001b[1;33m\u001b[0m\u001b[1;33m\u001b[0m\u001b[0m\n\u001b[0;32m    818\u001b[0m \u001b[1;33m\u001b[0m\u001b[0m\n\u001b[1;32m--> 819\u001b[1;33m         \u001b[0mself\u001b[0m\u001b[1;33m.\u001b[0m\u001b[0m_engine\u001b[0m \u001b[1;33m=\u001b[0m \u001b[0mself\u001b[0m\u001b[1;33m.\u001b[0m\u001b[0m_make_engine\u001b[0m\u001b[1;33m(\u001b[0m\u001b[0mself\u001b[0m\u001b[1;33m.\u001b[0m\u001b[0mengine\u001b[0m\u001b[1;33m)\u001b[0m\u001b[1;33m\u001b[0m\u001b[1;33m\u001b[0m\u001b[0m\n\u001b[0m\u001b[0;32m    820\u001b[0m \u001b[1;33m\u001b[0m\u001b[0m\n\u001b[0;32m    821\u001b[0m     \u001b[1;32mdef\u001b[0m \u001b[0mclose\u001b[0m\u001b[1;33m(\u001b[0m\u001b[0mself\u001b[0m\u001b[1;33m)\u001b[0m\u001b[1;33m:\u001b[0m\u001b[1;33m\u001b[0m\u001b[1;33m\u001b[0m\u001b[0m\n",
      "\u001b[1;32m~\\anaconda3\\lib\\site-packages\\pandas\\io\\parsers.py\u001b[0m in \u001b[0;36m_make_engine\u001b[1;34m(self, engine)\u001b[0m\n\u001b[0;32m   1048\u001b[0m             )\n\u001b[0;32m   1049\u001b[0m         \u001b[1;31m# error: Too many arguments for \"ParserBase\"\u001b[0m\u001b[1;33m\u001b[0m\u001b[1;33m\u001b[0m\u001b[1;33m\u001b[0m\u001b[0m\n\u001b[1;32m-> 1050\u001b[1;33m         \u001b[1;32mreturn\u001b[0m \u001b[0mmapping\u001b[0m\u001b[1;33m[\u001b[0m\u001b[0mengine\u001b[0m\u001b[1;33m]\u001b[0m\u001b[1;33m(\u001b[0m\u001b[0mself\u001b[0m\u001b[1;33m.\u001b[0m\u001b[0mf\u001b[0m\u001b[1;33m,\u001b[0m \u001b[1;33m**\u001b[0m\u001b[0mself\u001b[0m\u001b[1;33m.\u001b[0m\u001b[0moptions\u001b[0m\u001b[1;33m)\u001b[0m  \u001b[1;31m# type: ignore[call-arg]\u001b[0m\u001b[1;33m\u001b[0m\u001b[1;33m\u001b[0m\u001b[0m\n\u001b[0m\u001b[0;32m   1051\u001b[0m \u001b[1;33m\u001b[0m\u001b[0m\n\u001b[0;32m   1052\u001b[0m     \u001b[1;32mdef\u001b[0m \u001b[0m_failover_to_python\u001b[0m\u001b[1;33m(\u001b[0m\u001b[0mself\u001b[0m\u001b[1;33m)\u001b[0m\u001b[1;33m:\u001b[0m\u001b[1;33m\u001b[0m\u001b[1;33m\u001b[0m\u001b[0m\n",
      "\u001b[1;32m~\\anaconda3\\lib\\site-packages\\pandas\\io\\parsers.py\u001b[0m in \u001b[0;36m__init__\u001b[1;34m(self, src, **kwds)\u001b[0m\n\u001b[0;32m   1865\u001b[0m \u001b[1;33m\u001b[0m\u001b[0m\n\u001b[0;32m   1866\u001b[0m         \u001b[1;31m# open handles\u001b[0m\u001b[1;33m\u001b[0m\u001b[1;33m\u001b[0m\u001b[1;33m\u001b[0m\u001b[0m\n\u001b[1;32m-> 1867\u001b[1;33m         \u001b[0mself\u001b[0m\u001b[1;33m.\u001b[0m\u001b[0m_open_handles\u001b[0m\u001b[1;33m(\u001b[0m\u001b[0msrc\u001b[0m\u001b[1;33m,\u001b[0m \u001b[0mkwds\u001b[0m\u001b[1;33m)\u001b[0m\u001b[1;33m\u001b[0m\u001b[1;33m\u001b[0m\u001b[0m\n\u001b[0m\u001b[0;32m   1868\u001b[0m         \u001b[1;32massert\u001b[0m \u001b[0mself\u001b[0m\u001b[1;33m.\u001b[0m\u001b[0mhandles\u001b[0m \u001b[1;32mis\u001b[0m \u001b[1;32mnot\u001b[0m \u001b[1;32mNone\u001b[0m\u001b[1;33m\u001b[0m\u001b[1;33m\u001b[0m\u001b[0m\n\u001b[0;32m   1869\u001b[0m         \u001b[1;32mfor\u001b[0m \u001b[0mkey\u001b[0m \u001b[1;32min\u001b[0m \u001b[1;33m(\u001b[0m\u001b[1;34m\"storage_options\"\u001b[0m\u001b[1;33m,\u001b[0m \u001b[1;34m\"encoding\"\u001b[0m\u001b[1;33m,\u001b[0m \u001b[1;34m\"memory_map\"\u001b[0m\u001b[1;33m,\u001b[0m \u001b[1;34m\"compression\"\u001b[0m\u001b[1;33m)\u001b[0m\u001b[1;33m:\u001b[0m\u001b[1;33m\u001b[0m\u001b[1;33m\u001b[0m\u001b[0m\n",
      "\u001b[1;32m~\\anaconda3\\lib\\site-packages\\pandas\\io\\parsers.py\u001b[0m in \u001b[0;36m_open_handles\u001b[1;34m(self, src, kwds)\u001b[0m\n\u001b[0;32m   1360\u001b[0m         \u001b[0mLet\u001b[0m \u001b[0mthe\u001b[0m \u001b[0mreaders\u001b[0m \u001b[0mopen\u001b[0m \u001b[0mIOHanldes\u001b[0m \u001b[0mafter\u001b[0m \u001b[0mthey\u001b[0m \u001b[0mare\u001b[0m \u001b[0mdone\u001b[0m \u001b[1;32mwith\u001b[0m \u001b[0mtheir\u001b[0m \u001b[0mpotential\u001b[0m \u001b[0mraises\u001b[0m\u001b[1;33m.\u001b[0m\u001b[1;33m\u001b[0m\u001b[1;33m\u001b[0m\u001b[0m\n\u001b[0;32m   1361\u001b[0m         \"\"\"\n\u001b[1;32m-> 1362\u001b[1;33m         self.handles = get_handle(\n\u001b[0m\u001b[0;32m   1363\u001b[0m             \u001b[0msrc\u001b[0m\u001b[1;33m,\u001b[0m\u001b[1;33m\u001b[0m\u001b[1;33m\u001b[0m\u001b[0m\n\u001b[0;32m   1364\u001b[0m             \u001b[1;34m\"r\"\u001b[0m\u001b[1;33m,\u001b[0m\u001b[1;33m\u001b[0m\u001b[1;33m\u001b[0m\u001b[0m\n",
      "\u001b[1;32m~\\anaconda3\\lib\\site-packages\\pandas\\io\\common.py\u001b[0m in \u001b[0;36mget_handle\u001b[1;34m(path_or_buf, mode, encoding, compression, memory_map, is_text, errors, storage_options)\u001b[0m\n\u001b[0;32m    640\u001b[0m                 \u001b[0merrors\u001b[0m \u001b[1;33m=\u001b[0m \u001b[1;34m\"replace\"\u001b[0m\u001b[1;33m\u001b[0m\u001b[1;33m\u001b[0m\u001b[0m\n\u001b[0;32m    641\u001b[0m             \u001b[1;31m# Encoding\u001b[0m\u001b[1;33m\u001b[0m\u001b[1;33m\u001b[0m\u001b[1;33m\u001b[0m\u001b[0m\n\u001b[1;32m--> 642\u001b[1;33m             handle = open(\n\u001b[0m\u001b[0;32m    643\u001b[0m                 \u001b[0mhandle\u001b[0m\u001b[1;33m,\u001b[0m\u001b[1;33m\u001b[0m\u001b[1;33m\u001b[0m\u001b[0m\n\u001b[0;32m    644\u001b[0m                 \u001b[0mioargs\u001b[0m\u001b[1;33m.\u001b[0m\u001b[0mmode\u001b[0m\u001b[1;33m,\u001b[0m\u001b[1;33m\u001b[0m\u001b[1;33m\u001b[0m\u001b[0m\n",
      "\u001b[1;31mFileNotFoundError\u001b[0m: [Errno 2] No such file or directory: '/kaggle/input/the-movies-dataset/movies_metadata.csv'"
     ]
    }
   ],
   "source": [
    "meta = pd.read_csv( '/kaggle/input/the-movies-dataset/movies_metadata.csv' )\n",
    "meta"
   ]
  },
  {
   "cell_type": "code",
   "execution_count": 67,
   "metadata": {
    "execution": {
     "iopub.execute_input": "2021-10-15T15:17:18.646440Z",
     "iopub.status.busy": "2021-10-15T15:17:18.646211Z",
     "iopub.status.idle": "2021-10-15T15:17:18.661927Z",
     "shell.execute_reply": "2021-10-15T15:17:18.661086Z",
     "shell.execute_reply.started": "2021-10-15T15:17:18.646413Z"
    }
   },
   "outputs": [],
   "source": [
    "meta = meta[ ['id', 'original_title', 'original_language', 'genres'] ] \n",
    "meta"
   ]
  },
  {
   "cell_type": "code",
   "execution_count": 68,
   "metadata": {
    "execution": {
     "iopub.execute_input": "2021-10-15T15:17:18.663292Z",
     "iopub.status.busy": "2021-10-15T15:17:18.663073Z",
     "iopub.status.idle": "2021-10-15T15:17:18.686007Z",
     "shell.execute_reply": "2021-10-15T15:17:18.685084Z",
     "shell.execute_reply.started": "2021-10-15T15:17:18.663260Z"
    }
   },
   "outputs": [],
   "source": [
    "meta = meta.rename(columns={'id':'movieId', \n",
    "                            'original_title': 'title', \n",
    "                            'original_language': 'language'}) \n",
    "\n",
    "meta"
   ]
  },
  {
   "cell_type": "code",
   "execution_count": 69,
   "metadata": {
    "execution": {
     "iopub.execute_input": "2021-10-15T15:17:18.687828Z",
     "iopub.status.busy": "2021-10-15T15:17:18.687538Z",
     "iopub.status.idle": "2021-10-15T15:17:18.708628Z",
     "shell.execute_reply": "2021-10-15T15:17:18.707946Z",
     "shell.execute_reply.started": "2021-10-15T15:17:18.687768Z"
    }
   },
   "outputs": [],
   "source": [
    "meta = meta.loc[meta['language'] == 'en',:] \n",
    "meta"
   ]
  },
  {
   "cell_type": "code",
   "execution_count": 70,
   "metadata": {
    "execution": {
     "iopub.execute_input": "2021-10-15T15:17:18.709891Z",
     "iopub.status.busy": "2021-10-15T15:17:18.709641Z",
     "iopub.status.idle": "2021-10-15T15:17:18.729517Z",
     "shell.execute_reply": "2021-10-15T15:17:18.728759Z",
     "shell.execute_reply.started": "2021-10-15T15:17:18.709865Z"
    }
   },
   "outputs": [],
   "source": [
    "meta = meta[meta['language'] == 'en'] \n",
    "meta"
   ]
  },
  {
   "cell_type": "code",
   "execution_count": 71,
   "metadata": {
    "execution": {
     "iopub.execute_input": "2021-10-15T15:17:18.731398Z",
     "iopub.status.busy": "2021-10-15T15:17:18.730646Z",
     "iopub.status.idle": "2021-10-15T15:17:18.757652Z",
     "shell.execute_reply": "2021-10-15T15:17:18.756985Z",
     "shell.execute_reply.started": "2021-10-15T15:17:18.731357Z"
    }
   },
   "outputs": [],
   "source": [
    "meta.movieId = pd.to_numeric(meta.movieId) \n",
    "meta.movieId"
   ]
  },
  {
   "cell_type": "code",
   "execution_count": 72,
   "metadata": {
    "execution": {
     "iopub.execute_input": "2021-10-15T15:17:18.759687Z",
     "iopub.status.busy": "2021-10-15T15:17:18.759015Z",
     "iopub.status.idle": "2021-10-15T15:17:19.291605Z",
     "shell.execute_reply": "2021-10-15T15:17:19.290953Z",
     "shell.execute_reply.started": "2021-10-15T15:17:18.759641Z"
    }
   },
   "outputs": [],
   "source": [
    "def str_to_set(s):\n",
    "    return set(item['name'] for item in eval(s))\n",
    "\n",
    "meta.genres = meta.genres.apply(str_to_set)"
   ]
  },
  {
   "cell_type": "code",
   "execution_count": 73,
   "metadata": {
    "execution": {
     "iopub.execute_input": "2021-10-15T15:17:19.293356Z",
     "iopub.status.busy": "2021-10-15T15:17:19.292655Z",
     "iopub.status.idle": "2021-10-15T15:17:19.296487Z",
     "shell.execute_reply": "2021-10-15T15:17:19.295964Z",
     "shell.execute_reply.started": "2021-10-15T15:17:19.293315Z"
    }
   },
   "outputs": [],
   "source": [
    "# def str_to_set(s):\n",
    "#     genre_set = set() \n",
    "#     for item in eval(s):\n",
    "#         genre_set.add(item['name']) \n",
    "#     return genre_set\n",
    "\n",
    "\n",
    "\n",
    "# str_to_set = lambda s: set(item['name'] for item in eval(s))"
   ]
  },
  {
   "cell_type": "code",
   "execution_count": 74,
   "metadata": {
    "execution": {
     "iopub.execute_input": "2021-10-15T15:17:19.298120Z",
     "iopub.status.busy": "2021-10-15T15:17:19.297411Z",
     "iopub.status.idle": "2021-10-15T15:17:19.411740Z",
     "shell.execute_reply": "2021-10-15T15:17:19.410853Z",
     "shell.execute_reply.started": "2021-10-15T15:17:19.298082Z"
    }
   },
   "outputs": [],
   "source": [
    "keywords = pd.read_csv( '/kaggle/input/the-movies-dataset/keywords.csv' ) \n",
    "keywords"
   ]
  },
  {
   "cell_type": "code",
   "execution_count": 75,
   "metadata": {
    "execution": {
     "iopub.execute_input": "2021-10-15T15:17:19.414012Z",
     "iopub.status.busy": "2021-10-15T15:17:19.413801Z",
     "iopub.status.idle": "2021-10-15T15:17:19.427691Z",
     "shell.execute_reply": "2021-10-15T15:17:19.426757Z",
     "shell.execute_reply.started": "2021-10-15T15:17:19.413987Z"
    }
   },
   "outputs": [],
   "source": [
    "keywords = keywords.rename(columns={'id': 'movieId'}) \n",
    "keywords.movieId = pd.to_numeric(keywords.movieId) \n",
    "keywords"
   ]
  },
  {
   "cell_type": "code",
   "execution_count": 76,
   "metadata": {
    "execution": {
     "iopub.execute_input": "2021-10-15T15:17:19.429314Z",
     "iopub.status.busy": "2021-10-15T15:17:19.429011Z",
     "iopub.status.idle": "2021-10-15T15:17:20.802977Z",
     "shell.execute_reply": "2021-10-15T15:17:20.802119Z",
     "shell.execute_reply.started": "2021-10-15T15:17:19.429276Z"
    }
   },
   "outputs": [],
   "source": [
    "keywords.keywords = keywords.keywords.apply(str_to_set) \n",
    "keywords"
   ]
  },
  {
   "cell_type": "code",
   "execution_count": 77,
   "metadata": {
    "execution": {
     "iopub.execute_input": "2021-10-15T15:17:20.804384Z",
     "iopub.status.busy": "2021-10-15T15:17:20.804103Z",
     "iopub.status.idle": "2021-10-15T15:17:20.828914Z",
     "shell.execute_reply": "2021-10-15T15:17:20.828176Z",
     "shell.execute_reply.started": "2021-10-15T15:17:20.804347Z"
    }
   },
   "outputs": [],
   "source": [
    "merged = pd.merge(meta,keywords, on = 'movieId', how = 'inner')"
   ]
  },
  {
   "cell_type": "code",
   "execution_count": 78,
   "metadata": {
    "execution": {
     "iopub.execute_input": "2021-10-15T15:17:20.830627Z",
     "iopub.status.busy": "2021-10-15T15:17:20.829878Z",
     "iopub.status.idle": "2021-10-15T15:17:20.846524Z",
     "shell.execute_reply": "2021-10-15T15:17:20.845552Z",
     "shell.execute_reply.started": "2021-10-15T15:17:20.830592Z"
    }
   },
   "outputs": [],
   "source": [
    "dk = merged.loc[merged.title == 'The Dark Knight'].iloc[0,:]\n",
    "dk"
   ]
  },
  {
   "cell_type": "code",
   "execution_count": 79,
   "metadata": {
    "execution": {
     "iopub.execute_input": "2021-10-15T15:17:20.848426Z",
     "iopub.status.busy": "2021-10-15T15:17:20.847845Z",
     "iopub.status.idle": "2021-10-15T15:17:20.862337Z",
     "shell.execute_reply": "2021-10-15T15:17:20.861769Z",
     "shell.execute_reply.started": "2021-10-15T15:17:20.848395Z"
    }
   },
   "outputs": [],
   "source": [
    "dkr = merged.loc[merged.title == 'The Dark Knight Rises'].iloc[0, :] \n",
    "# pd.concat([dk, dkr], axis=1).T\n",
    "dk_set = dk.keywords | dk.genres\n",
    "dkr_set = dkr.keywords | dk.genres"
   ]
  },
  {
   "cell_type": "code",
   "execution_count": 80,
   "metadata": {
    "execution": {
     "iopub.execute_input": "2021-10-15T15:17:20.863891Z",
     "iopub.status.busy": "2021-10-15T15:17:20.863190Z",
     "iopub.status.idle": "2021-10-15T15:17:20.872875Z",
     "shell.execute_reply": "2021-10-15T15:17:20.872289Z",
     "shell.execute_reply.started": "2021-10-15T15:17:20.863857Z"
    }
   },
   "outputs": [],
   "source": [
    "def jaccard_similarity(set1, set2):\n",
    "    if(len(set1|set2)==0): return 0\n",
    "    return len(set1&set2) / len(set1|set2)"
   ]
  },
  {
   "cell_type": "code",
   "execution_count": 81,
   "metadata": {
    "execution": {
     "iopub.execute_input": "2021-10-15T15:17:20.874212Z",
     "iopub.status.busy": "2021-10-15T15:17:20.873848Z",
     "iopub.status.idle": "2021-10-15T15:17:20.887900Z",
     "shell.execute_reply": "2021-10-15T15:17:20.887154Z",
     "shell.execute_reply.started": "2021-10-15T15:17:20.874184Z"
    }
   },
   "outputs": [],
   "source": [
    "toy = merged[merged['title']=='Toy Story'].iloc[0,:]\n",
    "toy_set = toy.keywords | toy.genres"
   ]
  },
  {
   "cell_type": "code",
   "execution_count": 82,
   "metadata": {
    "execution": {
     "iopub.execute_input": "2021-10-15T15:17:20.889327Z",
     "iopub.status.busy": "2021-10-15T15:17:20.889095Z",
     "iopub.status.idle": "2021-10-15T15:17:20.898479Z",
     "shell.execute_reply": "2021-10-15T15:17:20.897639Z",
     "shell.execute_reply.started": "2021-10-15T15:17:20.889294Z"
    }
   },
   "outputs": [],
   "source": [
    "a = jaccard_similarity(dk_set, dkr_set)\n",
    "b = jaccard_similarity(dk_set, toy_set)\n",
    "\n",
    "print(f\"Jaccard Similarity\\n\\n[dk,dkr]: {a}\\n[dk,toy]: {b}\")"
   ]
  }
 ],
 "metadata": {
  "kernelspec": {
   "display_name": "Python 3",
   "language": "python",
   "name": "python3"
  },
  "language_info": {
   "codemirror_mode": {
    "name": "ipython",
    "version": 3
   },
   "file_extension": ".py",
   "mimetype": "text/x-python",
   "name": "python",
   "nbconvert_exporter": "python",
   "pygments_lexer": "ipython3",
   "version": "3.8.8"
  }
 },
 "nbformat": 4,
 "nbformat_minor": 4
}
