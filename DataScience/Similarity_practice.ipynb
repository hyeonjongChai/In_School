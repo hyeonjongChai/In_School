{
 "cells": [
  {
   "cell_type": "code",
   "execution_count": 1,
   "metadata": {
    "_cell_guid": "b1076dfc-b9ad-4769-8c92-a6c4dae69d19",
    "_uuid": "8f2839f25d086af736a60e9eeb907d3b93b6e0e5",
    "execution": {
     "iopub.execute_input": "2021-10-16T06:34:39.419035Z",
     "iopub.status.busy": "2021-10-16T06:34:39.418070Z",
     "iopub.status.idle": "2021-10-16T06:34:39.453253Z",
     "shell.execute_reply": "2021-10-16T06:34:39.452435Z",
     "shell.execute_reply.started": "2021-10-16T06:34:39.418897Z"
    }
   },
   "outputs": [],
   "source": [
    "import numpy as np \n",
    "import pandas as pd \n",
    "\n",
    "import os\n",
    "for dirname, _, filenames in os.walk('/kaggle/input'):\n",
    "    for filename in filenames:\n",
    "        print(os.path.join(dirname, filename))"
   ]
  },
  {
   "cell_type": "code",
   "execution_count": 2,
   "metadata": {
    "execution": {
     "iopub.execute_input": "2021-10-16T06:34:39.455204Z",
     "iopub.status.busy": "2021-10-16T06:34:39.454820Z",
     "iopub.status.idle": "2021-10-16T06:34:40.640881Z",
     "shell.execute_reply": "2021-10-16T06:34:40.639837Z",
     "shell.execute_reply.started": "2021-10-16T06:34:39.455163Z"
    }
   },
   "outputs": [],
   "source": [
    "meta = pd.read_csv( '/kaggle/input/the-movies-dataset/movies_metadata.csv' )\n",
    "meta"
   ]
  },
  {
   "cell_type": "code",
   "execution_count": 3,
   "metadata": {
    "execution": {
     "iopub.execute_input": "2021-10-16T06:34:40.642293Z",
     "iopub.status.busy": "2021-10-16T06:34:40.642037Z",
     "iopub.status.idle": "2021-10-16T06:34:40.659996Z",
     "shell.execute_reply": "2021-10-16T06:34:40.659158Z",
     "shell.execute_reply.started": "2021-10-16T06:34:40.642264Z"
    }
   },
   "outputs": [],
   "source": [
    "meta = meta[ ['id', 'original_title', 'original_language', 'genres'] ] \n",
    "meta"
   ]
  },
  {
   "cell_type": "code",
   "execution_count": 4,
   "metadata": {
    "execution": {
     "iopub.execute_input": "2021-10-16T06:34:40.662880Z",
     "iopub.status.busy": "2021-10-16T06:34:40.662391Z",
     "iopub.status.idle": "2021-10-16T06:34:40.683145Z",
     "shell.execute_reply": "2021-10-16T06:34:40.682186Z",
     "shell.execute_reply.started": "2021-10-16T06:34:40.662805Z"
    }
   },
   "outputs": [],
   "source": [
    "meta = meta.rename(columns={'id':'movieId', \n",
    "                            'original_title': 'title', \n",
    "                            'original_language': 'language'}) \n",
    "\n",
    "meta"
   ]
  },
  {
   "cell_type": "code",
   "execution_count": 5,
   "metadata": {
    "execution": {
     "iopub.execute_input": "2021-10-16T06:34:40.684801Z",
     "iopub.status.busy": "2021-10-16T06:34:40.684566Z",
     "iopub.status.idle": "2021-10-16T06:34:40.714281Z",
     "shell.execute_reply": "2021-10-16T06:34:40.713461Z",
     "shell.execute_reply.started": "2021-10-16T06:34:40.684775Z"
    }
   },
   "outputs": [],
   "source": [
    "meta = meta[meta['language'] == 'en'] # Use Series True or False \n",
    "# meta = meta.loc[meta['language'] == 'en',:] \n",
    "meta"
   ]
  },
  {
   "cell_type": "code",
   "execution_count": 6,
   "metadata": {
    "execution": {
     "iopub.execute_input": "2021-10-16T06:34:40.715666Z",
     "iopub.status.busy": "2021-10-16T06:34:40.715365Z",
     "iopub.status.idle": "2021-10-16T06:34:40.764221Z",
     "shell.execute_reply": "2021-10-16T06:34:40.763403Z",
     "shell.execute_reply.started": "2021-10-16T06:34:40.715628Z"
    }
   },
   "outputs": [],
   "source": [
    "meta.movieId = pd.to_numeric(meta.movieId) \n",
    "meta.movieId"
   ]
  },
  {
   "cell_type": "code",
   "execution_count": 7,
   "metadata": {
    "execution": {
     "iopub.execute_input": "2021-10-16T06:34:40.765743Z",
     "iopub.status.busy": "2021-10-16T06:34:40.765225Z",
     "iopub.status.idle": "2021-10-16T06:34:41.450721Z",
     "shell.execute_reply": "2021-10-16T06:34:41.450030Z",
     "shell.execute_reply.started": "2021-10-16T06:34:40.765710Z"
    }
   },
   "outputs": [],
   "source": [
    "# def str_to_set(s):\n",
    "#     genre_set = set() \n",
    "#     for item in eval(s):\n",
    "#         genre_set.add(item['name']) \n",
    "#     return genre_set\n",
    "\n",
    "def str_to_set(s):\n",
    "    return set(item['name'] for item in eval(s))\n",
    "# str_to_set = lambda s: set(item['name'] for item in eval(s))\n",
    "\n",
    "meta.genres = meta.genres.apply(str_to_set)\n",
    "meta"
   ]
  },
  {
   "cell_type": "code",
   "execution_count": 8,
   "metadata": {
    "execution": {
     "iopub.execute_input": "2021-10-16T06:34:41.452154Z",
     "iopub.status.busy": "2021-10-16T06:34:41.451965Z",
     "iopub.status.idle": "2021-10-16T06:34:41.632012Z",
     "shell.execute_reply": "2021-10-16T06:34:41.631186Z",
     "shell.execute_reply.started": "2021-10-16T06:34:41.452130Z"
    }
   },
   "outputs": [],
   "source": [
    "keywords = pd.read_csv( '/kaggle/input/the-movies-dataset/keywords.csv' ) \n",
    "keywords"
   ]
  },
  {
   "cell_type": "code",
   "execution_count": 9,
   "metadata": {
    "execution": {
     "iopub.execute_input": "2021-10-16T06:34:41.633436Z",
     "iopub.status.busy": "2021-10-16T06:34:41.633129Z",
     "iopub.status.idle": "2021-10-16T06:34:43.209883Z",
     "shell.execute_reply": "2021-10-16T06:34:43.209279Z",
     "shell.execute_reply.started": "2021-10-16T06:34:41.633404Z"
    }
   },
   "outputs": [],
   "source": [
    "keywords = keywords.rename(columns={'id': 'movieId'}) \n",
    "keywords.movieId = pd.to_numeric(keywords.movieId)\n",
    "keywords.keywords = keywords.keywords.apply(str_to_set) \n",
    "keywords"
   ]
  },
  {
   "cell_type": "code",
   "execution_count": 10,
   "metadata": {
    "execution": {
     "iopub.execute_input": "2021-10-16T06:34:43.212541Z",
     "iopub.status.busy": "2021-10-16T06:34:43.211781Z",
     "iopub.status.idle": "2021-10-16T06:34:43.240076Z",
     "shell.execute_reply": "2021-10-16T06:34:43.239202Z",
     "shell.execute_reply.started": "2021-10-16T06:34:43.212508Z"
    }
   },
   "outputs": [],
   "source": [
    "merged = pd.merge(meta,keywords, on = 'movieId', how = 'inner')"
   ]
  },
  {
   "cell_type": "code",
   "execution_count": 11,
   "metadata": {
    "execution": {
     "iopub.execute_input": "2021-10-16T06:34:43.241493Z",
     "iopub.status.busy": "2021-10-16T06:34:43.241286Z",
     "iopub.status.idle": "2021-10-16T06:34:43.268801Z",
     "shell.execute_reply": "2021-10-16T06:34:43.268271Z",
     "shell.execute_reply.started": "2021-10-16T06:34:43.241469Z"
    }
   },
   "outputs": [],
   "source": [
    "dk = merged.loc[merged.title == 'The Dark Knight'].iloc[0,:]\n",
    "dkr = merged.loc[merged.title == 'The Dark Knight Rises'].iloc[0, :] \n",
    "\n",
    "dk\n",
    "dkr"
   ]
  },
  {
   "cell_type": "code",
   "execution_count": 12,
   "metadata": {
    "execution": {
     "iopub.execute_input": "2021-10-16T06:34:43.270100Z",
     "iopub.status.busy": "2021-10-16T06:34:43.269767Z",
     "iopub.status.idle": "2021-10-16T06:34:43.274713Z",
     "shell.execute_reply": "2021-10-16T06:34:43.274201Z",
     "shell.execute_reply.started": "2021-10-16T06:34:43.270073Z"
    }
   },
   "outputs": [],
   "source": [
    "# pd.concat([dk, dkr], axis=1).T\n",
    "\n",
    "dk_set = dk.keywords | dk.genres\n",
    "dkr_set = dkr.keywords | dk.genres"
   ]
  },
  {
   "cell_type": "code",
   "execution_count": 13,
   "metadata": {
    "execution": {
     "iopub.execute_input": "2021-10-16T06:34:43.276194Z",
     "iopub.status.busy": "2021-10-16T06:34:43.275588Z",
     "iopub.status.idle": "2021-10-16T06:34:43.285773Z",
     "shell.execute_reply": "2021-10-16T06:34:43.285102Z",
     "shell.execute_reply.started": "2021-10-16T06:34:43.276165Z"
    }
   },
   "outputs": [],
   "source": [
    "def jaccard_similarity(set1, set2):\n",
    "    if(len(set1|set2)==0): return 0\n",
    "    return len(set1&set2) / len(set1|set2)"
   ]
  },
  {
   "cell_type": "code",
   "execution_count": 14,
   "metadata": {
    "execution": {
     "iopub.execute_input": "2021-10-16T06:34:43.287140Z",
     "iopub.status.busy": "2021-10-16T06:34:43.286809Z",
     "iopub.status.idle": "2021-10-16T06:34:43.302335Z",
     "shell.execute_reply": "2021-10-16T06:34:43.301571Z",
     "shell.execute_reply.started": "2021-10-16T06:34:43.287112Z"
    }
   },
   "outputs": [],
   "source": [
    "toy = merged[merged['title']=='Toy Story'].iloc[0,:]\n",
    "toy_set = toy.keywords | toy.genres"
   ]
  },
  {
   "cell_type": "code",
   "execution_count": 15,
   "metadata": {
    "execution": {
     "iopub.execute_input": "2021-10-16T06:34:43.303760Z",
     "iopub.status.busy": "2021-10-16T06:34:43.303518Z",
     "iopub.status.idle": "2021-10-16T06:34:43.313966Z",
     "shell.execute_reply": "2021-10-16T06:34:43.313059Z",
     "shell.execute_reply.started": "2021-10-16T06:34:43.303733Z"
    }
   },
   "outputs": [],
   "source": [
    "a = jaccard_similarity(dk_set, dkr_set)\n",
    "b = jaccard_similarity(dk_set, toy_set)\n",
    "\n",
    "print(f\"Jaccard Similarity\\n\\n[dk,dkr]: {a}\\n[dk,toy]: {b}\")"
   ]
  }
 ],
 "metadata": {
  "kernelspec": {
   "display_name": "Python 3",
   "language": "python",
   "name": "python3"
  },
  "language_info": {
   "codemirror_mode": {
    "name": "ipython",
    "version": 3
   },
   "file_extension": ".py",
   "mimetype": "text/x-python",
   "name": "python",
   "nbconvert_exporter": "python",
   "pygments_lexer": "ipython3",
   "version": "3.8.8"
  }
 },
 "nbformat": 4,
 "nbformat_minor": 4
}
