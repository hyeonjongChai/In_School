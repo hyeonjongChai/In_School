{
  "nbformat": 4,
  "nbformat_minor": 0,
  "metadata": {
    "colab": {
      "name": "DataScience_L13.1_Naive Bayes의 사본",
      "private_outputs": true,
      "provenance": [],
      "collapsed_sections": []
    },
    "kernelspec": {
      "name": "python3",
      "display_name": "Python 3"
    }
  },
  "cells": [
    {
      "cell_type": "code",
      "metadata": {
        "id": "ziIk1f9zwEID"
      },
      "source": [
        "import requests\n",
        "import zipfile\n",
        "import random\n",
        "from collections import Counter\n",
        "import re"
      ],
      "execution_count": null,
      "outputs": []
    },
    {
      "cell_type": "code",
      "metadata": {
        "id": "B4SN_Qzwp87k"
      },
      "source": [
        "# data download, unzip\n",
        "\n",
        "r = requests.get(\"http://www.dt.fee.unicamp.br/~tiago/smsspamcollection/smsspamcollection.zip\")\n",
        "with open(\"spam.zip\", \"wb\") as f:\n",
        "    f.write(r.content)"
      ],
      "execution_count": null,
      "outputs": []
    },
    {
      "cell_type": "code",
      "metadata": {
        "id": "CsIaJh9NwvPw"
      },
      "source": [
        "# loading data\n",
        "t = zipfile.ZipFile(\"spam.zip\").extractall(\"./\")\n",
        "\n",
        "data = []\n",
        "with open(\"SMSSpamCollection.txt\", \"r\") as f:\n",
        "    for line in f:\n",
        "        cls, txt = line.strip().split('\\t')\n",
        "        bow = set(re.findall(\"[0-9a-z_]+\", txt.lower()))\n",
        "        data.append([cls, bow])"
      ],
      "execution_count": null,
      "outputs": []
    },
    {
      "cell_type": "code",
      "metadata": {
        "id": "P7HDWaY0p7Nb"
      },
      "source": [
        "# split data into train and test\n",
        "\n",
        "random.shuffle(data)\n",
        "\n",
        "train_size = int(0.8 * len(data))\n",
        "test_size = len(data) - train_size\n",
        "\n",
        "train = data[:train_size]\n",
        "test = data[train_size:]\n",
        "\n",
        "print(len(train), len(test))\n",
        "print(train)"
      ],
      "execution_count": null,
      "outputs": []
    },
    {
      "cell_type": "code",
      "metadata": {
        "id": "SpU4Mbehw7r9"
      },
      "source": [
        "# prior probability\n",
        "\n",
        "n_total = train_size\n",
        "n_spam = sum(1 for cls, bow in train if cls == 'spam')\n",
        "n_ham = sum(1 for cls, bow in train if cls == 'ham')\n",
        "\n",
        "alpha = 0.0005\n",
        "\n",
        "prior_spam = (n_spam + alpha) / (n_total + 2*alpha)\n",
        "prior_ham = (n_ham + alpha) / (n_total + 2*alpha)\n",
        "\n",
        "print(prior_spam, prior_ham)"
      ],
      "execution_count": null,
      "outputs": []
    },
    {
      "cell_type": "code",
      "metadata": {
        "id": "7DieZYX8tFmR"
      },
      "source": [
        "# spam_words = {}\n",
        "# ham_words = {}\n",
        "\n",
        "# # print(train)\n",
        "\n",
        "# for cls, bow in train:\n",
        "#     for word in bow:\n",
        "#         if cls == 'spam':\n",
        "#             if word not in spam_words:\n",
        "#                 spam_words[word] = 0\n",
        "#             spam_words[word] += 1\n",
        "\n",
        "#         else:\n",
        "#             if word not in ham_words:\n",
        "#                 ham_words[word] = 0\n",
        "#             ham_words[word] += 1\n",
        "\n",
        "# ham_words"
      ],
      "execution_count": null,
      "outputs": []
    },
    {
      "cell_type": "code",
      "metadata": {
        "id": "vCxjoF_y0H_f"
      },
      "source": [
        "spam_words = Counter(word for cls, bow in train for word in bow if cls == 'spam')\n",
        "ham_words = Counter(word for cls, bow in train for word in bow if cls == 'ham')"
      ],
      "execution_count": null,
      "outputs": []
    },
    {
      "cell_type": "code",
      "metadata": {
        "id": "8_hjK_ao-Lrj"
      },
      "source": [
        "def predict(bow):\n",
        "    spam_score = prior_spam\n",
        "    ham_score = prior_ham\n",
        "\n",
        "    for word in bow:\n",
        "        spam_score *= (spam_words[word] + alpha) / (n_spam + alpha)\n",
        "        ham_score *= (ham_words[word] + alpha) / (n_ham + alpha)\n",
        "        \n",
        "    if spam_score < ham_score: return 'ham'\n",
        "    else: return 'spam'"
      ],
      "execution_count": null,
      "outputs": []
    },
    {
      "cell_type": "code",
      "metadata": {
        "id": "13h6sMUiC5HV"
      },
      "source": [
        "tp, tn, fp, fn = 0,0,0,0\n",
        "\n",
        "for ans, bow in test:\n",
        "    pred = predict(bow)\n",
        "    # print(ans, pred)\n",
        "    if pred == 'spam' and ans == 'spam': tp += 1\n",
        "    elif pred == 'spam' and ans == 'ham': fp += 1\n",
        "    elif pred == 'ham' and ans == 'ham': tn += 1\n",
        "    else: fn += 1\n",
        "\n",
        "print(\"tp: \", tp)\n",
        "print(\"tn: \", tn)\n",
        "print(\"fp: \", fp)\n",
        "print(\"fn: \", fn)"
      ],
      "execution_count": null,
      "outputs": []
    },
    {
      "cell_type": "code",
      "metadata": {
        "id": "PZIOKweoGO-9"
      },
      "source": [
        "accuracy = (tp + tn) / (tp + fp + tn + fn)\n",
        "precision = tp/(tp + fp)\n",
        "recall = tp / (tp + fn)\n",
        "f1 = 2 * precision * recall / (precision + recall)\n",
        "\n",
        "print(\"accuracy: \", accuracy)\n",
        "print(\"precision: \", precision)\n",
        "print(\"recall: \", recall)\n",
        "print(\"f1: \", f1)"
      ],
      "execution_count": null,
      "outputs": []
    }
  ]
}