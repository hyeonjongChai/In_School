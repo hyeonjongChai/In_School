{
  "nbformat": 4,
  "nbformat_minor": 0,
  "metadata": {
    "colab": {
      "name": "L11.1_KNN.ipynb",
      "provenance": [],
      "collapsed_sections": []
    },
    "kernelspec": {
      "name": "python3",
      "display_name": "Python 3"
    },
    "language_info": {
      "name": "python"
    }
  },
  "cells": [
    {
      "cell_type": "code",
      "metadata": {
        "id": "zl2BIW1CEvKs"
      },
      "source": [
        "import matplotlib.pyplot as plt\n",
        "import random\n",
        "from tqdm import tqdm\n",
        "from sklearn.datasets import load_iris"
      ],
      "execution_count": 2,
      "outputs": []
    },
    {
      "cell_type": "code",
      "metadata": {
        "colab": {
          "base_uri": "https://localhost:8080/"
        },
        "id": "EX3AiWxwFMOC",
        "outputId": "b42d1f0a-a92d-4bd9-8ac1-3848b83010e4"
      },
      "source": [
        "a = load_iris()\n",
        "print(a)"
      ],
      "execution_count": 3,
      "outputs": [
        {
          "output_type": "stream",
          "name": "stdout",
          "text": [
            "{'data': array([[5.1, 3.5, 1.4, 0.2],\n",
            "       [4.9, 3. , 1.4, 0.2],\n",
            "       [4.7, 3.2, 1.3, 0.2],\n",
            "       [4.6, 3.1, 1.5, 0.2],\n",
            "       [5. , 3.6, 1.4, 0.2],\n",
            "       [5.4, 3.9, 1.7, 0.4],\n",
            "       [4.6, 3.4, 1.4, 0.3],\n",
            "       [5. , 3.4, 1.5, 0.2],\n",
            "       [4.4, 2.9, 1.4, 0.2],\n",
            "       [4.9, 3.1, 1.5, 0.1],\n",
            "       [5.4, 3.7, 1.5, 0.2],\n",
            "       [4.8, 3.4, 1.6, 0.2],\n",
            "       [4.8, 3. , 1.4, 0.1],\n",
            "       [4.3, 3. , 1.1, 0.1],\n",
            "       [5.8, 4. , 1.2, 0.2],\n",
            "       [5.7, 4.4, 1.5, 0.4],\n",
            "       [5.4, 3.9, 1.3, 0.4],\n",
            "       [5.1, 3.5, 1.4, 0.3],\n",
            "       [5.7, 3.8, 1.7, 0.3],\n",
            "       [5.1, 3.8, 1.5, 0.3],\n",
            "       [5.4, 3.4, 1.7, 0.2],\n",
            "       [5.1, 3.7, 1.5, 0.4],\n",
            "       [4.6, 3.6, 1. , 0.2],\n",
            "       [5.1, 3.3, 1.7, 0.5],\n",
            "       [4.8, 3.4, 1.9, 0.2],\n",
            "       [5. , 3. , 1.6, 0.2],\n",
            "       [5. , 3.4, 1.6, 0.4],\n",
            "       [5.2, 3.5, 1.5, 0.2],\n",
            "       [5.2, 3.4, 1.4, 0.2],\n",
            "       [4.7, 3.2, 1.6, 0.2],\n",
            "       [4.8, 3.1, 1.6, 0.2],\n",
            "       [5.4, 3.4, 1.5, 0.4],\n",
            "       [5.2, 4.1, 1.5, 0.1],\n",
            "       [5.5, 4.2, 1.4, 0.2],\n",
            "       [4.9, 3.1, 1.5, 0.2],\n",
            "       [5. , 3.2, 1.2, 0.2],\n",
            "       [5.5, 3.5, 1.3, 0.2],\n",
            "       [4.9, 3.6, 1.4, 0.1],\n",
            "       [4.4, 3. , 1.3, 0.2],\n",
            "       [5.1, 3.4, 1.5, 0.2],\n",
            "       [5. , 3.5, 1.3, 0.3],\n",
            "       [4.5, 2.3, 1.3, 0.3],\n",
            "       [4.4, 3.2, 1.3, 0.2],\n",
            "       [5. , 3.5, 1.6, 0.6],\n",
            "       [5.1, 3.8, 1.9, 0.4],\n",
            "       [4.8, 3. , 1.4, 0.3],\n",
            "       [5.1, 3.8, 1.6, 0.2],\n",
            "       [4.6, 3.2, 1.4, 0.2],\n",
            "       [5.3, 3.7, 1.5, 0.2],\n",
            "       [5. , 3.3, 1.4, 0.2],\n",
            "       [7. , 3.2, 4.7, 1.4],\n",
            "       [6.4, 3.2, 4.5, 1.5],\n",
            "       [6.9, 3.1, 4.9, 1.5],\n",
            "       [5.5, 2.3, 4. , 1.3],\n",
            "       [6.5, 2.8, 4.6, 1.5],\n",
            "       [5.7, 2.8, 4.5, 1.3],\n",
            "       [6.3, 3.3, 4.7, 1.6],\n",
            "       [4.9, 2.4, 3.3, 1. ],\n",
            "       [6.6, 2.9, 4.6, 1.3],\n",
            "       [5.2, 2.7, 3.9, 1.4],\n",
            "       [5. , 2. , 3.5, 1. ],\n",
            "       [5.9, 3. , 4.2, 1.5],\n",
            "       [6. , 2.2, 4. , 1. ],\n",
            "       [6.1, 2.9, 4.7, 1.4],\n",
            "       [5.6, 2.9, 3.6, 1.3],\n",
            "       [6.7, 3.1, 4.4, 1.4],\n",
            "       [5.6, 3. , 4.5, 1.5],\n",
            "       [5.8, 2.7, 4.1, 1. ],\n",
            "       [6.2, 2.2, 4.5, 1.5],\n",
            "       [5.6, 2.5, 3.9, 1.1],\n",
            "       [5.9, 3.2, 4.8, 1.8],\n",
            "       [6.1, 2.8, 4. , 1.3],\n",
            "       [6.3, 2.5, 4.9, 1.5],\n",
            "       [6.1, 2.8, 4.7, 1.2],\n",
            "       [6.4, 2.9, 4.3, 1.3],\n",
            "       [6.6, 3. , 4.4, 1.4],\n",
            "       [6.8, 2.8, 4.8, 1.4],\n",
            "       [6.7, 3. , 5. , 1.7],\n",
            "       [6. , 2.9, 4.5, 1.5],\n",
            "       [5.7, 2.6, 3.5, 1. ],\n",
            "       [5.5, 2.4, 3.8, 1.1],\n",
            "       [5.5, 2.4, 3.7, 1. ],\n",
            "       [5.8, 2.7, 3.9, 1.2],\n",
            "       [6. , 2.7, 5.1, 1.6],\n",
            "       [5.4, 3. , 4.5, 1.5],\n",
            "       [6. , 3.4, 4.5, 1.6],\n",
            "       [6.7, 3.1, 4.7, 1.5],\n",
            "       [6.3, 2.3, 4.4, 1.3],\n",
            "       [5.6, 3. , 4.1, 1.3],\n",
            "       [5.5, 2.5, 4. , 1.3],\n",
            "       [5.5, 2.6, 4.4, 1.2],\n",
            "       [6.1, 3. , 4.6, 1.4],\n",
            "       [5.8, 2.6, 4. , 1.2],\n",
            "       [5. , 2.3, 3.3, 1. ],\n",
            "       [5.6, 2.7, 4.2, 1.3],\n",
            "       [5.7, 3. , 4.2, 1.2],\n",
            "       [5.7, 2.9, 4.2, 1.3],\n",
            "       [6.2, 2.9, 4.3, 1.3],\n",
            "       [5.1, 2.5, 3. , 1.1],\n",
            "       [5.7, 2.8, 4.1, 1.3],\n",
            "       [6.3, 3.3, 6. , 2.5],\n",
            "       [5.8, 2.7, 5.1, 1.9],\n",
            "       [7.1, 3. , 5.9, 2.1],\n",
            "       [6.3, 2.9, 5.6, 1.8],\n",
            "       [6.5, 3. , 5.8, 2.2],\n",
            "       [7.6, 3. , 6.6, 2.1],\n",
            "       [4.9, 2.5, 4.5, 1.7],\n",
            "       [7.3, 2.9, 6.3, 1.8],\n",
            "       [6.7, 2.5, 5.8, 1.8],\n",
            "       [7.2, 3.6, 6.1, 2.5],\n",
            "       [6.5, 3.2, 5.1, 2. ],\n",
            "       [6.4, 2.7, 5.3, 1.9],\n",
            "       [6.8, 3. , 5.5, 2.1],\n",
            "       [5.7, 2.5, 5. , 2. ],\n",
            "       [5.8, 2.8, 5.1, 2.4],\n",
            "       [6.4, 3.2, 5.3, 2.3],\n",
            "       [6.5, 3. , 5.5, 1.8],\n",
            "       [7.7, 3.8, 6.7, 2.2],\n",
            "       [7.7, 2.6, 6.9, 2.3],\n",
            "       [6. , 2.2, 5. , 1.5],\n",
            "       [6.9, 3.2, 5.7, 2.3],\n",
            "       [5.6, 2.8, 4.9, 2. ],\n",
            "       [7.7, 2.8, 6.7, 2. ],\n",
            "       [6.3, 2.7, 4.9, 1.8],\n",
            "       [6.7, 3.3, 5.7, 2.1],\n",
            "       [7.2, 3.2, 6. , 1.8],\n",
            "       [6.2, 2.8, 4.8, 1.8],\n",
            "       [6.1, 3. , 4.9, 1.8],\n",
            "       [6.4, 2.8, 5.6, 2.1],\n",
            "       [7.2, 3. , 5.8, 1.6],\n",
            "       [7.4, 2.8, 6.1, 1.9],\n",
            "       [7.9, 3.8, 6.4, 2. ],\n",
            "       [6.4, 2.8, 5.6, 2.2],\n",
            "       [6.3, 2.8, 5.1, 1.5],\n",
            "       [6.1, 2.6, 5.6, 1.4],\n",
            "       [7.7, 3. , 6.1, 2.3],\n",
            "       [6.3, 3.4, 5.6, 2.4],\n",
            "       [6.4, 3.1, 5.5, 1.8],\n",
            "       [6. , 3. , 4.8, 1.8],\n",
            "       [6.9, 3.1, 5.4, 2.1],\n",
            "       [6.7, 3.1, 5.6, 2.4],\n",
            "       [6.9, 3.1, 5.1, 2.3],\n",
            "       [5.8, 2.7, 5.1, 1.9],\n",
            "       [6.8, 3.2, 5.9, 2.3],\n",
            "       [6.7, 3.3, 5.7, 2.5],\n",
            "       [6.7, 3. , 5.2, 2.3],\n",
            "       [6.3, 2.5, 5. , 1.9],\n",
            "       [6.5, 3. , 5.2, 2. ],\n",
            "       [6.2, 3.4, 5.4, 2.3],\n",
            "       [5.9, 3. , 5.1, 1.8]]), 'target': array([0, 0, 0, 0, 0, 0, 0, 0, 0, 0, 0, 0, 0, 0, 0, 0, 0, 0, 0, 0, 0, 0,\n",
            "       0, 0, 0, 0, 0, 0, 0, 0, 0, 0, 0, 0, 0, 0, 0, 0, 0, 0, 0, 0, 0, 0,\n",
            "       0, 0, 0, 0, 0, 0, 1, 1, 1, 1, 1, 1, 1, 1, 1, 1, 1, 1, 1, 1, 1, 1,\n",
            "       1, 1, 1, 1, 1, 1, 1, 1, 1, 1, 1, 1, 1, 1, 1, 1, 1, 1, 1, 1, 1, 1,\n",
            "       1, 1, 1, 1, 1, 1, 1, 1, 1, 1, 1, 1, 2, 2, 2, 2, 2, 2, 2, 2, 2, 2,\n",
            "       2, 2, 2, 2, 2, 2, 2, 2, 2, 2, 2, 2, 2, 2, 2, 2, 2, 2, 2, 2, 2, 2,\n",
            "       2, 2, 2, 2, 2, 2, 2, 2, 2, 2, 2, 2, 2, 2, 2, 2, 2, 2]), 'target_names': array(['setosa', 'versicolor', 'virginica'], dtype='<U10'), 'DESCR': '.. _iris_dataset:\\n\\nIris plants dataset\\n--------------------\\n\\n**Data Set Characteristics:**\\n\\n    :Number of Instances: 150 (50 in each of three classes)\\n    :Number of Attributes: 4 numeric, predictive attributes and the class\\n    :Attribute Information:\\n        - sepal length in cm\\n        - sepal width in cm\\n        - petal length in cm\\n        - petal width in cm\\n        - class:\\n                - Iris-Setosa\\n                - Iris-Versicolour\\n                - Iris-Virginica\\n                \\n    :Summary Statistics:\\n\\n    ============== ==== ==== ======= ===== ====================\\n                    Min  Max   Mean    SD   Class Correlation\\n    ============== ==== ==== ======= ===== ====================\\n    sepal length:   4.3  7.9   5.84   0.83    0.7826\\n    sepal width:    2.0  4.4   3.05   0.43   -0.4194\\n    petal length:   1.0  6.9   3.76   1.76    0.9490  (high!)\\n    petal width:    0.1  2.5   1.20   0.76    0.9565  (high!)\\n    ============== ==== ==== ======= ===== ====================\\n\\n    :Missing Attribute Values: None\\n    :Class Distribution: 33.3% for each of 3 classes.\\n    :Creator: R.A. Fisher\\n    :Donor: Michael Marshall (MARSHALL%PLU@io.arc.nasa.gov)\\n    :Date: July, 1988\\n\\nThe famous Iris database, first used by Sir R.A. Fisher. The dataset is taken\\nfrom Fisher\\'s paper. Note that it\\'s the same as in R, but not as in the UCI\\nMachine Learning Repository, which has two wrong data points.\\n\\nThis is perhaps the best known database to be found in the\\npattern recognition literature.  Fisher\\'s paper is a classic in the field and\\nis referenced frequently to this day.  (See Duda & Hart, for example.)  The\\ndata set contains 3 classes of 50 instances each, where each class refers to a\\ntype of iris plant.  One class is linearly separable from the other 2; the\\nlatter are NOT linearly separable from each other.\\n\\n.. topic:: References\\n\\n   - Fisher, R.A. \"The use of multiple measurements in taxonomic problems\"\\n     Annual Eugenics, 7, Part II, 179-188 (1936); also in \"Contributions to\\n     Mathematical Statistics\" (John Wiley, NY, 1950).\\n   - Duda, R.O., & Hart, P.E. (1973) Pattern Classification and Scene Analysis.\\n     (Q327.D83) John Wiley & Sons.  ISBN 0-471-22361-1.  See page 218.\\n   - Dasarathy, B.V. (1980) \"Nosing Around the Neighborhood: A New System\\n     Structure and Classification Rule for Recognition in Partially Exposed\\n     Environments\".  IEEE Transactions on Pattern Analysis and Machine\\n     Intelligence, Vol. PAMI-2, No. 1, 67-71.\\n   - Gates, G.W. (1972) \"The Reduced Nearest Neighbor Rule\".  IEEE Transactions\\n     on Information Theory, May 1972, 431-433.\\n   - See also: 1988 MLC Proceedings, 54-64.  Cheeseman et al\"s AUTOCLASS II\\n     conceptual clustering system finds 3 classes in the data.\\n   - Many, many more ...', 'feature_names': ['sepal length (cm)', 'sepal width (cm)', 'petal length (cm)', 'petal width (cm)'], 'filename': '/usr/local/lib/python3.7/dist-packages/sklearn/datasets/data/iris.csv'}\n"
          ]
        }
      ]
    },
    {
      "cell_type": "code",
      "metadata": {
        "colab": {
          "base_uri": "https://localhost:8080/"
        },
        "id": "cTJ6s-GUHFjj",
        "outputId": "7584f8dd-901f-4245-c92f-2cecf038fa88"
      },
      "source": [
        "data = []\n",
        "for line in open('iris.data', 'r'):\n",
        "  try:\n",
        "    items = line.strip().split(\",\")\n",
        "    data.append(([float(i) for i in items[:4]],items[4]))\n",
        "\n",
        "  except:\n",
        "    pass\n",
        "\n",
        "data"
      ],
      "execution_count": 5,
      "outputs": [
        {
          "output_type": "execute_result",
          "data": {
            "text/plain": [
              "[([5.1, 3.5, 1.4, 0.2], 'Iris-setosa'),\n",
              " ([4.9, 3.0, 1.4, 0.2], 'Iris-setosa'),\n",
              " ([4.7, 3.2, 1.3, 0.2], 'Iris-setosa'),\n",
              " ([4.6, 3.1, 1.5, 0.2], 'Iris-setosa'),\n",
              " ([5.0, 3.6, 1.4, 0.2], 'Iris-setosa'),\n",
              " ([5.4, 3.9, 1.7, 0.4], 'Iris-setosa'),\n",
              " ([4.6, 3.4, 1.4, 0.3], 'Iris-setosa'),\n",
              " ([5.0, 3.4, 1.5, 0.2], 'Iris-setosa'),\n",
              " ([4.4, 2.9, 1.4, 0.2], 'Iris-setosa'),\n",
              " ([4.9, 3.1, 1.5, 0.1], 'Iris-setosa'),\n",
              " ([5.4, 3.7, 1.5, 0.2], 'Iris-setosa'),\n",
              " ([4.8, 3.4, 1.6, 0.2], 'Iris-setosa'),\n",
              " ([4.8, 3.0, 1.4, 0.1], 'Iris-setosa'),\n",
              " ([4.3, 3.0, 1.1, 0.1], 'Iris-setosa'),\n",
              " ([5.8, 4.0, 1.2, 0.2], 'Iris-setosa'),\n",
              " ([5.7, 4.4, 1.5, 0.4], 'Iris-setosa'),\n",
              " ([5.4, 3.9, 1.3, 0.4], 'Iris-setosa'),\n",
              " ([5.1, 3.5, 1.4, 0.3], 'Iris-setosa'),\n",
              " ([5.7, 3.8, 1.7, 0.3], 'Iris-setosa'),\n",
              " ([5.1, 3.8, 1.5, 0.3], 'Iris-setosa'),\n",
              " ([5.4, 3.4, 1.7, 0.2], 'Iris-setosa'),\n",
              " ([5.1, 3.7, 1.5, 0.4], 'Iris-setosa'),\n",
              " ([4.6, 3.6, 1.0, 0.2], 'Iris-setosa'),\n",
              " ([5.1, 3.3, 1.7, 0.5], 'Iris-setosa'),\n",
              " ([4.8, 3.4, 1.9, 0.2], 'Iris-setosa'),\n",
              " ([5.0, 3.0, 1.6, 0.2], 'Iris-setosa'),\n",
              " ([5.0, 3.4, 1.6, 0.4], 'Iris-setosa'),\n",
              " ([5.2, 3.5, 1.5, 0.2], 'Iris-setosa'),\n",
              " ([5.2, 3.4, 1.4, 0.2], 'Iris-setosa'),\n",
              " ([4.7, 3.2, 1.6, 0.2], 'Iris-setosa'),\n",
              " ([4.8, 3.1, 1.6, 0.2], 'Iris-setosa'),\n",
              " ([5.4, 3.4, 1.5, 0.4], 'Iris-setosa'),\n",
              " ([5.2, 4.1, 1.5, 0.1], 'Iris-setosa'),\n",
              " ([5.5, 4.2, 1.4, 0.2], 'Iris-setosa'),\n",
              " ([4.9, 3.1, 1.5, 0.1], 'Iris-setosa'),\n",
              " ([5.0, 3.2, 1.2, 0.2], 'Iris-setosa'),\n",
              " ([5.5, 3.5, 1.3, 0.2], 'Iris-setosa'),\n",
              " ([4.9, 3.1, 1.5, 0.1], 'Iris-setosa'),\n",
              " ([4.4, 3.0, 1.3, 0.2], 'Iris-setosa'),\n",
              " ([5.1, 3.4, 1.5, 0.2], 'Iris-setosa'),\n",
              " ([5.0, 3.5, 1.3, 0.3], 'Iris-setosa'),\n",
              " ([4.5, 2.3, 1.3, 0.3], 'Iris-setosa'),\n",
              " ([4.4, 3.2, 1.3, 0.2], 'Iris-setosa'),\n",
              " ([5.0, 3.5, 1.6, 0.6], 'Iris-setosa'),\n",
              " ([5.1, 3.8, 1.9, 0.4], 'Iris-setosa'),\n",
              " ([4.8, 3.0, 1.4, 0.3], 'Iris-setosa'),\n",
              " ([5.1, 3.8, 1.6, 0.2], 'Iris-setosa'),\n",
              " ([4.6, 3.2, 1.4, 0.2], 'Iris-setosa'),\n",
              " ([5.3, 3.7, 1.5, 0.2], 'Iris-setosa'),\n",
              " ([5.0, 3.3, 1.4, 0.2], 'Iris-setosa'),\n",
              " ([7.0, 3.2, 4.7, 1.4], 'Iris-versicolor'),\n",
              " ([6.4, 3.2, 4.5, 1.5], 'Iris-versicolor'),\n",
              " ([6.9, 3.1, 4.9, 1.5], 'Iris-versicolor'),\n",
              " ([5.5, 2.3, 4.0, 1.3], 'Iris-versicolor'),\n",
              " ([6.5, 2.8, 4.6, 1.5], 'Iris-versicolor'),\n",
              " ([5.7, 2.8, 4.5, 1.3], 'Iris-versicolor'),\n",
              " ([6.3, 3.3, 4.7, 1.6], 'Iris-versicolor'),\n",
              " ([4.9, 2.4, 3.3, 1.0], 'Iris-versicolor'),\n",
              " ([6.6, 2.9, 4.6, 1.3], 'Iris-versicolor'),\n",
              " ([5.2, 2.7, 3.9, 1.4], 'Iris-versicolor'),\n",
              " ([5.0, 2.0, 3.5, 1.0], 'Iris-versicolor'),\n",
              " ([5.9, 3.0, 4.2, 1.5], 'Iris-versicolor'),\n",
              " ([6.0, 2.2, 4.0, 1.0], 'Iris-versicolor'),\n",
              " ([6.1, 2.9, 4.7, 1.4], 'Iris-versicolor'),\n",
              " ([5.6, 2.9, 3.6, 1.3], 'Iris-versicolor'),\n",
              " ([6.7, 3.1, 4.4, 1.4], 'Iris-versicolor'),\n",
              " ([5.6, 3.0, 4.5, 1.5], 'Iris-versicolor'),\n",
              " ([5.8, 2.7, 4.1, 1.0], 'Iris-versicolor'),\n",
              " ([6.2, 2.2, 4.5, 1.5], 'Iris-versicolor'),\n",
              " ([5.6, 2.5, 3.9, 1.1], 'Iris-versicolor'),\n",
              " ([5.9, 3.2, 4.8, 1.8], 'Iris-versicolor'),\n",
              " ([6.1, 2.8, 4.0, 1.3], 'Iris-versicolor'),\n",
              " ([6.3, 2.5, 4.9, 1.5], 'Iris-versicolor'),\n",
              " ([6.1, 2.8, 4.7, 1.2], 'Iris-versicolor'),\n",
              " ([6.4, 2.9, 4.3, 1.3], 'Iris-versicolor'),\n",
              " ([6.6, 3.0, 4.4, 1.4], 'Iris-versicolor'),\n",
              " ([6.8, 2.8, 4.8, 1.4], 'Iris-versicolor'),\n",
              " ([6.7, 3.0, 5.0, 1.7], 'Iris-versicolor'),\n",
              " ([6.0, 2.9, 4.5, 1.5], 'Iris-versicolor'),\n",
              " ([5.7, 2.6, 3.5, 1.0], 'Iris-versicolor'),\n",
              " ([5.5, 2.4, 3.8, 1.1], 'Iris-versicolor'),\n",
              " ([5.5, 2.4, 3.7, 1.0], 'Iris-versicolor'),\n",
              " ([5.8, 2.7, 3.9, 1.2], 'Iris-versicolor'),\n",
              " ([6.0, 2.7, 5.1, 1.6], 'Iris-versicolor'),\n",
              " ([5.4, 3.0, 4.5, 1.5], 'Iris-versicolor'),\n",
              " ([6.0, 3.4, 4.5, 1.6], 'Iris-versicolor'),\n",
              " ([6.7, 3.1, 4.7, 1.5], 'Iris-versicolor'),\n",
              " ([6.3, 2.3, 4.4, 1.3], 'Iris-versicolor'),\n",
              " ([5.6, 3.0, 4.1, 1.3], 'Iris-versicolor'),\n",
              " ([5.5, 2.5, 4.0, 1.3], 'Iris-versicolor'),\n",
              " ([5.5, 2.6, 4.4, 1.2], 'Iris-versicolor'),\n",
              " ([6.1, 3.0, 4.6, 1.4], 'Iris-versicolor'),\n",
              " ([5.8, 2.6, 4.0, 1.2], 'Iris-versicolor'),\n",
              " ([5.0, 2.3, 3.3, 1.0], 'Iris-versicolor'),\n",
              " ([5.6, 2.7, 4.2, 1.3], 'Iris-versicolor'),\n",
              " ([5.7, 3.0, 4.2, 1.2], 'Iris-versicolor'),\n",
              " ([5.7, 2.9, 4.2, 1.3], 'Iris-versicolor'),\n",
              " ([6.2, 2.9, 4.3, 1.3], 'Iris-versicolor'),\n",
              " ([5.1, 2.5, 3.0, 1.1], 'Iris-versicolor'),\n",
              " ([5.7, 2.8, 4.1, 1.3], 'Iris-versicolor'),\n",
              " ([6.3, 3.3, 6.0, 2.5], 'Iris-virginica'),\n",
              " ([5.8, 2.7, 5.1, 1.9], 'Iris-virginica'),\n",
              " ([7.1, 3.0, 5.9, 2.1], 'Iris-virginica'),\n",
              " ([6.3, 2.9, 5.6, 1.8], 'Iris-virginica'),\n",
              " ([6.5, 3.0, 5.8, 2.2], 'Iris-virginica'),\n",
              " ([7.6, 3.0, 6.6, 2.1], 'Iris-virginica'),\n",
              " ([4.9, 2.5, 4.5, 1.7], 'Iris-virginica'),\n",
              " ([7.3, 2.9, 6.3, 1.8], 'Iris-virginica'),\n",
              " ([6.7, 2.5, 5.8, 1.8], 'Iris-virginica'),\n",
              " ([7.2, 3.6, 6.1, 2.5], 'Iris-virginica'),\n",
              " ([6.5, 3.2, 5.1, 2.0], 'Iris-virginica'),\n",
              " ([6.4, 2.7, 5.3, 1.9], 'Iris-virginica'),\n",
              " ([6.8, 3.0, 5.5, 2.1], 'Iris-virginica'),\n",
              " ([5.7, 2.5, 5.0, 2.0], 'Iris-virginica'),\n",
              " ([5.8, 2.8, 5.1, 2.4], 'Iris-virginica'),\n",
              " ([6.4, 3.2, 5.3, 2.3], 'Iris-virginica'),\n",
              " ([6.5, 3.0, 5.5, 1.8], 'Iris-virginica'),\n",
              " ([7.7, 3.8, 6.7, 2.2], 'Iris-virginica'),\n",
              " ([7.7, 2.6, 6.9, 2.3], 'Iris-virginica'),\n",
              " ([6.0, 2.2, 5.0, 1.5], 'Iris-virginica'),\n",
              " ([6.9, 3.2, 5.7, 2.3], 'Iris-virginica'),\n",
              " ([5.6, 2.8, 4.9, 2.0], 'Iris-virginica'),\n",
              " ([7.7, 2.8, 6.7, 2.0], 'Iris-virginica'),\n",
              " ([6.3, 2.7, 4.9, 1.8], 'Iris-virginica'),\n",
              " ([6.7, 3.3, 5.7, 2.1], 'Iris-virginica'),\n",
              " ([7.2, 3.2, 6.0, 1.8], 'Iris-virginica'),\n",
              " ([6.2, 2.8, 4.8, 1.8], 'Iris-virginica'),\n",
              " ([6.1, 3.0, 4.9, 1.8], 'Iris-virginica'),\n",
              " ([6.4, 2.8, 5.6, 2.1], 'Iris-virginica'),\n",
              " ([7.2, 3.0, 5.8, 1.6], 'Iris-virginica'),\n",
              " ([7.4, 2.8, 6.1, 1.9], 'Iris-virginica'),\n",
              " ([7.9, 3.8, 6.4, 2.0], 'Iris-virginica'),\n",
              " ([6.4, 2.8, 5.6, 2.2], 'Iris-virginica'),\n",
              " ([6.3, 2.8, 5.1, 1.5], 'Iris-virginica'),\n",
              " ([6.1, 2.6, 5.6, 1.4], 'Iris-virginica'),\n",
              " ([7.7, 3.0, 6.1, 2.3], 'Iris-virginica'),\n",
              " ([6.3, 3.4, 5.6, 2.4], 'Iris-virginica'),\n",
              " ([6.4, 3.1, 5.5, 1.8], 'Iris-virginica'),\n",
              " ([6.0, 3.0, 4.8, 1.8], 'Iris-virginica'),\n",
              " ([6.9, 3.1, 5.4, 2.1], 'Iris-virginica'),\n",
              " ([6.7, 3.1, 5.6, 2.4], 'Iris-virginica'),\n",
              " ([6.9, 3.1, 5.1, 2.3], 'Iris-virginica'),\n",
              " ([5.8, 2.7, 5.1, 1.9], 'Iris-virginica'),\n",
              " ([6.8, 3.2, 5.9, 2.3], 'Iris-virginica'),\n",
              " ([6.7, 3.3, 5.7, 2.5], 'Iris-virginica'),\n",
              " ([6.7, 3.0, 5.2, 2.3], 'Iris-virginica'),\n",
              " ([6.3, 2.5, 5.0, 1.9], 'Iris-virginica'),\n",
              " ([6.5, 3.0, 5.2, 2.0], 'Iris-virginica'),\n",
              " ([6.2, 3.4, 5.4, 2.3], 'Iris-virginica'),\n",
              " ([5.9, 3.0, 5.1, 1.8], 'Iris-virginica')]"
            ]
          },
          "metadata": {},
          "execution_count": 5
        }
      ]
    },
    {
      "cell_type": "code",
      "metadata": {
        "colab": {
          "base_uri": "https://localhost:8080/",
          "height": 268
        },
        "id": "UC_g0bcAH1Ha",
        "outputId": "4a34689a-6428-41da-d0fb-fd345d0b9255"
      },
      "source": [
        "import matplotlib.pyplot as plt\n",
        "\n",
        "\n",
        "classes = ['Iris-setosa', 'Iris-versicolor', 'Iris-virginica']\n",
        "\n",
        "for c in classes:\n",
        "  x0, x1 = [], []\n",
        "\n",
        "  for d in data:\n",
        "    if d[1] == c:\n",
        "      x0.append(d[0][0])\n",
        "      x1.append(d[0][1])\n",
        "  plt.scatter(x0,x1, alpha= 0.5)\n",
        "\n",
        "plt.show()\n"
      ],
      "execution_count": 6,
      "outputs": [
        {
          "output_type": "display_data",
          "data": {
            "image/png": "[encoded data removed]",
            "text/plain": [
              "<Figure size 432x288 with 1 Axes>"
            ]
          },
          "metadata": {
            "needs_background": "light"
          }
        }
      ]
    },
    {
      "cell_type": "code",
      "metadata": {
        "colab": {
          "base_uri": "https://localhost:8080/"
        },
        "id": "XOMfNjgjIdED",
        "outputId": "6a4718ef-d530-4007-a214-305601945c3d"
      },
      "source": [
        " random.shuffle(data)\n",
        " train = data[:-30]\n",
        " test = data[-30:]\n",
        " test"
      ],
      "execution_count": 7,
      "outputs": [
        {
          "output_type": "execute_result",
          "data": {
            "text/plain": [
              "[([6.5, 3.0, 5.8, 2.2], 'Iris-virginica'),\n",
              " ([5.1, 3.3, 1.7, 0.5], 'Iris-setosa'),\n",
              " ([5.4, 3.0, 4.5, 1.5], 'Iris-versicolor'),\n",
              " ([4.8, 3.1, 1.6, 0.2], 'Iris-setosa'),\n",
              " ([4.9, 3.1, 1.5, 0.1], 'Iris-setosa'),\n",
              " ([7.4, 2.8, 6.1, 1.9], 'Iris-virginica'),\n",
              " ([4.6, 3.1, 1.5, 0.2], 'Iris-setosa'),\n",
              " ([5.8, 2.7, 5.1, 1.9], 'Iris-virginica'),\n",
              " ([5.0, 3.4, 1.6, 0.4], 'Iris-setosa'),\n",
              " ([5.7, 2.8, 4.1, 1.3], 'Iris-versicolor'),\n",
              " ([5.4, 3.7, 1.5, 0.2], 'Iris-setosa'),\n",
              " ([5.9, 3.2, 4.8, 1.8], 'Iris-versicolor'),\n",
              " ([5.9, 3.0, 4.2, 1.5], 'Iris-versicolor'),\n",
              " ([4.8, 3.4, 1.9, 0.2], 'Iris-setosa'),\n",
              " ([5.6, 2.5, 3.9, 1.1], 'Iris-versicolor'),\n",
              " ([6.8, 2.8, 4.8, 1.4], 'Iris-versicolor'),\n",
              " ([5.1, 3.4, 1.5, 0.2], 'Iris-setosa'),\n",
              " ([7.2, 3.2, 6.0, 1.8], 'Iris-virginica'),\n",
              " ([4.4, 3.0, 1.3, 0.2], 'Iris-setosa'),\n",
              " ([5.5, 2.4, 3.7, 1.0], 'Iris-versicolor'),\n",
              " ([4.5, 2.3, 1.3, 0.3], 'Iris-setosa'),\n",
              " ([5.4, 3.4, 1.7, 0.2], 'Iris-setosa'),\n",
              " ([6.4, 2.8, 5.6, 2.2], 'Iris-virginica'),\n",
              " ([6.4, 2.7, 5.3, 1.9], 'Iris-virginica'),\n",
              " ([7.3, 2.9, 6.3, 1.8], 'Iris-virginica'),\n",
              " ([5.4, 3.9, 1.3, 0.4], 'Iris-setosa'),\n",
              " ([4.8, 3.4, 1.6, 0.2], 'Iris-setosa'),\n",
              " ([6.3, 3.3, 4.7, 1.6], 'Iris-versicolor'),\n",
              " ([6.4, 3.1, 5.5, 1.8], 'Iris-virginica'),\n",
              " ([6.1, 2.6, 5.6, 1.4], 'Iris-virginica')]"
            ]
          },
          "metadata": {},
          "execution_count": 7
        }
      ]
    },
    {
      "cell_type": "code",
      "metadata": {
        "id": "jdN5ZFv2b4QJ"
      },
      "source": [
        "def ED(a,b):\n",
        "  sum = 0\n",
        "  for ai, bi in zip(a, b):\n",
        "    sum += (bi-ai)**2\n",
        "  return sum**2\n",
        "\n",
        "  # return sum((bi-ai)**2 for ai, bi in zip(a,b))** 0.5"
      ],
      "execution_count": 8,
      "outputs": []
    },
    {
      "cell_type": "code",
      "metadata": {
        "colab": {
          "base_uri": "https://localhost:8080/"
        },
        "id": "lEwJAw94f8qj",
        "outputId": "c1f0c3f5-f5f0-47c9-ef77-3898998f67ae"
      },
      "source": [
        "train"
      ],
      "execution_count": 9,
      "outputs": [
        {
          "output_type": "execute_result",
          "data": {
            "text/plain": [
              "[([5.0, 3.6, 1.4, 0.2], 'Iris-setosa'),\n",
              " ([6.4, 2.8, 5.6, 2.1], 'Iris-virginica'),\n",
              " ([6.0, 2.2, 5.0, 1.5], 'Iris-virginica'),\n",
              " ([7.7, 2.6, 6.9, 2.3], 'Iris-virginica'),\n",
              " ([6.5, 2.8, 4.6, 1.5], 'Iris-versicolor'),\n",
              " ([5.3, 3.7, 1.5, 0.2], 'Iris-setosa'),\n",
              " ([5.6, 2.9, 3.6, 1.3], 'Iris-versicolor'),\n",
              " ([6.0, 3.4, 4.5, 1.6], 'Iris-versicolor'),\n",
              " ([5.8, 2.7, 3.9, 1.2], 'Iris-versicolor'),\n",
              " ([5.1, 3.5, 1.4, 0.2], 'Iris-setosa'),\n",
              " ([7.9, 3.8, 6.4, 2.0], 'Iris-virginica'),\n",
              " ([6.7, 2.5, 5.8, 1.8], 'Iris-virginica'),\n",
              " ([6.8, 3.2, 5.9, 2.3], 'Iris-virginica'),\n",
              " ([4.9, 2.4, 3.3, 1.0], 'Iris-versicolor'),\n",
              " ([5.0, 2.3, 3.3, 1.0], 'Iris-versicolor'),\n",
              " ([5.5, 2.3, 4.0, 1.3], 'Iris-versicolor'),\n",
              " ([5.4, 3.9, 1.7, 0.4], 'Iris-setosa'),\n",
              " ([5.0, 3.5, 1.6, 0.6], 'Iris-setosa'),\n",
              " ([4.6, 3.6, 1.0, 0.2], 'Iris-setosa'),\n",
              " ([6.0, 3.0, 4.8, 1.8], 'Iris-virginica'),\n",
              " ([5.4, 3.4, 1.5, 0.4], 'Iris-setosa'),\n",
              " ([6.7, 3.1, 4.7, 1.5], 'Iris-versicolor'),\n",
              " ([6.2, 2.2, 4.5, 1.5], 'Iris-versicolor'),\n",
              " ([6.4, 3.2, 4.5, 1.5], 'Iris-versicolor'),\n",
              " ([6.3, 2.5, 5.0, 1.9], 'Iris-virginica'),\n",
              " ([6.7, 3.0, 5.2, 2.3], 'Iris-virginica'),\n",
              " ([5.7, 3.0, 4.2, 1.2], 'Iris-versicolor'),\n",
              " ([5.1, 2.5, 3.0, 1.1], 'Iris-versicolor'),\n",
              " ([4.9, 3.1, 1.5, 0.1], 'Iris-setosa'),\n",
              " ([5.1, 3.7, 1.5, 0.4], 'Iris-setosa'),\n",
              " ([5.7, 4.4, 1.5, 0.4], 'Iris-setosa'),\n",
              " ([6.1, 3.0, 4.6, 1.4], 'Iris-versicolor'),\n",
              " ([7.2, 3.0, 5.8, 1.6], 'Iris-virginica'),\n",
              " ([6.1, 2.9, 4.7, 1.4], 'Iris-versicolor'),\n",
              " ([4.7, 3.2, 1.3, 0.2], 'Iris-setosa'),\n",
              " ([5.1, 3.8, 1.9, 0.4], 'Iris-setosa'),\n",
              " ([5.8, 2.7, 5.1, 1.9], 'Iris-virginica'),\n",
              " ([6.9, 3.1, 5.4, 2.1], 'Iris-virginica'),\n",
              " ([4.8, 3.0, 1.4, 0.3], 'Iris-setosa'),\n",
              " ([4.9, 2.5, 4.5, 1.7], 'Iris-virginica'),\n",
              " ([6.1, 2.8, 4.0, 1.3], 'Iris-versicolor'),\n",
              " ([5.5, 3.5, 1.3, 0.2], 'Iris-setosa'),\n",
              " ([7.7, 3.8, 6.7, 2.2], 'Iris-virginica'),\n",
              " ([6.2, 2.9, 4.3, 1.3], 'Iris-versicolor'),\n",
              " ([6.0, 2.7, 5.1, 1.6], 'Iris-versicolor'),\n",
              " ([5.0, 3.4, 1.5, 0.2], 'Iris-setosa'),\n",
              " ([6.6, 2.9, 4.6, 1.3], 'Iris-versicolor'),\n",
              " ([6.1, 2.8, 4.7, 1.2], 'Iris-versicolor'),\n",
              " ([5.5, 4.2, 1.4, 0.2], 'Iris-setosa'),\n",
              " ([5.5, 2.4, 3.8, 1.1], 'Iris-versicolor'),\n",
              " ([6.7, 3.3, 5.7, 2.1], 'Iris-virginica'),\n",
              " ([4.6, 3.2, 1.4, 0.2], 'Iris-setosa'),\n",
              " ([5.9, 3.0, 5.1, 1.8], 'Iris-virginica'),\n",
              " ([6.3, 2.5, 4.9, 1.5], 'Iris-versicolor'),\n",
              " ([5.7, 2.9, 4.2, 1.3], 'Iris-versicolor'),\n",
              " ([5.7, 3.8, 1.7, 0.3], 'Iris-setosa'),\n",
              " ([6.2, 3.4, 5.4, 2.3], 'Iris-virginica'),\n",
              " ([6.9, 3.1, 5.1, 2.3], 'Iris-virginica'),\n",
              " ([6.2, 2.8, 4.8, 1.8], 'Iris-virginica'),\n",
              " ([5.2, 3.4, 1.4, 0.2], 'Iris-setosa'),\n",
              " ([7.7, 2.8, 6.7, 2.0], 'Iris-virginica'),\n",
              " ([6.5, 3.0, 5.2, 2.0], 'Iris-virginica'),\n",
              " ([5.6, 2.8, 4.9, 2.0], 'Iris-virginica'),\n",
              " ([6.3, 2.3, 4.4, 1.3], 'Iris-versicolor'),\n",
              " ([4.6, 3.4, 1.4, 0.3], 'Iris-setosa'),\n",
              " ([6.4, 2.9, 4.3, 1.3], 'Iris-versicolor'),\n",
              " ([5.8, 4.0, 1.2, 0.2], 'Iris-setosa'),\n",
              " ([5.6, 3.0, 4.5, 1.5], 'Iris-versicolor'),\n",
              " ([4.4, 2.9, 1.4, 0.2], 'Iris-setosa'),\n",
              " ([5.5, 2.5, 4.0, 1.3], 'Iris-versicolor'),\n",
              " ([5.5, 2.6, 4.4, 1.2], 'Iris-versicolor'),\n",
              " ([5.7, 2.6, 3.5, 1.0], 'Iris-versicolor'),\n",
              " ([6.9, 3.1, 4.9, 1.5], 'Iris-versicolor'),\n",
              " ([6.1, 3.0, 4.9, 1.8], 'Iris-virginica'),\n",
              " ([4.3, 3.0, 1.1, 0.1], 'Iris-setosa'),\n",
              " ([5.8, 2.8, 5.1, 2.4], 'Iris-virginica'),\n",
              " ([6.3, 2.9, 5.6, 1.8], 'Iris-virginica'),\n",
              " ([6.3, 2.7, 4.9, 1.8], 'Iris-virginica'),\n",
              " ([5.2, 4.1, 1.5, 0.1], 'Iris-setosa'),\n",
              " ([7.1, 3.0, 5.9, 2.1], 'Iris-virginica'),\n",
              " ([5.2, 3.5, 1.5, 0.2], 'Iris-setosa'),\n",
              " ([6.4, 3.2, 5.3, 2.3], 'Iris-virginica'),\n",
              " ([5.6, 2.7, 4.2, 1.3], 'Iris-versicolor'),\n",
              " ([6.3, 3.4, 5.6, 2.4], 'Iris-virginica'),\n",
              " ([6.7, 3.1, 5.6, 2.4], 'Iris-virginica'),\n",
              " ([7.2, 3.6, 6.1, 2.5], 'Iris-virginica'),\n",
              " ([5.1, 3.8, 1.6, 0.2], 'Iris-setosa'),\n",
              " ([4.4, 3.2, 1.3, 0.2], 'Iris-setosa'),\n",
              " ([5.8, 2.6, 4.0, 1.2], 'Iris-versicolor'),\n",
              " ([6.0, 2.9, 4.5, 1.5], 'Iris-versicolor'),\n",
              " ([5.8, 2.7, 4.1, 1.0], 'Iris-versicolor'),\n",
              " ([4.9, 3.1, 1.5, 0.1], 'Iris-setosa'),\n",
              " ([6.3, 2.8, 5.1, 1.5], 'Iris-virginica'),\n",
              " ([5.0, 3.3, 1.4, 0.2], 'Iris-setosa'),\n",
              " ([7.6, 3.0, 6.6, 2.1], 'Iris-virginica'),\n",
              " ([5.1, 3.5, 1.4, 0.3], 'Iris-setosa'),\n",
              " ([5.2, 2.7, 3.9, 1.4], 'Iris-versicolor'),\n",
              " ([6.0, 2.2, 4.0, 1.0], 'Iris-versicolor'),\n",
              " ([4.9, 3.0, 1.4, 0.2], 'Iris-setosa'),\n",
              " ([6.7, 3.0, 5.0, 1.7], 'Iris-versicolor'),\n",
              " ([5.6, 3.0, 4.1, 1.3], 'Iris-versicolor'),\n",
              " ([5.0, 2.0, 3.5, 1.0], 'Iris-versicolor'),\n",
              " ([5.0, 3.2, 1.2, 0.2], 'Iris-setosa'),\n",
              " ([5.0, 3.0, 1.6, 0.2], 'Iris-setosa'),\n",
              " ([6.9, 3.2, 5.7, 2.3], 'Iris-virginica'),\n",
              " ([5.0, 3.5, 1.3, 0.3], 'Iris-setosa'),\n",
              " ([5.7, 2.5, 5.0, 2.0], 'Iris-virginica'),\n",
              " ([6.7, 3.3, 5.7, 2.5], 'Iris-virginica'),\n",
              " ([6.5, 3.2, 5.1, 2.0], 'Iris-virginica'),\n",
              " ([7.7, 3.0, 6.1, 2.3], 'Iris-virginica'),\n",
              " ([6.7, 3.1, 4.4, 1.4], 'Iris-versicolor'),\n",
              " ([6.6, 3.0, 4.4, 1.4], 'Iris-versicolor'),\n",
              " ([6.5, 3.0, 5.5, 1.8], 'Iris-virginica'),\n",
              " ([5.1, 3.8, 1.5, 0.3], 'Iris-setosa'),\n",
              " ([6.8, 3.0, 5.5, 2.1], 'Iris-virginica'),\n",
              " ([6.3, 3.3, 6.0, 2.5], 'Iris-virginica'),\n",
              " ([5.7, 2.8, 4.5, 1.3], 'Iris-versicolor'),\n",
              " ([7.0, 3.2, 4.7, 1.4], 'Iris-versicolor'),\n",
              " ([4.7, 3.2, 1.6, 0.2], 'Iris-setosa'),\n",
              " ([4.8, 3.0, 1.4, 0.1], 'Iris-setosa')]"
            ]
          },
          "metadata": {},
          "execution_count": 9
        }
      ]
    },
    {
      "cell_type": "code",
      "metadata": {
        "colab": {
          "base_uri": "https://localhost:8080/"
        },
        "id": "-ojxxto-jhOj",
        "outputId": "6dcb3468-4985-489b-bc25-9a792f6e5baa"
      },
      "source": [
        "query = test[10][0]\n",
        "k =5\n",
        "dist = []\n",
        "for v, c in train:\n",
        "  d = ED(query, v)\n",
        "  dist.append((d,c))\n",
        "\n",
        "dist.sort()\n",
        "dist\n",
        "# cCount = Counter([c for d,c in dist[:k]])\n",
        "# print(cCount)\n",
        "# cCount.most_common(1)[0][0]\n"
      ],
      "execution_count": 11,
      "outputs": [
        {
          "output_type": "execute_result",
          "data": {
            "text/plain": [
              "[(0.00010000000000000212, 'Iris-setosa'),\n",
              " (0.006400000000000023, 'Iris-setosa'),\n",
              " (0.008099999999999996, 'Iris-setosa'),\n",
              " (0.012100000000000076, 'Iris-setosa'),\n",
              " (0.012100000000000083, 'Iris-setosa'),\n",
              " (0.014399999999999972, 'Iris-setosa'),\n",
              " (0.016900000000000043, 'Iris-setosa'),\n",
              " (0.016900000000000116, 'Iris-setosa'),\n",
              " (0.019600000000000065, 'Iris-setosa'),\n",
              " (0.019600000000000145, 'Iris-setosa'),\n",
              " (0.02249999999999994, 'Iris-setosa'),\n",
              " (0.022500000000000155, 'Iris-setosa'),\n",
              " (0.03240000000000011, 'Iris-setosa'),\n",
              " (0.044099999999999855, 'Iris-setosa'),\n",
              " (0.06250000000000017, 'Iris-setosa'),\n",
              " (0.06250000000000022, 'Iris-setosa'),\n",
              " (0.07289999999999998, 'Iris-setosa'),\n",
              " (0.09000000000000016, 'Iris-setosa'),\n",
              " (0.10890000000000037, 'Iris-setosa'),\n",
              " (0.11559999999999968, 'Iris-setosa'),\n",
              " (0.13690000000000024, 'Iris-setosa'),\n",
              " (0.2500000000000002, 'Iris-setosa'),\n",
              " (0.38440000000000013, 'Iris-setosa'),\n",
              " (0.38440000000000013, 'Iris-setosa'),\n",
              " (0.3844000000000003, 'Iris-setosa'),\n",
              " (0.43560000000000076, 'Iris-setosa'),\n",
              " (0.5625000000000003, 'Iris-setosa'),\n",
              " (0.5625000000000003, 'Iris-setosa'),\n",
              " (0.562500000000002, 'Iris-setosa'),\n",
              " (0.6084000000000004, 'Iris-setosa'),\n",
              " (0.7569000000000017, 'Iris-setosa'),\n",
              " (0.7569000000000017, 'Iris-setosa'),\n",
              " (0.810000000000002, 'Iris-setosa'),\n",
              " (0.810000000000002, 'Iris-setosa'),\n",
              " (1.6641000000000001, 'Iris-setosa'),\n",
              " (2.722500000000002, 'Iris-setosa'),\n",
              " (3.4969000000000046, 'Iris-setosa'),\n",
              " (21.068100000000015, 'Iris-versicolor'),\n",
              " (33.872400000000006, 'Iris-versicolor'),\n",
              " (35.28359999999999, 'Iris-versicolor'),\n",
              " (36.00000000000002, 'Iris-versicolor'),\n",
              " (39.69, 'Iris-versicolor'),\n",
              " (59.13610000000002, 'Iris-versicolor'),\n",
              " (60.84000000000001, 'Iris-versicolor'),\n",
              " (62.7264, 'Iris-versicolor'),\n",
              " (67.8976, 'Iris-versicolor'),\n",
              " (72.24999999999997, 'Iris-versicolor'),\n",
              " (73.27359999999997, 'Iris-versicolor'),\n",
              " (74.30439999999999, 'Iris-versicolor'),\n",
              " (76.7376, 'Iris-versicolor'),\n",
              " (78.67690000000002, 'Iris-versicolor'),\n",
              " (79.38810000000001, 'Iris-versicolor'),\n",
              " (85.19290000000004, 'Iris-versicolor'),\n",
              " (88.92490000000002, 'Iris-versicolor'),\n",
              " (90.25, 'Iris-versicolor'),\n",
              " (91.01160000000002, 'Iris-versicolor'),\n",
              " (106.7089, 'Iris-versicolor'),\n",
              " (112.99690000000005, 'Iris-versicolor'),\n",
              " (114.27610000000003, 'Iris-versicolor'),\n",
              " (123.43210000000003, 'Iris-versicolor'),\n",
              " (125.88839999999998, 'Iris-versicolor'),\n",
              " (130.1881, 'Iris-versicolor'),\n",
              " (136.65609999999998, 'Iris-versicolor'),\n",
              " (138.76839999999999, 'Iris-versicolor'),\n",
              " (141.61, 'Iris-versicolor'),\n",
              " (142.56359999999998, 'Iris-versicolor'),\n",
              " (144.7208999999999, 'Iris-versicolor'),\n",
              " (153.51210000000006, 'Iris-versicolor'),\n",
              " (157.25160000000002, 'Iris-versicolor'),\n",
              " (164.0961, 'Iris-versicolor'),\n",
              " (166.4099999999999, 'Iris-versicolor'),\n",
              " (167.44360000000003, 'Iris-virginica'),\n",
              " (177.42239999999993, 'Iris-versicolor'),\n",
              " (184.4164, 'Iris-versicolor'),\n",
              " (195.44040000000007, 'Iris-versicolor'),\n",
              " (204.48999999999998, 'Iris-virginica'),\n",
              " (209.9601, 'Iris-versicolor'),\n",
              " (222.01000000000002, 'Iris-virginica'),\n",
              " (228.01000000000005, 'Iris-virginica'),\n",
              " (240.25000000000006, 'Iris-versicolor'),\n",
              " (244.92250000000007, 'Iris-virginica'),\n",
              " (251.53960000000004, 'Iris-versicolor'),\n",
              " (253.76490000000004, 'Iris-virginica'),\n",
              " (264.38759999999996, 'Iris-virginica'),\n",
              " (264.7128999999999, 'Iris-virginica'),\n",
              " (265.0383999999999, 'Iris-versicolor'),\n",
              " (273.90250000000003, 'Iris-virginica'),\n",
              " (278.2224, 'Iris-versicolor'),\n",
              " (289.34009999999995, 'Iris-virginica'),\n",
              " (289.68040000000013, 'Iris-virginica'),\n",
              " (302.4121, 'Iris-virginica'),\n",
              " (311.8755999999999, 'Iris-virginica'),\n",
              " (347.0769000000001, 'Iris-virginica'),\n",
              " (352.31289999999984, 'Iris-virginica'),\n",
              " (399.2003999999999, 'Iris-virginica'),\n",
              " (404.00999999999993, 'Iris-virginica'),\n",
              " (410.46759999999995, 'Iris-virginica'),\n",
              " (411.27840000000003, 'Iris-virginica'),\n",
              " (414.12250000000006, 'Iris-virginica'),\n",
              " (433.4724, 'Iris-virginica'),\n",
              " (459.24490000000014, 'Iris-virginica'),\n",
              " (486.64359999999994, 'Iris-virginica'),\n",
              " (494.17289999999986, 'Iris-virginica'),\n",
              " (508.5024999999999, 'Iris-virginica'),\n",
              " (533.61, 'Iris-virginica'),\n",
              " (561.6899999999999, 'Iris-virginica'),\n",
              " (584.6724, 'Iris-virginica'),\n",
              " (584.6724, 'Iris-virginica'),\n",
              " (602.7024999999999, 'Iris-virginica'),\n",
              " (614.0484, 'Iris-virginica'),\n",
              " (674.9603999999998, 'Iris-virginica'),\n",
              " (694.3225000000001, 'Iris-virginica'),\n",
              " (702.7801, 'Iris-virginica'),\n",
              " (882.0899999999997, 'Iris-virginica'),\n",
              " (982.8224999999996, 'Iris-virginica'),\n",
              " (1122.9201000000003, 'Iris-virginica'),\n",
              " (1221.5024999999996, 'Iris-virginica'),\n",
              " (1320.5956000000003, 'Iris-virginica'),\n",
              " (1323.5044000000003, 'Iris-virginica'),\n",
              " (1605.6049, 'Iris-virginica')]"
            ]
          },
          "metadata": {},
          "execution_count": 11
        }
      ]
    },
    {
      "cell_type": "code",
      "metadata": {
        "id": "aNyWUL0jdaJ4"
      },
      "source": [
        "from collections import Counter\n",
        "\n",
        "def knn(query, k, train):\n",
        "  #query 내가 궁금한 점.\n",
        "\n",
        "  dist = []\n",
        "  for v, c in train:\n",
        "    d = ED(query, v)\n",
        "    dist.append((d,c))\n",
        "\n",
        "  dist.sort()\n",
        "  dist = dist[:k]\n",
        "\n",
        "  cnt_class = {}\n",
        "  for d,c in dist:\n",
        "    if c not in cnt_class:\n",
        "      cnt_class[c] = 0\n",
        "    cnt_class[c] += 1/(d+1) # division by zero 피하기위해(점이 똑같을 때)\n",
        "  return max(cnt_class.items(), key = lambda cc: cc[1])[0]\n",
        "  #카운터로, 가중치 없이.\n",
        "  # cCount = Counter([c for d,c in dist[:k]])\n",
        "  # return cCount.most_common(1)[0][0]\n"
      ],
      "execution_count": 47,
      "outputs": []
    },
    {
      "cell_type": "code",
      "metadata": {
        "colab": {
          "base_uri": "https://localhost:8080/",
          "height": 37
        },
        "id": "8Ab61CUUdh93",
        "outputId": "329c647c-b460-424a-db3c-2d4dc481567a"
      },
      "source": [
        "# test\n",
        "query = test[0][0]\n",
        "result = knn(query, k, train)\n",
        "\n",
        "result"
      ],
      "execution_count": 14,
      "outputs": [
        {
          "output_type": "execute_result",
          "data": {
            "application/vnd.google.colaboratory.intrinsic+json": {
              "type": "string"
            },
            "text/plain": [
              "'Iris-virginica'"
            ]
          },
          "metadata": {},
          "execution_count": 14
        }
      ]
    },
    {
      "cell_type": "code",
      "metadata": {
        "colab": {
          "base_uri": "https://localhost:8080/"
        },
        "id": "11LOIUArgiSZ",
        "outputId": "d04a5956-b322-41d6-939b-c2e95b354251"
      },
      "source": [
        "k = 3\n",
        "correct_cnt = 0\n",
        "for t_vec, t_class in test:\n",
        "  expected = knn(t_vec, k, train)\n",
        "  \n",
        "  if expected == t_class:\n",
        "    print(f\"knn: {expected}, target: {t_class}, O\")\n",
        "    correct_cnt += 1\n",
        "  else:\n",
        "    print(f\"knn: {expected}, target: {t_class}, X\")\n",
        "\n",
        "accuracy = correct_cnt / len(test) \n",
        "accuracy"
      ],
      "execution_count": 15,
      "outputs": [
        {
          "output_type": "stream",
          "name": "stdout",
          "text": [
            "knn: Iris-virginica, target: Iris-virginica, O\n",
            "knn: Iris-setosa, target: Iris-setosa, O\n",
            "knn: Iris-versicolor, target: Iris-versicolor, O\n",
            "knn: Iris-setosa, target: Iris-setosa, O\n",
            "knn: Iris-setosa, target: Iris-setosa, O\n",
            "knn: Iris-virginica, target: Iris-virginica, O\n",
            "knn: Iris-setosa, target: Iris-setosa, O\n",
            "knn: Iris-virginica, target: Iris-virginica, O\n",
            "knn: Iris-setosa, target: Iris-setosa, O\n",
            "knn: Iris-versicolor, target: Iris-versicolor, O\n",
            "knn: Iris-setosa, target: Iris-setosa, O\n",
            "knn: Iris-virginica, target: Iris-versicolor, X\n",
            "knn: Iris-versicolor, target: Iris-versicolor, O\n",
            "knn: Iris-setosa, target: Iris-setosa, O\n",
            "knn: Iris-versicolor, target: Iris-versicolor, O\n",
            "knn: Iris-versicolor, target: Iris-versicolor, O\n",
            "knn: Iris-setosa, target: Iris-setosa, O\n",
            "knn: Iris-virginica, target: Iris-virginica, O\n",
            "knn: Iris-setosa, target: Iris-setosa, O\n",
            "knn: Iris-versicolor, target: Iris-versicolor, O\n",
            "knn: Iris-setosa, target: Iris-setosa, O\n",
            "knn: Iris-setosa, target: Iris-setosa, O\n",
            "knn: Iris-virginica, target: Iris-virginica, O\n",
            "knn: Iris-virginica, target: Iris-virginica, O\n",
            "knn: Iris-virginica, target: Iris-virginica, O\n",
            "knn: Iris-setosa, target: Iris-setosa, O\n",
            "knn: Iris-setosa, target: Iris-setosa, O\n",
            "knn: Iris-versicolor, target: Iris-versicolor, O\n",
            "knn: Iris-virginica, target: Iris-virginica, O\n",
            "knn: Iris-virginica, target: Iris-virginica, O\n"
          ]
        },
        {
          "output_type": "execute_result",
          "data": {
            "text/plain": [
              "0.9666666666666667"
            ]
          },
          "metadata": {},
          "execution_count": 15
        }
      ]
    },
    {
      "cell_type": "code",
      "metadata": {
        "colab": {
          "base_uri": "https://localhost:8080/",
          "height": 285
        },
        "id": "d1lt4NvkhnIy",
        "outputId": "66822cc9-5cfd-4150-f866-777567338480"
      },
      "source": [
        "# 가중치 O\n",
        "X, Y = [], []\n",
        "random.shuffle(data)\n",
        "train = data[:-30]\n",
        "test = data[-30:]\n",
        "\n",
        "n_trials = 1000\n",
        "avg_acc = [0] * 50\n",
        "\n",
        "for n in tqdm(range(n_trials)):\n",
        "  X, Y = [], []\n",
        "  random.shuffle(data)\n",
        "  train = data[:-30]\n",
        "  test = data[-30:]\n",
        "\n",
        "  for k in range(1,50):\n",
        "    correct_cnt = 0\n",
        "    for t_vec, t_class in test:\n",
        "      expected = knn(t_vec, k, train)\n",
        "      \n",
        "      if expected == t_class:\n",
        "        # print(f\"knn: {expected}, target: {t_class}, O\")\n",
        "        correct_cnt += 1\n",
        "      # else:\n",
        "        # print(f\"knn: {expected}, target: {t_class}, X\")\n",
        "\n",
        "    accuracy = correct_cnt / len(test) \n",
        "    avg_acc[k] += accuracy\n",
        "\n",
        "avg_acc = [a/n_trials for a in avg_acc]\n",
        "avg_acc = avg_acc[1:]\n",
        "X = range(1,50)\n",
        "\n",
        "plt.plot(X, avg_acc)\n",
        "plt.show()"
      ],
      "execution_count": 40,
      "outputs": [
        {
          "output_type": "stream",
          "name": "stderr",
          "text": [
            "100%|██████████| 1000/1000 [04:16<00:00,  3.90it/s]\n"
          ]
        },
        {
          "output_type": "display_data",
          "data": {
            "image/png": "[encoded data removed]",
            "text/plain": [
              "<Figure size 432x288 with 1 Axes>"
            ]
          },
          "metadata": {
            "needs_background": "light"
          }
        }
      ]
    },
    {
      "cell_type": "code",
      "metadata": {
        "colab": {
          "base_uri": "https://localhost:8080/",
          "height": 282
        },
        "id": "Tn5tMcZuLEC0",
        "outputId": "ec4fe313-124e-423f-81ab-45ff05957d78"
      },
      "source": [
        "# 가중치 X\n",
        "X, Y = [], []\n",
        "random.shuffle(data)\n",
        "train = data[:-30]\n",
        "test = data[-30:]\n",
        "\n",
        "n_trials = 30\n",
        "avg_acc = [0] * 100\n",
        "\n",
        "for n in tqdm(range(n_trials)):\n",
        "  X, Y = [], []\n",
        "  random.shuffle(data)\n",
        "  train = data[:-30]\n",
        "  test = data[-30:]\n",
        "\n",
        "  for k in range(1,100):\n",
        "    correct_cnt = 0\n",
        "    for t_vec, t_class in test:\n",
        "      expected = knn(t_vec, k, train)\n",
        "      \n",
        "      if expected == t_class:\n",
        "        # print(f\"knn: {expected}, target: {t_class}, O\")\n",
        "        correct_cnt += 1\n",
        "      # else:\n",
        "        # print(f\"knn: {expected}, target: {t_class}, X\")\n",
        "\n",
        "    accuracy = correct_cnt / len(test) \n",
        "    avg_acc[k] += accuracy\n",
        "\n",
        "avg_acc = [a/n_trials for a in avg_acc]\n",
        "avg_acc = avg_acc[1:]\n",
        "X = range(1,100)\n",
        "\n",
        "plt.plot(X, avg_acc)\n",
        "plt.show()"
      ],
      "execution_count": 49,
      "outputs": [
        {
          "output_type": "stream",
          "name": "stderr",
          "text": [
            "100%|██████████| 30/30 [00:15<00:00,  1.91it/s]\n"
          ]
        },
        {
          "output_type": "display_data",
          "data": {
            "image/png": "[encoded data removed]",
            "text/plain": [
              "<Figure size 432x288 with 1 Axes>"
            ]
          },
          "metadata": {
            "needs_background": "light"
          }
        }
      ]
    },
    {
      "cell_type": "code",
      "metadata": {
        "colab": {
          "base_uri": "https://localhost:8080/",
          "height": 285
        },
        "id": "ADNqrqoviNI0",
        "outputId": "0f90ce10-7a66-4b4b-c84c-bcba57635647"
      },
      "source": [
        "# pdf test\n",
        "\n",
        "species = {s: i for i, s in enumerate(set(d[1] for d in data))}\n",
        "data = [(d[0], species[d[1]]) for d in data]\n",
        "\n",
        " \n",
        "plt.scatter([d[0][0] for d in data],\n",
        "            [d[0][1] for d in data], c=[d[1] for d in data], alpha=0.3)\n",
        "plt.show()\n",
        "\n",
        " \n",
        "def distance(a, b): \n",
        "  s= 0\n",
        "  for i in range(len(a[0])):\n",
        "      s += (a[0][i] - b[0][i]) ** 2\n",
        "  return s ** 0.5\n",
        "\n",
        "def knn_classify(k, query, train):\n",
        "  knns = sorted((distance(point, query), point) for point in train)[:k]\n",
        "  # 거리에따라 가중치를 주어 점수 계산 \n",
        "  scores = {}\n",
        "  for dist, point in knns:\n",
        "    scores[point[1]] = scores.get(point[1], 0) + 1/(1+dist)\n",
        "  resp, score = max(scores.items(), key=lambda x: x[1])\n",
        "  return resp\n",
        "\n",
        "k= 1\n",
        "correct = sum(1 for t in test if knn_classify(k, t, train) == t[1]) \n",
        "accuracy = correct/len(test)\n",
        "print(\"accuracy:\", accuracy)"
      ],
      "execution_count": 26,
      "outputs": [
        {
          "output_type": "display_data",
          "data": {
            "image/png": "[encoded data removed]",
            "text/plain": [
              "<Figure size 432x288 with 1 Axes>"
            ]
          },
          "metadata": {
            "needs_background": "light"
          }
        },
        {
          "output_type": "stream",
          "name": "stdout",
          "text": [
            "accuracy: 1.0\n"
          ]
        }
      ]
    },
    {
      "cell_type": "code",
      "metadata": {
        "colab": {
          "base_uri": "https://localhost:8080/",
          "height": 285
        },
        "id": "5zcz6ybpKzfF",
        "outputId": "2265c46c-7b09-44e4-8a01-f4484d8314f0"
      },
      "source": [
        "num_trials = 100\n",
        "train_size = int(len(data) * 0.8)\n",
        "test_size = len(data) - train_size\n",
        "corrects = [0]*20\n",
        "for i in tqdm(range(num_trials)):\n",
        "    random.shuffle(data)\n",
        "    train = data[:train_size]\n",
        "    test = data[train_size:]\n",
        "    for k in range(1,20):\n",
        "        corrects[k] += sum(1 for t in test if knn_classify(k, t, train) == t[1])\n",
        "for k in range(1,20):\n",
        "    corrects[k] /= num_trials * test_size\n",
        "plt.plot(range(1,20), corrects[1:], '-x')\n",
        "plt.show()"
      ],
      "execution_count": 27,
      "outputs": [
        {
          "output_type": "stream",
          "name": "stderr",
          "text": [
            "100%|██████████| 100/100 [00:16<00:00,  6.25it/s]\n"
          ]
        },
        {
          "output_type": "display_data",
          "data": {
            "image/png": "[encoded data removed]",
            "text/plain": [
              "<Figure size 432x288 with 1 Axes>"
            ]
          },
          "metadata": {
            "needs_background": "light"
          }
        }
      ]
    },
    {
      "cell_type": "code",
      "metadata": {
        "id": "sEUyoqRPLoaf"
      },
      "source": [
        ""
      ],
      "execution_count": null,
      "outputs": []
    }
  ]
}